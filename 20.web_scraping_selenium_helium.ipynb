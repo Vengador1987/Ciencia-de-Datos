{
 "cells": [
  {
   "cell_type": "markdown",
   "id": "9201eda6",
   "metadata": {},
   "source": [
    "# Selenium\n",
    "\n",
    "**`Selenium WebDriver`** es una herramienta para recopilar datos de los sitios web y simular las interacciones del usuario.\n",
    "\n",
    "```python\n",
    "pip install selenium\n",
    "```\n",
    "\n",
    "*Documentación: https://selenium-python.readthedocs.io/index.html*\n",
    "\n",
    "Para utilizar **`selenium`** debemos tener el archivo **`chromedriver.exe`** si estamos usando Chrome. Este se puede descargar desde la documentación, hay que descargar el **`chromedriver.exe`** que sea compatible con la version de nuestro navegador."
   ]
  },
  {
   "cell_type": "code",
   "execution_count": null,
   "id": "a8139cbc",
   "metadata": {},
   "outputs": [],
   "source": [
    "import requests \n",
    "\n",
    "from bs4 import BeautifulSoup\n",
    "\n",
    "\n",
    "from selenium import webdriver\n",
    "\n",
    "from time import sleep"
   ]
  },
  {
   "cell_type": "code",
   "execution_count": null,
   "id": "7aa1ff77",
   "metadata": {},
   "outputs": [],
   "source": [
    "# Driver de Chrome\n",
    "\n",
    "chrome_driver = \"chromedriver.exe\""
   ]
  },
  {
   "cell_type": "code",
   "execution_count": null,
   "id": "d0ef31ad",
   "metadata": {},
   "outputs": [],
   "source": [
    "# Ejecutar webdriver.Chrome abrirá una ventana nueva en el navegador \n",
    "# A traves de esta ventana podremos seguir usando selenium\n",
    "\n",
    "browser = webdriver.Chrome(executable_path = chrome_driver)\n",
    "\n",
    "browser.get(\"https://google.com\")\n",
    "\n",
    "browser.maximize_window()"
   ]
  },
  {
   "cell_type": "markdown",
   "id": "ccfa847f",
   "metadata": {},
   "source": [
    "Para \"encontrar\" los elementos de una página web podemos usar sus características. Usando las herramientas del navegador podemos elegir cual usar, los métodos para buscar son estos:\n",
    "\n",
    "\n",
    "|Método                                     |\n",
    "|-------------------------------------------|\n",
    "|**`.find_element_by_id()`**                |\n",
    "|**`.find_element_by_name()`**              |\n",
    "|**`.find_element_by_xpath()`**             |\n",
    "|**`.find_element_by_link_text()`**         |\n",
    "|**`.find_element_by_partial_link_text()`** |\n",
    "|**`.find_element_by_tag_name()`**          |\n",
    "|**`.find_element_by_class_name()`**        |\n",
    "|**`.find_element_by_css_selector()`**      |\n",
    "|**`.find_elements_by_name()`**             |\n",
    "|**`.find_elements_by_xpath()`**            |\n",
    "|**`.find_elements_by_link_text()`**        |\n",
    "|**`.find_elements_by_partial_link_text()`**|\n",
    "|**`.find_elements_by_tag_name()`**         |\n",
    "|**`.find_elements_by_class_name()`**       |\n",
    "|**`.find_elements_by_css_selector()`**     |"
   ]
  },
  {
   "cell_type": "code",
   "execution_count": null,
   "id": "35cd8424",
   "metadata": {},
   "outputs": [],
   "source": [
    "# Aceptamos los términos de google\n",
    "\n",
    "browser.find_element_by_css_selector(\"#L2AGLb > div\").click()"
   ]
  },
  {
   "cell_type": "code",
   "execution_count": null,
   "id": "83859267",
   "metadata": {
    "scrolled": true
   },
   "outputs": [],
   "source": [
    "# En el buscador de google escribimos \"Python\"\n",
    "\n",
    "# Encontramos el buscador\n",
    "buscador = browser.find_element_by_xpath(\"/html/body/div[1]/div[3]/form/div[1]/div[1]/div[1]/div/div[2]/input\")\n",
    "\n",
    "sleep(1)\n",
    "\n",
    "# .clear() limpia lo que este escrito\n",
    "buscador.clear()\n",
    "\n",
    "sleep(1)\n",
    "\n",
    "# .send_keys() escribe\n",
    "buscador.send_keys(\"Python\")\n",
    "\n",
    "sleep(1)\n",
    "\n",
    "#.submit() hace submit.\n",
    "buscador.submit()"
   ]
  },
  {
   "cell_type": "code",
   "execution_count": null,
   "id": "03f5a8e1",
   "metadata": {},
   "outputs": [],
   "source": [
    "# .current_url retorna el url de la página del navegador.\n",
    "\n",
    "browser.current_url"
   ]
  },
  {
   "cell_type": "code",
   "execution_count": null,
   "id": "e0c9a2bd",
   "metadata": {},
   "outputs": [],
   "source": [
    "# Con .page_source sacamos el html de esa página\n",
    "\n",
    "browser.page_source"
   ]
  },
  {
   "cell_type": "code",
   "execution_count": null,
   "id": "c067c6f1",
   "metadata": {},
   "outputs": [],
   "source": [
    "# En este punto ya podemos usar BeautifulSoup para sacar la información.\n",
    "\n",
    "soup = BeautifulSoup(browser.page_source, \"html.parser\")"
   ]
  },
  {
   "cell_type": "code",
   "execution_count": null,
   "id": "88c1755a",
   "metadata": {},
   "outputs": [],
   "source": [
    "soup"
   ]
  },
  {
   "cell_type": "code",
   "execution_count": null,
   "id": "ed7cb155",
   "metadata": {},
   "outputs": [],
   "source": [
    "# Si queremos ir a la página anterior, podemos hacer:\n",
    "\n",
    "browser.back()"
   ]
  },
  {
   "cell_type": "code",
   "execution_count": null,
   "id": "67077a62",
   "metadata": {},
   "outputs": [],
   "source": [
    "# Y si quisieramos cerrar el navegador:\n",
    "\n",
    "browser.quit()"
   ]
  },
  {
   "cell_type": "markdown",
   "id": "41e29a81",
   "metadata": {},
   "source": [
    "# Helium\n",
    "\n",
    "**`helium`** es otra libreria de python para automatizar web scraping. Está construida sobre **`selenium`**. Según su documentación, **`helium`** es más fácil de usar que **`selenium`**.\n",
    "\n",
    "```python\n",
    "pip install helium\n",
    "```\n",
    "\n",
    "*Documentation: https://selenium-python-helium.readthedocs.io/en/latest/*"
   ]
  },
  {
   "cell_type": "code",
   "execution_count": null,
   "id": "d9de7b46",
   "metadata": {},
   "outputs": [],
   "source": [
    "import helium"
   ]
  },
  {
   "cell_type": "code",
   "execution_count": null,
   "id": "acae129f",
   "metadata": {},
   "outputs": [],
   "source": [
    "# Vamos a intentar extraer el html de esta página usando solo bs4\n",
    "\n",
    "url = \"https://www.online.bmsupermercados.es/es/c/ofertas/99999\"\n",
    "\n",
    "response = requests.get(url)\n",
    "soup = BeautifulSoup(response.text, \"html.parser\")\n",
    "\n",
    "soup\n",
    "\n",
    "# Vemos que no toma toda la información de la página"
   ]
  },
  {
   "cell_type": "code",
   "execution_count": null,
   "id": "8ee592bc",
   "metadata": {},
   "outputs": [],
   "source": [
    "# Vamos a hacer lo mismo pero esta vez usando Helium\n",
    "\n",
    "url = \"https://www.online.bmsupermercados.es/es/c/ofertas/99999\"\n",
    "\n",
    "browser = helium.start_chrome(url, headless = True)\n",
    "\n",
    "# Hay que hacer sleep para que de tiempo de cargar la pagina\n",
    "\n",
    "sleep(10)\n",
    "\n",
    "# Hacemos .page_source para tomer el html de la página\n",
    "\n",
    "soup = BeautifulSoup(browser.page_source, \"html.parser\")\n",
    "\n",
    "soup\n",
    "\n",
    "# Ahora si tomó toda la información, esto es porque le da tiempo a la página para poder cargar el html"
   ]
  },
  {
   "cell_type": "markdown",
   "id": "a7125b9f",
   "metadata": {},
   "source": [
    "# Guardar imagenes usando `requests` y `shutil`:"
   ]
  },
  {
   "cell_type": "code",
   "execution_count": null,
   "id": "0cf2008c",
   "metadata": {},
   "outputs": [],
   "source": [
    "import requests\n",
    "\n",
    "import shutil"
   ]
  },
  {
   "cell_type": "code",
   "execution_count": null,
   "id": "4e64ab07",
   "metadata": {},
   "outputs": [],
   "source": [
    "url = \"https://google.com/\"\n",
    "\n",
    "browser = helium.start_chrome(url, headless = True)\n",
    "\n",
    "sleep(3)\n",
    "\n",
    "soup = BeautifulSoup(browser.page_source, \"html.parser\")"
   ]
  },
  {
   "cell_type": "code",
   "execution_count": null,
   "id": "0f0f7155",
   "metadata": {},
   "outputs": [],
   "source": [
    "img_enlace = soup.find(\"img\", class_ = \"lnXdpd\")[\"srcset\"].split(\",\")[0].split(\" \")[0]\n",
    "\n",
    "img_enlace = f'https://www.google.com{img_enlace}'\n",
    "\n",
    "img_enlace"
   ]
  },
  {
   "cell_type": "code",
   "execution_count": null,
   "id": "9796bb5c",
   "metadata": {},
   "outputs": [],
   "source": [
    "response_img = requests.get(img_enlace, stream = True)\n",
    "\n",
    "with open(\"google.png\", \"bw\") as file:\n",
    "    response_img.raw.decode_content = True\n",
    "    shutil.copyfileobj(response_img.raw, file)"
   ]
  }
 ],
 "metadata": {
  "kernelspec": {
   "display_name": "Python 3 (ipykernel)",
   "language": "python",
   "name": "python3"
  },
  "language_info": {
   "codemirror_mode": {
    "name": "ipython",
    "version": 3
   },
   "file_extension": ".py",
   "mimetype": "text/x-python",
   "name": "python",
   "nbconvert_exporter": "python",
   "pygments_lexer": "ipython3",
   "version": "3.9.7"
  }
 },
 "nbformat": 4,
 "nbformat_minor": 5
}
