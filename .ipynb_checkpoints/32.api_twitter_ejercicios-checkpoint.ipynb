{
 "cells": [
  {
   "cell_type": "markdown",
   "id": "30a8637f",
   "metadata": {},
   "source": [
    "## Ejercicios Api Twitter"
   ]
  },
  {
   "cell_type": "code",
   "execution_count": null,
   "id": "8dbc68be",
   "metadata": {},
   "outputs": [],
   "source": [
    "import numpy as np\n",
    "import pandas as pd\n",
    "\n",
    "from matplotlib import pyplot as plt\n",
    "import seaborn as sns\n",
    "\n",
    "from time import sleep\n",
    "\n",
    "import tweepy"
   ]
  },
  {
   "cell_type": "code",
   "execution_count": null,
   "id": "a89ff227",
   "metadata": {},
   "outputs": [],
   "source": [
    "consumer_key        = \"XXXXXXXXXXXXXXXXXXXXXXXXX\"\n",
    "consumer_secret     = \"XXXXXXXXXXXXXXXXXXXXXXXXXXXXXXXXXXXXXXXXXXXXXXXXXX\"\n",
    "access_token        = \"XXXXXXXXXXXXXXXXXXXXXXXXXXXXXXXXXXXXXXXXXXXXXXXXXX\"\n",
    "access_token_secret = \"XXXXXXXXXXXXXXXXXXXXXXXXXXXXXXXXXXXXXXXXXXXXX\"\n",
    "\n",
    "auth = tweepy.OAuthHandler(consumer_key, consumer_secret)\n",
    "auth.set_access_token(access_token, access_token_secret)\n",
    "api = tweepy.API(auth)"
   ]
  },
  {
   "cell_type": "markdown",
   "id": "b713c10b",
   "metadata": {},
   "source": [
    "### Ejercicio 1:\n",
    "- Obtén 2 imágenes de **todocuadro.es** con la información de las imágenes (Nombre, Autor, Estilo y Técnica) y haz un tweet con cada imagen con el siguiente texto: **“El Cuadro llamado “Nombre” de “Autor”, el estilo es “Estilo” y la técnica utilizada es “Técnica” #Nombre #Autor**."
   ]
  },
  {
   "cell_type": "code",
   "execution_count": null,
   "id": "0b920b22",
   "metadata": {},
   "outputs": [],
   "source": []
  },
  {
   "cell_type": "code",
   "execution_count": null,
   "id": "aed50f4d",
   "metadata": {},
   "outputs": [],
   "source": []
  },
  {
   "cell_type": "code",
   "execution_count": null,
   "id": "c86bf84a",
   "metadata": {},
   "outputs": [],
   "source": []
  },
  {
   "cell_type": "markdown",
   "id": "a3ef4bc8",
   "metadata": {},
   "source": [
    "### Ejercicio 2:\n",
    "- Realiza una búsqueda de los siguientes hashtags y obtén 5 tweets por cada hashtag: \n",
    "    - **#MachineLearning**\n",
    "    - **#DeepLearning**\n",
    "    - **#Python**\n",
    "    - **#RegularExpressions**\n",
    "    - **#JSON**"
   ]
  },
  {
   "cell_type": "code",
   "execution_count": null,
   "id": "a517d0d4",
   "metadata": {},
   "outputs": [],
   "source": []
  },
  {
   "cell_type": "code",
   "execution_count": null,
   "id": "a530cd37",
   "metadata": {},
   "outputs": [],
   "source": []
  },
  {
   "cell_type": "code",
   "execution_count": null,
   "id": "707abd14",
   "metadata": {},
   "outputs": [],
   "source": []
  },
  {
   "cell_type": "markdown",
   "id": "99524201",
   "metadata": {},
   "source": [
    "### Ejercicio 3:\n",
    "- Obtén la siguiente información de cada tweet del ejercicio anterior: \n",
    "    - **Tweet**\n",
    "    - **Name**\n",
    "    - **Location**\n",
    "    - **Id**\n",
    "    - **Date**\n",
    "    - **Re tweets**\n",
    "    - **Fav**\n",
    "\n",
    "Guarda esta información en un **`DataFrame`**."
   ]
  },
  {
   "cell_type": "code",
   "execution_count": null,
   "id": "8d6a4bc1",
   "metadata": {},
   "outputs": [],
   "source": []
  },
  {
   "cell_type": "code",
   "execution_count": null,
   "id": "6bca4873",
   "metadata": {},
   "outputs": [],
   "source": []
  },
  {
   "cell_type": "code",
   "execution_count": null,
   "id": "ddf76db0",
   "metadata": {},
   "outputs": [],
   "source": []
  },
  {
   "cell_type": "markdown",
   "id": "d890bb1c",
   "metadata": {},
   "source": [
    "### Ejercicio 4:\n",
    "- Obtén todos los tweets de **`20_minutos`** y crea un **`DataFrame`** con las columnas **`text, date, id, rt, fav, year, month, weekday, hour`**."
   ]
  },
  {
   "cell_type": "code",
   "execution_count": null,
   "id": "7ae8c6d1",
   "metadata": {},
   "outputs": [],
   "source": []
  },
  {
   "cell_type": "code",
   "execution_count": null,
   "id": "ada9441a",
   "metadata": {},
   "outputs": [],
   "source": []
  },
  {
   "cell_type": "code",
   "execution_count": null,
   "id": "89f902dd",
   "metadata": {},
   "outputs": [],
   "source": []
  },
  {
   "cell_type": "markdown",
   "id": "f86d65f0",
   "metadata": {},
   "source": [
    "### Ejercicio 5:\n",
    "- Obtén una lista de los hashtags del conjunto de tweets y cuentalos."
   ]
  },
  {
   "cell_type": "code",
   "execution_count": null,
   "id": "fc2a5ea9",
   "metadata": {},
   "outputs": [],
   "source": []
  },
  {
   "cell_type": "code",
   "execution_count": null,
   "id": "ba31576f",
   "metadata": {},
   "outputs": [],
   "source": []
  },
  {
   "cell_type": "code",
   "execution_count": null,
   "id": "33bbd57a",
   "metadata": {},
   "outputs": [],
   "source": []
  },
  {
   "cell_type": "markdown",
   "id": "07a63f9f",
   "metadata": {},
   "source": [
    "### Ejercicio 6:\n",
    "- Obtén el número de tweets por año, por mes de cada año, por día de la semana y la dispersión por horario."
   ]
  },
  {
   "cell_type": "code",
   "execution_count": null,
   "id": "501e33aa",
   "metadata": {},
   "outputs": [],
   "source": []
  },
  {
   "cell_type": "code",
   "execution_count": null,
   "id": "871ac876",
   "metadata": {},
   "outputs": [],
   "source": []
  },
  {
   "cell_type": "code",
   "execution_count": null,
   "id": "34991ab6",
   "metadata": {},
   "outputs": [],
   "source": []
  },
  {
   "cell_type": "markdown",
   "id": "d3dfc135",
   "metadata": {},
   "source": [
    "### Ejercicio 7:\n",
    "- Cuenta el número de palabras de todos los tweets y busca las primeras 20 que más aparecen."
   ]
  },
  {
   "cell_type": "code",
   "execution_count": null,
   "id": "347d32b7",
   "metadata": {},
   "outputs": [],
   "source": []
  },
  {
   "cell_type": "code",
   "execution_count": null,
   "id": "bb90b904",
   "metadata": {},
   "outputs": [],
   "source": []
  },
  {
   "cell_type": "code",
   "execution_count": null,
   "id": "c2ccdc15",
   "metadata": {},
   "outputs": [],
   "source": []
  },
  {
   "cell_type": "markdown",
   "id": "7e1e1bdc",
   "metadata": {},
   "source": [
    "### Ejercicio 8:\n",
    "- Repite el paso anterior para cada año y observa si cambian de un año a otro y sí es así, agrega a una lista las que van cambiando."
   ]
  },
  {
   "cell_type": "code",
   "execution_count": null,
   "id": "93b75695",
   "metadata": {},
   "outputs": [],
   "source": []
  },
  {
   "cell_type": "code",
   "execution_count": null,
   "id": "5642622c",
   "metadata": {},
   "outputs": [],
   "source": []
  },
  {
   "cell_type": "code",
   "execution_count": null,
   "id": "5676311a",
   "metadata": {},
   "outputs": [],
   "source": []
  },
  {
   "cell_type": "markdown",
   "id": "e6d9494a",
   "metadata": {},
   "source": [
    "### Ejercicio 9:\n",
    "- Repite los ejercicio del 4 al 8 con otra cuenta de twitter de noticias. Compara los resultados de ambas cuentas."
   ]
  },
  {
   "cell_type": "code",
   "execution_count": null,
   "id": "c9742ab6",
   "metadata": {},
   "outputs": [],
   "source": []
  },
  {
   "cell_type": "code",
   "execution_count": null,
   "id": "64dec9d3",
   "metadata": {},
   "outputs": [],
   "source": []
  },
  {
   "cell_type": "code",
   "execution_count": null,
   "id": "05fd5f8d",
   "metadata": {},
   "outputs": [],
   "source": []
  }
 ],
 "metadata": {
  "kernelspec": {
   "display_name": "Python 3",
   "language": "python",
   "name": "python3"
  },
  "language_info": {
   "codemirror_mode": {
    "name": "ipython",
    "version": 3
   },
   "file_extension": ".py",
   "mimetype": "text/x-python",
   "name": "python",
   "nbconvert_exporter": "python",
   "pygments_lexer": "ipython3",
   "version": "3.8.8"
  }
 },
 "nbformat": 4,
 "nbformat_minor": 5
}
