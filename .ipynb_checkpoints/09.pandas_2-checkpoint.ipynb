{
 "cells": [
  {
   "cell_type": "markdown",
   "id": "d09695d7",
   "metadata": {},
   "source": [
    "# pandas teoria 2"
   ]
  },
  {
   "cell_type": "code",
   "execution_count": null,
   "id": "2174414a",
   "metadata": {},
   "outputs": [],
   "source": [
    "import numpy as np\n",
    "import pandas as pd"
   ]
  },
  {
   "cell_type": "code",
   "execution_count": null,
   "id": "af665ad8",
   "metadata": {},
   "outputs": [],
   "source": [
    "df = pd.DataFrame({\"Nombre\" : [\"Gael\", \"Paola\", \"Maria\", \"Josue\", \"Martha\", \"Romero\", \"Sandra\"],\n",
    "                   \"Edad\" : [27, 28, 29, 28, 30, 30, 28]})\n",
    "\n",
    "df[\"Residencia\"] = [\"Madrid\", \"Madrid\", \"Bilbao\", \"Madrid\", \"Madrid\", \"Zaragoza\", \"?\"]\n",
    "\n",
    "df"
   ]
  },
  {
   "cell_type": "code",
   "execution_count": null,
   "id": "adf233a6",
   "metadata": {},
   "outputs": [],
   "source": [
    "df.info()"
   ]
  },
  {
   "cell_type": "markdown",
   "id": "81934339",
   "metadata": {},
   "source": [
    "### Cambiar el tipo de datos"
   ]
  },
  {
   "cell_type": "code",
   "execution_count": null,
   "id": "2438e766",
   "metadata": {},
   "outputs": [],
   "source": [
    "# Modificar el tipo de dato de la columna \"edad\" a \"int8\"\n",
    "\n",
    "df[\"Edad\"] = df[\"Edad\"].astype(\"int8\")\n",
    "\n",
    "df.dtypes"
   ]
  },
  {
   "cell_type": "code",
   "execution_count": null,
   "id": "7d0bedf4",
   "metadata": {},
   "outputs": [],
   "source": [
    "# Cambiar el tipo de dato de la columna \"Nombre\" a \"category\"\n",
    "\n",
    "df[\"Nombre\"] = df[\"Nombre\"].astype(\"category\")\n",
    "\n",
    "df.dtypes"
   ]
  },
  {
   "cell_type": "code",
   "execution_count": null,
   "id": "f4a1ce67",
   "metadata": {},
   "outputs": [],
   "source": [
    "# Ahora es tipo \"category\"\n",
    "\n",
    "df[\"Nombre\"]"
   ]
  },
  {
   "cell_type": "code",
   "execution_count": null,
   "id": "9213d23b",
   "metadata": {},
   "outputs": [],
   "source": [
    "# Esta columna sigue siendo \"object\"\n",
    "\n",
    "df[\"Residencia\"]"
   ]
  },
  {
   "cell_type": "code",
   "execution_count": null,
   "id": "ec717728",
   "metadata": {},
   "outputs": [],
   "source": [
    "# Cambiar 2 o más a la vez\n",
    "\n",
    "df[[\"Nombre\", \"Residencia\"]] = df[[\"Nombre\", \"Residencia\"]].astype(\"category\")\n",
    "\n",
    "df.info()"
   ]
  },
  {
   "cell_type": "markdown",
   "id": "5c998563",
   "metadata": {},
   "source": [
    "### Filtrado de Datos"
   ]
  },
  {
   "cell_type": "code",
   "execution_count": null,
   "id": "cfd0b0e3",
   "metadata": {},
   "outputs": [],
   "source": [
    "# Filtramos sobre la misma columna\n",
    "\n",
    "df[(df[\"Residencia\"] == \"Madrid\") | (df[\"Residencia\"] == \"Bilbao\")]"
   ]
  },
  {
   "cell_type": "code",
   "execution_count": null,
   "id": "b74e93cc",
   "metadata": {},
   "outputs": [],
   "source": [
    "# El mismo resultado se puede lograr con: .isin()\n",
    "\n",
    "df[df[\"Residencia\"].isin([\"Madrid\", \"Bilbao\"])]"
   ]
  },
  {
   "cell_type": "code",
   "execution_count": null,
   "id": "a44ba59a",
   "metadata": {},
   "outputs": [],
   "source": [
    "df[df[\"Edad\"].isin([30, 28])]"
   ]
  },
  {
   "cell_type": "code",
   "execution_count": null,
   "id": "d587e43d",
   "metadata": {},
   "outputs": [],
   "source": [
    "# Si quisieramos filtrar por un rango, podemos usar: .between()\n",
    "# Los dos extremos son incluidos\n",
    "# Solo se puede usar en columnas númericas\n",
    "\n",
    "df[(df[\"Edad\"].between(28, 29))]"
   ]
  },
  {
   "cell_type": "code",
   "execution_count": null,
   "id": "96a0ee54",
   "metadata": {},
   "outputs": [],
   "source": [
    "# Con ~ podemos obtener el resultado opuesto:\n",
    "\n",
    "df[~(df[\"Edad\"].between(28, 29))]"
   ]
  },
  {
   "cell_type": "code",
   "execution_count": null,
   "id": "50c719d4",
   "metadata": {},
   "outputs": [],
   "source": [
    "# Si tenemos más de 1 condición debemos agruparlas con parentesis ()\n",
    "\n",
    "df[(df[\"Edad\"].isin([30, 28])) & (df[\"Residencia\"] != \"Madrid\")]"
   ]
  },
  {
   "cell_type": "code",
   "execution_count": null,
   "id": "d0a2df4f",
   "metadata": {},
   "outputs": [],
   "source": [
    "# Con .duplicated() vemos las filas que tengan valores repetidos, no muestra las primera apariciones\n",
    "\n",
    "df[df[\"Edad\"].duplicated()]"
   ]
  },
  {
   "cell_type": "code",
   "execution_count": null,
   "id": "35325c1f",
   "metadata": {},
   "outputs": [],
   "source": [
    "df"
   ]
  },
  {
   "cell_type": "markdown",
   "id": "9cf4b5a4",
   "metadata": {},
   "source": [
    "### Reemplazar elementos en un DataFrame"
   ]
  },
  {
   "cell_type": "code",
   "execution_count": null,
   "id": "67f65776",
   "metadata": {},
   "outputs": [],
   "source": [
    "# .replace() funciona similar a la función de cadenas de caracteres\n",
    "# Estos cambios NO son in-place\n",
    "\n",
    "df[\"Residencia\"].replace(\"Madrid\", \"MADRID\")"
   ]
  },
  {
   "cell_type": "code",
   "execution_count": null,
   "id": "74b4f432",
   "metadata": {},
   "outputs": [],
   "source": [
    "df"
   ]
  },
  {
   "cell_type": "code",
   "execution_count": null,
   "id": "954f6bf9",
   "metadata": {},
   "outputs": [],
   "source": [
    "# Para hacerlo inplace podemos agregar:\n",
    "\n",
    "df[\"Residencia\"].replace(\"Madrid\", \"MADRID\", inplace = True)"
   ]
  },
  {
   "cell_type": "code",
   "execution_count": null,
   "id": "189cc544",
   "metadata": {},
   "outputs": [],
   "source": [
    "df"
   ]
  },
  {
   "cell_type": "code",
   "execution_count": null,
   "id": "0036bf85",
   "metadata": {},
   "outputs": [],
   "source": [
    "# Podemos reemplazar \"?\" por un np.nan\n",
    "# Esta es otra forma de sobreescribir la columna\n",
    "\n",
    "df[\"Residencia\"] = df[\"Residencia\"].replace(\"?\",np.nan)\n",
    "\n",
    "df"
   ]
  },
  {
   "cell_type": "code",
   "execution_count": null,
   "id": "42e87f77",
   "metadata": {},
   "outputs": [],
   "source": [
    "# .replace() puede tomar un diccionario como parametro\n",
    "# El diccionario va a tener llaves y valores\n",
    "# Lo que significa que cada vez que encuentre una llave en la columna lo va a sustituir por su valor\n",
    "\n",
    "diccionario = {\"Gael\" : \"Pedro\",\n",
    "               \"Paola\" : \"Andrea\"}\n",
    "\n",
    "df[\"Nombre\"].replace(diccionario)"
   ]
  },
  {
   "cell_type": "markdown",
   "id": "4dc54136",
   "metadata": {},
   "source": [
    "### Concatenación"
   ]
  },
  {
   "cell_type": "markdown",
   "id": "689d0d0b",
   "metadata": {},
   "source": [
    "### Horizontal"
   ]
  },
  {
   "cell_type": "code",
   "execution_count": null,
   "id": "d1876523",
   "metadata": {},
   "outputs": [],
   "source": [
    "df1 = pd.DataFrame({\"Columna_1\" : [\"A\", \"B\"],\n",
    "                    \"Columna_2\" : [\"C\", \"D\"]})\n",
    "\n",
    "df2 = pd.DataFrame({\"Columna_3\" : [\"E\", \"F\"],\n",
    "                    \"Columna_4\" : [\"G\", \"H\"]})"
   ]
  },
  {
   "cell_type": "code",
   "execution_count": null,
   "id": "0238364e",
   "metadata": {},
   "outputs": [],
   "source": [
    "df1"
   ]
  },
  {
   "cell_type": "code",
   "execution_count": null,
   "id": "70e527f0",
   "metadata": {},
   "outputs": [],
   "source": [
    "df2"
   ]
  },
  {
   "cell_type": "code",
   "execution_count": null,
   "id": "86e2f16f",
   "metadata": {},
   "outputs": [],
   "source": [
    "# Para concatenar horizontalmente hay que usar axis = 1\n",
    "pd.concat([df1, df2], axis = 1)"
   ]
  },
  {
   "cell_type": "code",
   "execution_count": null,
   "id": "28f9855d",
   "metadata": {},
   "outputs": [],
   "source": [
    "# Usando un solo pd.concat() podemos concatenar varios DataFrames a la vez, incluso repetirlos\n",
    "\n",
    "pd.concat([df1, df2, df2, df2], axis = 1)"
   ]
  },
  {
   "cell_type": "markdown",
   "id": "51e19506",
   "metadata": {},
   "source": [
    "### Verticalmente"
   ]
  },
  {
   "cell_type": "code",
   "execution_count": null,
   "id": "f8821ad7",
   "metadata": {},
   "outputs": [],
   "source": [
    "df1 = pd.DataFrame({\"Columna_1\" : [\"A\", \"B\", \"1\"],\n",
    "                    \"Columna_2\" : [\"C\", \"D\", \"2\"]})\n",
    "\n",
    "df2 = pd.DataFrame({\"Columna_1\" : [\"E\", \"F\"],\n",
    "                    \"Columna_2\" : [\"G\", \"H\"]})\n",
    "\n",
    "# Ambos tienen el mismo nombre en las columnas"
   ]
  },
  {
   "cell_type": "code",
   "execution_count": null,
   "id": "6e158d31",
   "metadata": {},
   "outputs": [],
   "source": [
    "df1"
   ]
  },
  {
   "cell_type": "code",
   "execution_count": null,
   "id": "74027519",
   "metadata": {},
   "outputs": [],
   "source": [
    "df2"
   ]
  },
  {
   "cell_type": "code",
   "execution_count": null,
   "id": "17175968",
   "metadata": {},
   "outputs": [],
   "source": [
    "# Como tienen el mismo nombre de columnas, pandas los agrupa automaticamente\n",
    "\n",
    "pd.concat([df1, df2], axis = 0)"
   ]
  },
  {
   "cell_type": "code",
   "execution_count": null,
   "id": "309de805",
   "metadata": {},
   "outputs": [],
   "source": [
    "df3 = pd.DataFrame({\"Columna_1\" : [\"E\", \"F\"],\n",
    "                    \"Columna_3\" : [\"G\", \"H\"]})\n",
    "\n",
    "df3"
   ]
  },
  {
   "cell_type": "code",
   "execution_count": null,
   "id": "b84e1161",
   "metadata": {},
   "outputs": [],
   "source": [
    "# En este ejemplo los DataFrames tienen columnas diferentes\n",
    "\n",
    "pd.concat([df1, df3], axis = 0)\n",
    "\n",
    "# Por eso, pandas agrupa la columna en comun, y las que sean diferentes las llena con NaN's"
   ]
  },
  {
   "cell_type": "code",
   "execution_count": null,
   "id": "faf04b77",
   "metadata": {},
   "outputs": [],
   "source": [
    "# Si nos fijamos, pandas incluso concatena los indices, para evitar este comportamiento podemos agregar otro parametro:\n",
    "\n",
    "pd.concat([df1, df3], axis = 0, ignore_index = True)"
   ]
  },
  {
   "cell_type": "code",
   "execution_count": null,
   "id": "7ce82600",
   "metadata": {},
   "outputs": [],
   "source": [
    "# Otra forma de concatenar verticalmente es usando .append()\n",
    "\n",
    "df4 = df1.append(df2)\n",
    "\n",
    "df4"
   ]
  },
  {
   "cell_type": "code",
   "execution_count": null,
   "id": "0b9d3a1c",
   "metadata": {},
   "outputs": [],
   "source": [
    "# En el caso de que las columnas no coincidan sucede lo mismo que en pd.concat()\n",
    "\n",
    "df5 = df1.append(df3)\n",
    "\n",
    "df5"
   ]
  },
  {
   "cell_type": "markdown",
   "id": "b8205925",
   "metadata": {},
   "source": [
    "### Merge"
   ]
  },
  {
   "cell_type": "code",
   "execution_count": null,
   "id": "e3f4a1d5",
   "metadata": {},
   "outputs": [],
   "source": [
    "df1 = pd.DataFrame({\"Nombre\" : [\"Gael\", \"Paola\", \"Maria\", \"Josue\", \"Martha\", \"Romero\", \"Sandra\"],\n",
    "                    \"Edad\" : [27, 28, 29, 28, 30, 30, 28]})\n",
    "df1"
   ]
  },
  {
   "cell_type": "code",
   "execution_count": null,
   "id": "ae200a6c",
   "metadata": {},
   "outputs": [],
   "source": [
    "df2 = pd.DataFrame({\"Nombre\" : [\"Gael\", \"Paola\", \"Maria\", \"Josue\", \"Martha\", \"Romero\", \"Sandro\"],\n",
    "                    \"Residencia\" : [\"Madrid\", \"Madrid\", \"Bilbao\", \"Madrid\", \"Madrid\", \"Zaragoza\", \"Sevilla\"]})\n",
    "df2"
   ]
  },
  {
   "cell_type": "code",
   "execution_count": null,
   "id": "e0f6b926",
   "metadata": {},
   "outputs": [],
   "source": [
    "# pd.merge() Une dos DataFrames que tengan una columna en común:\n",
    "# Por defecto \"how\" es \"inner\"\n",
    "\n",
    "pd.merge(left = df1, right = df2, left_on = \"Nombre\", right_on = \"Nombre\", how = \"inner\")"
   ]
  },
  {
   "cell_type": "code",
   "execution_count": null,
   "id": "33360dbb",
   "metadata": {},
   "outputs": [],
   "source": [
    "pd.merge(left = df1, right = df2, left_on = \"Nombre\", right_on = \"Nombre\", how = \"outer\")"
   ]
  },
  {
   "cell_type": "code",
   "execution_count": null,
   "id": "5c5269ef",
   "metadata": {},
   "outputs": [],
   "source": [
    "# pd.merge() usando otros parámetros:\n",
    "# Nota: esto solo funciona si ambos DataFrames tienen la columna con el mismo nombre\n",
    "\n",
    "pd.merge(left = df1, right = df2, on = \"Nombre\")"
   ]
  },
  {
   "cell_type": "code",
   "execution_count": null,
   "id": "4585154d",
   "metadata": {},
   "outputs": [],
   "source": []
  }
 ],
 "metadata": {
  "kernelspec": {
   "display_name": "Python 3",
   "language": "python",
   "name": "python3"
  },
  "language_info": {
   "codemirror_mode": {
    "name": "ipython",
    "version": 3
   },
   "file_extension": ".py",
   "mimetype": "text/x-python",
   "name": "python",
   "nbconvert_exporter": "python",
   "pygments_lexer": "ipython3",
   "version": "3.8.8"
  }
 },
 "nbformat": 4,
 "nbformat_minor": 5
}
