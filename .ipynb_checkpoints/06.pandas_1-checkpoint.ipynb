{
 "cells": [
  {
   "cell_type": "markdown",
   "id": "654ae45a",
   "metadata": {},
   "source": [
    "# pandas\n",
    "\n",
    "**`pandas`** es una de las librerías más utilizadas para el análisis de datos en Python.\n",
    "\n",
    "Proporciona una estructura que permite trabajar los datos y aplicar procesamiento a grandes bases de datos de forma eficiente.\n",
    "\n",
    "Consta principalmente de dos estructuras:\n",
    "- **`Series`**: Arreglos de una dimensión.\n",
    "\n",
    "\n",
    "- **`DataFrame`**: Estructura de datos de dos dimensiones similar a una tabla de Excel o una base de datos relacional en SQL. Está conformada por **`Series`**.\n",
    "\n",
    "```python \n",
    "import pandas as pd\n",
    "```\n",
    "\n",
    "## Series\n",
    "\n",
    "Las **`Series`** son un tipo de dato similar a un arreglo de una dimensión de **`NumPy`** o a una lista.\n",
    "\n",
    "Para inicializar una **`Serie`** necesitamos un objeto iterable.\n",
    "\n",
    "```python\n",
    "serie = pd.Series([\"a\", \"b\", \"c\", \"d\"])\n",
    "```"
   ]
  },
  {
   "cell_type": "code",
   "execution_count": null,
   "id": "56a0e10f",
   "metadata": {},
   "outputs": [],
   "source": [
    "import pandas as pd"
   ]
  },
  {
   "cell_type": "code",
   "execution_count": null,
   "id": "b6c9631f",
   "metadata": {},
   "outputs": [],
   "source": [
    "# pd.Series() vacia\n",
    "\n",
    "pd.Series()"
   ]
  },
  {
   "cell_type": "code",
   "execution_count": null,
   "id": "f9492d12",
   "metadata": {},
   "outputs": [],
   "source": [
    "serie = pd.Series([\"a\", \"b\", \"c\", \"d\"], name = \"letras\")\n",
    "\n",
    "serie"
   ]
  },
  {
   "cell_type": "markdown",
   "id": "de2cd12f",
   "metadata": {},
   "source": [
    "## DataFrame\n",
    "\n",
    "Un **`DataFrame`** es una estructura de datos bidimensional compuesta por **filas y columnas**, las filas se identifican con un índice y las columnas con una etiqueta o nombre de columna. Los elementos dentro del table pueden ser enteros, booleanos, cadenas, listas, tuplas...\n",
    "\n",
    "Los **`DataFrames`** pueden ser creados a partir de múltiple tipos de datos de entrada:\n",
    "\n",
    "- **`list()`**\n",
    "\n",
    "\n",
    "- **`dict()`**\n",
    "\n",
    "\n",
    "- **`.csv`**\n",
    "\n",
    "\n",
    "- **`.xlsx`**\n",
    "\n",
    "\n",
    "- **`np.arrays()`**\n",
    "\n",
    "\n",
    "- **`Tablas de SQL`**\n",
    "\n",
    "\n",
    "- **`JSON`**"
   ]
  },
  {
   "cell_type": "code",
   "execution_count": null,
   "id": "d7c4127c",
   "metadata": {},
   "outputs": [],
   "source": [
    "# pd.DataFrame() vacio\n",
    "\n",
    "pd.DataFrame()"
   ]
  },
  {
   "cell_type": "code",
   "execution_count": null,
   "id": "5ac726f2",
   "metadata": {},
   "outputs": [],
   "source": [
    "# Crear un pd.DataFrame() a partir de una lista\n",
    "\n",
    "lista = list(range(100, 105))\n",
    "\n",
    "df = pd.DataFrame()\n",
    "\n",
    "df[\"nueva_columna\"] = lista\n",
    "\n",
    "df"
   ]
  },
  {
   "cell_type": "code",
   "execution_count": null,
   "id": "c8a77668",
   "metadata": {},
   "outputs": [],
   "source": []
  },
  {
   "cell_type": "code",
   "execution_count": null,
   "id": "90554361",
   "metadata": {},
   "outputs": [],
   "source": [
    "# Crear un pd.DataFrame() a partir de una lista de listas (matriz)\n",
    "\n",
    "lista = [[1, 2, 3], [4, 5, 6], [7, 8, 9]]\n",
    "\n",
    "pd.DataFrame(lista)"
   ]
  },
  {
   "cell_type": "code",
   "execution_count": null,
   "id": "43a549a2",
   "metadata": {},
   "outputs": [],
   "source": [
    "# Se puede agregar el nombre de las columnas con el parametro \"columns\"\n",
    "\n",
    "pd.DataFrame(lista, columns = [\"col_1\", \"col_2\", \"col_3\"])"
   ]
  },
  {
   "cell_type": "code",
   "execution_count": null,
   "id": "35f81c78",
   "metadata": {},
   "outputs": [],
   "source": [
    "# Crear un pd.DataFrame() a partir de un diccionario\n",
    "\n",
    "diccionario = {num : l for num, l in enumerate(\"abcdefg\", start = 10)}\n",
    "\n",
    "diccionario"
   ]
  },
  {
   "cell_type": "code",
   "execution_count": null,
   "id": "96d0188d",
   "metadata": {},
   "outputs": [],
   "source": [
    "pd.DataFrame(diccionario.items())"
   ]
  },
  {
   "cell_type": "code",
   "execution_count": null,
   "id": "984d518c",
   "metadata": {},
   "outputs": [],
   "source": [
    "# Se puede agregar el nombre de las columnas con el parametro \"columns\"\n",
    "\n",
    "pd.DataFrame(diccionario.items(), columns = [\"num\", \"letra\"])"
   ]
  },
  {
   "cell_type": "code",
   "execution_count": null,
   "id": "77768afd",
   "metadata": {},
   "outputs": [],
   "source": [
    "# Crear un pd.DataFrame() a partir de un .csv\n",
    "\n",
    "pd.read_csv(\"iris.csv\")\n",
    "\n",
    "# pandas toma la primera linea del .csv como cabecera y la usa como los nombres de las columnas"
   ]
  },
  {
   "cell_type": "code",
   "execution_count": null,
   "id": "e2c6af41",
   "metadata": {},
   "outputs": [],
   "source": [
    "# Crear un pd.DataFrame() a partir de un .xlsx\n",
    "\n",
    "pd.read_excel(\"iris.xlsx\")\n",
    "\n",
    "# pandas toma la primera linea del .xlsx como cabecera y la usa como los nombres de las columnas"
   ]
  },
  {
   "cell_type": "code",
   "execution_count": null,
   "id": "a63865fd",
   "metadata": {},
   "outputs": [],
   "source": [
    "# Vamos a guardar el DataFrame en la variable df para ver que atributos y metodos tiene.\n",
    "\n",
    "df = pd.read_csv(\"iris.csv\")\n",
    "\n",
    "df"
   ]
  },
  {
   "cell_type": "code",
   "execution_count": null,
   "id": "ce01b7e5",
   "metadata": {},
   "outputs": [],
   "source": [
    "# .head() nos muestra las primeras filas del DataFrame, por defecto muestra las primeras 5\n",
    "\n",
    "df.head()"
   ]
  },
  {
   "cell_type": "code",
   "execution_count": null,
   "id": "3e85c63e",
   "metadata": {},
   "outputs": [],
   "source": [
    "df.head(10)"
   ]
  },
  {
   "cell_type": "code",
   "execution_count": null,
   "id": "41376ef2",
   "metadata": {},
   "outputs": [],
   "source": [
    "# .tail() nos muestra las ultimas filas del DataFrame, por defecto muestra las ultimas 5\n",
    "\n",
    "df.tail()"
   ]
  },
  {
   "cell_type": "code",
   "execution_count": null,
   "id": "fc848de9",
   "metadata": {},
   "outputs": [],
   "source": [
    "# Los DataFrames también tienen el método .shape\n",
    "\n",
    "df.shape"
   ]
  },
  {
   "cell_type": "code",
   "execution_count": null,
   "id": "84c03ef6",
   "metadata": {},
   "outputs": [],
   "source": [
    "# Como los DataFrames tienen obligatoriamente un indice, podemos hacer que nos lo retorne\n",
    "\n",
    "df.index"
   ]
  },
  {
   "cell_type": "code",
   "execution_count": null,
   "id": "0405d679",
   "metadata": {},
   "outputs": [],
   "source": [
    "# Igual con las columnas\n",
    "\n",
    "df.columns"
   ]
  },
  {
   "cell_type": "code",
   "execution_count": null,
   "id": "62059eba",
   "metadata": {},
   "outputs": [],
   "source": [
    "# .describe() muestra la descripción estadística del DataFrame, retorna un pd.DataFrame()\n",
    "\n",
    "df.describe()"
   ]
  },
  {
   "cell_type": "code",
   "execution_count": null,
   "id": "d384970a",
   "metadata": {},
   "outputs": [],
   "source": [
    "# .info() muestra información del tipo de cada columna, memoria que utliza el dataframe, número de columnas y tamaño del índice\n",
    "\n",
    "df.info()"
   ]
  },
  {
   "cell_type": "code",
   "execution_count": null,
   "id": "37ea25d4",
   "metadata": {},
   "outputs": [],
   "source": [
    "# .count() cuenta el número de elementos que no son NaN de cada columna\n",
    "\n",
    "df.count()"
   ]
  },
  {
   "cell_type": "code",
   "execution_count": null,
   "id": "c62457ba",
   "metadata": {},
   "outputs": [],
   "source": [
    "# .sum() retorna la suma de cada columna de sus elementos (Solo aplica para columnas que se puedan sumar)\n",
    "    \n",
    "df.sum() "
   ]
  },
  {
   "cell_type": "code",
   "execution_count": null,
   "id": "ddeab03a",
   "metadata": {},
   "outputs": [],
   "source": [
    "# .sum(axis = 1) retorna la suma horizantal de cada fila\n",
    "# Por defecto axis = 0\n",
    "\n",
    "df.sum(axis = 1) "
   ]
  },
  {
   "cell_type": "code",
   "execution_count": null,
   "id": "e9e3efd7",
   "metadata": {},
   "outputs": [],
   "source": [
    "# .cumsum() Suma acumulada\n",
    "\n",
    "df.cumsum()"
   ]
  },
  {
   "cell_type": "code",
   "execution_count": null,
   "id": "a41209ec",
   "metadata": {},
   "outputs": [],
   "source": [
    "# .min() muestra el minimo de cada columna\n",
    "\n",
    "df.min()"
   ]
  },
  {
   "cell_type": "code",
   "execution_count": null,
   "id": "d659a8d3",
   "metadata": {},
   "outputs": [],
   "source": [
    "# .max() muestra el maximo de cada columna\n",
    "\n",
    "df.max()"
   ]
  },
  {
   "cell_type": "code",
   "execution_count": null,
   "id": "4b0e5a28",
   "metadata": {},
   "outputs": [],
   "source": [
    "# .mean() muestra la media de cada columna\n",
    "\n",
    "df.mean()"
   ]
  },
  {
   "cell_type": "code",
   "execution_count": null,
   "id": "c2aa73d6",
   "metadata": {},
   "outputs": [],
   "source": [
    "# .median() muestra la mediana de cada columna \n",
    "# La mediana es el valor que ocupa el lugar central de todos los datos cuando éstos están ordenados de menor a mayor.\n",
    "\n",
    "df.median()"
   ]
  },
  {
   "cell_type": "code",
   "execution_count": null,
   "id": "8da795c1",
   "metadata": {},
   "outputs": [],
   "source": [
    "# Para seleccionar una columna podemos hacer \"indexing\"\n",
    "\n",
    "df[\"Largo Sepalo\"]"
   ]
  },
  {
   "cell_type": "code",
   "execution_count": null,
   "id": "2c68b894",
   "metadata": {},
   "outputs": [],
   "source": [
    "df[\"Clase\"]"
   ]
  },
  {
   "cell_type": "code",
   "execution_count": null,
   "id": "5173af06",
   "metadata": {},
   "outputs": [],
   "source": [
    "# Si quiero seleccionario varias columnas debo pasar una lista de columnas\n",
    "\n",
    "df[[\"Largo Sepalo\", \"Ancho Petalo\", \"Clase\"]].head(3)"
   ]
  },
  {
   "cell_type": "code",
   "execution_count": null,
   "id": "1e434ec1",
   "metadata": {},
   "outputs": [],
   "source": [
    "# Si quiero el elemento de indice 2 de la columna \"Largo Sepalo\"\n",
    "\n",
    "df[\"Largo Sepalo\"][2]"
   ]
  },
  {
   "cell_type": "code",
   "execution_count": null,
   "id": "97809109",
   "metadata": {},
   "outputs": [],
   "source": [
    "# Existe un método .iat que hace lo mismo (index at)\n",
    "\n",
    "df[\"Largo Sepalo\"].iat[2]"
   ]
  },
  {
   "cell_type": "code",
   "execution_count": null,
   "id": "f5b15822",
   "metadata": {},
   "outputs": [],
   "source": [
    "# También podemos usar el método .iloc\n",
    "# Con .iloc debemos darle las coordenadas, como si se tratara de una matriz\n",
    "\n",
    "df.iloc[2][3]"
   ]
  },
  {
   "cell_type": "code",
   "execution_count": null,
   "id": "de2ac88c",
   "metadata": {},
   "outputs": [],
   "source": [
    "df.iloc[2, 3]"
   ]
  },
  {
   "cell_type": "code",
   "execution_count": null,
   "id": "6bab8580",
   "metadata": {},
   "outputs": [],
   "source": [
    "# Si queremos usar el indice + el nombre de la columna podemos usar .at\n",
    "# Este método nos deja sobreescribir valores dentro del DataFrame\n",
    "\n",
    "df.at[0, \"Largo Sepalo\"]"
   ]
  },
  {
   "cell_type": "code",
   "execution_count": null,
   "id": "69d00bcf",
   "metadata": {},
   "outputs": [],
   "source": [
    "# También podemos usar .loc que nos da el mismo resultado\n",
    "# Este método NO nos deja sobreescribir valores dentro del DataFrame\n",
    "\n",
    "df.loc[0, \"Largo Sepalo\"]"
   ]
  },
  {
   "cell_type": "code",
   "execution_count": null,
   "id": "91dbc354",
   "metadata": {},
   "outputs": [],
   "source": [
    "# .sort_values(column) ordena los valores del DataFrame usando como referencia una o varias columnas\n",
    "# Por defecto ordena de menor a mayor\n",
    "# Esta operación no es in-place\n",
    "\n",
    "df.sort_values(\"Largo Sepalo\")"
   ]
  },
  {
   "cell_type": "code",
   "execution_count": null,
   "id": "e8540cf8",
   "metadata": {},
   "outputs": [],
   "source": [
    "# Ordenando por varias columnas\n",
    "\n",
    "df.sort_values([\"Largo Sepalo\", \"Largo Petalo\"])"
   ]
  },
  {
   "cell_type": "code",
   "execution_count": null,
   "id": "d7777e19",
   "metadata": {},
   "outputs": [],
   "source": [
    "# Ordenando de mayor a menor\n",
    "\n",
    "df.sort_values([\"Largo Sepalo\", \"Largo Petalo\"], ascending = False)"
   ]
  },
  {
   "cell_type": "code",
   "execution_count": null,
   "id": "50869199",
   "metadata": {},
   "outputs": [],
   "source": [
    "# Si queremos que sea in-place podemos cambiar un parametro\n",
    "\n",
    "df.sort_values([\"Largo Sepalo\", \"Largo Petalo\"], ascending = False, inplace = True)"
   ]
  },
  {
   "cell_type": "code",
   "execution_count": null,
   "id": "7a0774a5",
   "metadata": {},
   "outputs": [],
   "source": [
    "df"
   ]
  },
  {
   "cell_type": "code",
   "execution_count": null,
   "id": "c22eca8e",
   "metadata": {},
   "outputs": [],
   "source": [
    "# .reset_index() resetea el indice\n",
    "# Crea una columna nueva con el indice anterior\n",
    "# Esta operación no es in-place\n",
    "\n",
    "df.reset_index()"
   ]
  },
  {
   "cell_type": "code",
   "execution_count": null,
   "id": "c809ac9c",
   "metadata": {},
   "outputs": [],
   "source": [
    "# Si no queremos que se cree esa nueva columna podemos agregar al método\n",
    "\n",
    "df.reset_index(drop = True)"
   ]
  },
  {
   "cell_type": "code",
   "execution_count": null,
   "id": "f7c05774",
   "metadata": {},
   "outputs": [],
   "source": [
    "# Para hacer esta operación in-place podemos cambiar un parametro\n",
    "\n",
    "df.reset_index(drop = True, inplace = True)"
   ]
  },
  {
   "cell_type": "code",
   "execution_count": null,
   "id": "cd11f870",
   "metadata": {},
   "outputs": [],
   "source": [
    "df"
   ]
  },
  {
   "cell_type": "code",
   "execution_count": null,
   "id": "d99d2913",
   "metadata": {},
   "outputs": [],
   "source": [
    "# Eliminar filas o columnas\n",
    "# Para esto tenemos el método .drop()\n",
    "# Toma como parametro las filas/columnas que queremos eliminar\n",
    "# Si quiero eliminar filas debo agregar axis = 0\n",
    "# Si quiero eliminar columnas debo agregar axis = 1\n",
    "# Esta operación no es in-place\n",
    "\n",
    "df.drop(2)"
   ]
  },
  {
   "cell_type": "code",
   "execution_count": null,
   "id": "37782b47",
   "metadata": {},
   "outputs": [],
   "source": [
    "df.drop(\"Clase\", axis = 1)"
   ]
  },
  {
   "cell_type": "code",
   "execution_count": null,
   "id": "eb28ed60",
   "metadata": {
    "scrolled": true
   },
   "outputs": [],
   "source": [
    "# Si la fila/columna no existe, nos dará error\n",
    "\n",
    "df.drop(\"Flor\", axis = 1)"
   ]
  },
  {
   "cell_type": "code",
   "execution_count": null,
   "id": "873c5f30",
   "metadata": {},
   "outputs": [],
   "source": [
    "df[\"Clase2\"] = df[\"Clase\"]\n",
    "\n",
    "df.head(3)"
   ]
  },
  {
   "cell_type": "code",
   "execution_count": null,
   "id": "5dc81f3f",
   "metadata": {},
   "outputs": [],
   "source": [
    "# Si queremos que la operación sea in-place podemos agregar el parametro\n",
    "\n",
    "df.drop(\"Clase2\", axis = 1, inplace = True)"
   ]
  },
  {
   "cell_type": "code",
   "execution_count": null,
   "id": "026c919d",
   "metadata": {},
   "outputs": [],
   "source": [
    "df.head(3)"
   ]
  },
  {
   "cell_type": "code",
   "execution_count": null,
   "id": "3446ba1b",
   "metadata": {},
   "outputs": [],
   "source": [
    "# Si queremos agregar una fila\n",
    "\n",
    "df = df.append({\"Largo Sepalo\" : 0, \"Ancho Sepalo\" : 0, \"Largo Petalo\" : 0, \"Ancho Petalo\" : 0, \"Clase\" : \"Nueva-Flor\"},\n",
    "               ignore_index = True)"
   ]
  },
  {
   "cell_type": "code",
   "execution_count": null,
   "id": "90c1b95f",
   "metadata": {},
   "outputs": [],
   "source": [
    "df.tail()"
   ]
  },
  {
   "cell_type": "code",
   "execution_count": null,
   "id": "42dd8995",
   "metadata": {},
   "outputs": [],
   "source": [
    "# .value_counts() Se usa para contar los valores únicos de las columnas (Series)\n",
    "\n",
    "df[\"Clase\"].value_counts()"
   ]
  },
  {
   "cell_type": "code",
   "execution_count": null,
   "id": "14eacb9e",
   "metadata": {},
   "outputs": [],
   "source": [
    "# Podemos \"Normalizar\" el resultado\n",
    "\n",
    "df[\"Clase\"].value_counts(normalize = True)"
   ]
  },
  {
   "cell_type": "code",
   "execution_count": null,
   "id": "fc978e52",
   "metadata": {},
   "outputs": [],
   "source": [
    "# .unique() retorna un array con los valores únicos de las columnas\n",
    "df[\"Clase\"].unique()"
   ]
  },
  {
   "cell_type": "markdown",
   "id": "cee5902a",
   "metadata": {},
   "source": [
    "### Filtros"
   ]
  },
  {
   "cell_type": "code",
   "execution_count": null,
   "id": "538c6e82",
   "metadata": {},
   "outputs": [],
   "source": [
    "# Para aplicar un filtro usamos los operadores de comparación\n",
    "\n",
    "df[\"Largo Sepalo\"] > 7"
   ]
  },
  {
   "cell_type": "code",
   "execution_count": null,
   "id": "e4f21599",
   "metadata": {},
   "outputs": [],
   "source": [
    "# Esto retorna una Serie con Verdaderos y Falsos\n",
    "# Si quisieramos aplicar ese filtro al DataFrame hariamos un \"indexing\" con el operador\n",
    "\n",
    "df[df[\"Largo Sepalo\"] > 7]\n",
    "\n",
    "# Esto nos retorna el DataFrame solo con las filas que cumplen la condición"
   ]
  },
  {
   "cell_type": "markdown",
   "id": "258da8e7",
   "metadata": {},
   "source": [
    "Para aplicar más de un filtro debemos usar los operadores **`&`** y **`|`** y agrupar las condición en parentesis **`()`**."
   ]
  },
  {
   "cell_type": "code",
   "execution_count": null,
   "id": "d9aa9216",
   "metadata": {},
   "outputs": [],
   "source": [
    "df[(df[\"Largo Sepalo\"] > 7) & (df[\"Ancho Petalo\"] == 2)]"
   ]
  },
  {
   "cell_type": "code",
   "execution_count": null,
   "id": "0baeee9e",
   "metadata": {},
   "outputs": [],
   "source": [
    "df[(df[\"Clase\"] == \"Iris-virginica\") | (df[\"Clase\"] == \"Iris-versicolor\")]"
   ]
  },
  {
   "cell_type": "code",
   "execution_count": null,
   "id": "1cad6d67",
   "metadata": {},
   "outputs": [],
   "source": [
    "################################################################################################################################"
   ]
  }
 ],
 "metadata": {
  "kernelspec": {
   "display_name": "Python 3",
   "language": "python",
   "name": "python3"
  },
  "language_info": {
   "codemirror_mode": {
    "name": "ipython",
    "version": 3
   },
   "file_extension": ".py",
   "mimetype": "text/x-python",
   "name": "python",
   "nbconvert_exporter": "python",
   "pygments_lexer": "ipython3",
   "version": "3.8.8"
  }
 },
 "nbformat": 4,
 "nbformat_minor": 5
}
