{
 "cells": [
  {
   "cell_type": "markdown",
   "id": "dc998db4",
   "metadata": {},
   "source": [
    "## Ejercicio Web Scraping bs4/Selenium/Helium\n",
    "\n",
    "_**url** = https://www.20minutos.es/_\n",
    "\n",
    "Vamos a hacer Web Scraping de las primeras 3 paginas de las categorias de noticias: **Ciencia**, **Deporte**, **Gente**, **Economía**, **Grastronomía** y **Opinión**.\n",
    "\n",
    "Y de cada noticia/articulo vamos a obtener:\n",
    "\n",
    "- **Titulo**\n",
    "- **Hora**\n",
    "- **Fecha**\n",
    "- **Autor**\n",
    "- **Texto completo**\n",
    "- **Categoria (columna objetivo)**\n",
    "\n",
    "Genera un DataFrame con esta información y guardalo en el archivo **`20minutos_1.csv`**."
   ]
  },
  {
   "cell_type": "code",
   "execution_count": 1,
   "id": "15b38fc6",
   "metadata": {},
   "outputs": [],
   "source": [
    "import requests \n",
    "\n",
    "from bs4 import BeautifulSoup\n",
    "\n",
    "from selenium import webdriver\n",
    "\n",
    "from time import sleep\n",
    "\n",
    "import helium\n",
    "\n",
    "import pandas as pd\n",
    "import numpy as np"
   ]
  },
  {
   "cell_type": "code",
   "execution_count": null,
   "id": "b1c9bbf0",
   "metadata": {},
   "outputs": [],
   "source": [
    "# Driver de Chrome\n",
    "chrome_driver = \"chromedriver.exe\""
   ]
  },
  {
   "cell_type": "code",
   "execution_count": null,
   "id": "fc64599e",
   "metadata": {},
   "outputs": [],
   "source": [
    "browser = webdriver.Chrome(executable_path = chrome_driver) #Abre el navegador\n",
    "\n",
    "browser.get(\"https://www.20minutos.es/\") #Entra en 20minutos\n",
    "\n",
    "browser.maximize_window() #Maximiza la ventana del navegador"
   ]
  },
  {
   "cell_type": "code",
   "execution_count": null,
   "id": "d8d78b70",
   "metadata": {},
   "outputs": [],
   "source": [
    "#Ventana cookies\n",
    "browser.find_element_by_id(\"didomi-notice-agree-button\").click()\n",
    "sleep(3)"
   ]
  },
  {
   "cell_type": "code",
   "execution_count": null,
   "id": "0ee42b78",
   "metadata": {},
   "outputs": [],
   "source": [
    "#Acceso a categorías, selector CSS de \"li\" del elemento del menú \"Más\"\n",
    "browser.find_element_by_css_selector(\"#ui-header-land > div.section-menu > nav > ul > li.primary-more.link.current.no-expandable.last\").click()\n",
    "sleep(3)"
   ]
  },
  {
   "cell_type": "code",
   "execution_count": null,
   "id": "75b1d362",
   "metadata": {},
   "outputs": [],
   "source": [
    "#Acceso a la categoría \"Ciencia\" por enlace\n",
    "browser.find_element_by_link_text(\"Ciencia\").click()\n",
    "sleep(3)"
   ]
  },
  {
   "cell_type": "code",
   "execution_count": null,
   "id": "ec0d81b7",
   "metadata": {},
   "outputs": [],
   "source": [
    "#Extraemos el html y lo pasamos a objeto bs4\n",
    "soup = BeautifulSoup(browser.page_source, \"html.parser\")\n",
    "soup"
   ]
  },
  {
   "cell_type": "code",
   "execution_count": null,
   "id": "a1d096cf",
   "metadata": {},
   "outputs": [],
   "source": [
    "lista_noticias_1 = []\n",
    "\n",
    "#Bloque 1 de noticias (sólo en página 1)\n",
    "\n",
    "for bs in soup.find(\"ul\", class_ = \"section-list\").find_all(\"a\")[1::2]:\n",
    "    lista_noticias_1.append(bs[\"href\"])"
   ]
  },
  {
   "cell_type": "code",
   "execution_count": null,
   "id": "3b856522",
   "metadata": {
    "scrolled": true
   },
   "outputs": [],
   "source": [
    "lista_noticias_1"
   ]
  },
  {
   "cell_type": "code",
   "execution_count": null,
   "id": "ecddd321",
   "metadata": {
    "scrolled": false
   },
   "outputs": [],
   "source": [
    "#Bloque 2 de noticias (sólo en página 2)\n",
    "#Lo identificamos con \"media-content\" que vale para todas las noticias\n",
    "lista_enlaces = []\n",
    "\n",
    "for bs in soup.find_all(\"div\", class_ = \"media-content\"):\n",
    "    \n",
    "    enlace = bs.find(\"a\")[\"href\"]\n",
    "    \n",
    "    if enlace.startswith(\"https://www.20minutos.es/noticia/\"):\n",
    "        lista_enlaces.append(enlace)\n",
    "        \n",
    "len(lista_enlaces)"
   ]
  },
  {
   "cell_type": "code",
   "execution_count": 2,
   "id": "ca4c787b",
   "metadata": {},
   "outputs": [],
   "source": [
    "def noticiasCategoria(url_base, categoria, num_paginas):\n",
    "    lista_urls = []\n",
    "    \n",
    "    #Recorremos las páginas\n",
    "    for i in range(1, num_paginas + 1):\n",
    "        \n",
    "        #Elaboramos la página a la que hay que acceder\n",
    "        url = f\"{url_base}{categoria}/{i}/\"\n",
    "        print(url)\n",
    "        \n",
    "        #Obtener el response de la página con Helium sin abrir navegador\n",
    "        browser = helium.start_chrome(url, headless = True)\n",
    "        sleep(5)\n",
    "        \n",
    "        #Extraemos el html y lo pasamos a objeto bs4\n",
    "        soup = BeautifulSoup(browser.page_source, \"html.parser\")\n",
    "        \n",
    "        #Recorremos el html para extraer las noticias\n",
    "        for bs in soup.find_all(\"div\", class_ = \"media-content\"):\n",
    "\n",
    "            #Accedemos al enlace del atributo \"href\" de la etiqueta \"a\"\n",
    "            enlace = bs.find(\"a\")[\"href\"]\n",
    "\n",
    "            #Sólo incluimos en la lista si el enlace incluye \"noticia\"\n",
    "            if ((\"noticia\" in enlace) or (categoria in enlace)) and (\"/imagenes/\" not in enlace):\n",
    "                lista_urls.append(enlace)\n",
    "    \n",
    "    \n",
    "    return lista_urls"
   ]
  },
  {
   "cell_type": "code",
   "execution_count": 3,
   "id": "2470bdbb",
   "metadata": {},
   "outputs": [
    {
     "name": "stdout",
     "output_type": "stream",
     "text": [
      "https://www.20minutos.es/ciencia/1/\n",
      "https://www.20minutos.es/ciencia/2/\n",
      "https://www.20minutos.es/ciencia/3/\n"
     ]
    },
    {
     "data": {
      "text/plain": [
       "84"
      ]
     },
     "execution_count": 3,
     "metadata": {},
     "output_type": "execute_result"
    }
   ],
   "source": [
    "#Extracción de noticias de las 3 primeras páginas\n",
    "resultado = noticiasCategoria(\"https://www.20minutos.es/\", \"ciencia\", 3)\n",
    "len(resultado)"
   ]
  },
  {
   "cell_type": "code",
   "execution_count": null,
   "id": "89f216e6",
   "metadata": {},
   "outputs": [],
   "source": [
    "%%time\n",
    "\n",
    "categorias = [\"ciencia\", \"deportes\", \"gente\", \"economia\", \"cultura\", \"opinion\"]\n",
    "\n",
    "dicc_enlaces = {}\n",
    "\n",
    "num_paginas = 3\n",
    "\n",
    "for categoria in categorias:\n",
    "    \n",
    "    dicc_enlaces[categoria] = noticiasCategoria(\"https://www.20minutos.es/\", categoria, num_paginas)\n",
    "    "
   ]
  },
  {
   "cell_type": "code",
   "execution_count": null,
   "id": "a8b8f374",
   "metadata": {},
   "outputs": [],
   "source": [
    "for categoria in categorias:\n",
    "    print(f\"{categoria}: \",len(dicc_enlaces[categoria]))"
   ]
  },
  {
   "cell_type": "code",
   "execution_count": 4,
   "id": "a90ac89d",
   "metadata": {},
   "outputs": [
    {
     "data": {
      "text/html": [
       "<div>\n",
       "<style scoped>\n",
       "    .dataframe tbody tr th:only-of-type {\n",
       "        vertical-align: middle;\n",
       "    }\n",
       "\n",
       "    .dataframe tbody tr th {\n",
       "        vertical-align: top;\n",
       "    }\n",
       "\n",
       "    .dataframe thead th {\n",
       "        text-align: right;\n",
       "    }\n",
       "</style>\n",
       "<table border=\"1\" class=\"dataframe\">\n",
       "  <thead>\n",
       "    <tr style=\"text-align: right;\">\n",
       "      <th></th>\n",
       "      <th>Categoría</th>\n",
       "      <th>Url</th>\n",
       "    </tr>\n",
       "  </thead>\n",
       "  <tbody>\n",
       "    <tr>\n",
       "      <th>0</th>\n",
       "      <td>ciencia</td>\n",
       "      <td>https://www.20minutos.es/noticia/4958380/0/pen...</td>\n",
       "    </tr>\n",
       "    <tr>\n",
       "      <th>1</th>\n",
       "      <td>ciencia</td>\n",
       "      <td>https://www.20minutos.es/noticia/4958250/0/el-...</td>\n",
       "    </tr>\n",
       "    <tr>\n",
       "      <th>2</th>\n",
       "      <td>ciencia</td>\n",
       "      <td>https://www.20minutos.es/noticia/4958244/0/un-...</td>\n",
       "    </tr>\n",
       "    <tr>\n",
       "      <th>3</th>\n",
       "      <td>ciencia</td>\n",
       "      <td>https://www.20minutos.es/noticia/4958055/0/des...</td>\n",
       "    </tr>\n",
       "    <tr>\n",
       "      <th>4</th>\n",
       "      <td>ciencia</td>\n",
       "      <td>https://www.20minutos.es/noticia/4957924/0/un-...</td>\n",
       "    </tr>\n",
       "  </tbody>\n",
       "</table>\n",
       "</div>"
      ],
      "text/plain": [
       "  Categoría                                                Url\n",
       "0   ciencia  https://www.20minutos.es/noticia/4958380/0/pen...\n",
       "1   ciencia  https://www.20minutos.es/noticia/4958250/0/el-...\n",
       "2   ciencia  https://www.20minutos.es/noticia/4958244/0/un-...\n",
       "3   ciencia  https://www.20minutos.es/noticia/4958055/0/des...\n",
       "4   ciencia  https://www.20minutos.es/noticia/4957924/0/un-..."
      ]
     },
     "execution_count": 4,
     "metadata": {},
     "output_type": "execute_result"
    }
   ],
   "source": [
    "#df = pd.read_csv(\"urls_ejercicio1.csv\")\n",
    "\n",
    "#df.head()"
   ]
  },
  {
   "cell_type": "code",
   "execution_count": null,
   "id": "f47fa9d1",
   "metadata": {},
   "outputs": [],
   "source": [
    "df = pd.DataFrame(dicc_enlaces.items(), columns = [\"Categoría\", \"Url\"])"
   ]
  },
  {
   "cell_type": "code",
   "execution_count": null,
   "id": "7e7aa835",
   "metadata": {},
   "outputs": [],
   "source": [
    "df = df.explode(\"Url\").reset_index(drop = True)"
   ]
  },
  {
   "cell_type": "code",
   "execution_count": 5,
   "id": "0bc94b6a",
   "metadata": {
    "scrolled": true
   },
   "outputs": [
    {
     "data": {
      "text/html": [
       "<div>\n",
       "<style scoped>\n",
       "    .dataframe tbody tr th:only-of-type {\n",
       "        vertical-align: middle;\n",
       "    }\n",
       "\n",
       "    .dataframe tbody tr th {\n",
       "        vertical-align: top;\n",
       "    }\n",
       "\n",
       "    .dataframe thead th {\n",
       "        text-align: right;\n",
       "    }\n",
       "</style>\n",
       "<table border=\"1\" class=\"dataframe\">\n",
       "  <thead>\n",
       "    <tr style=\"text-align: right;\">\n",
       "      <th></th>\n",
       "      <th>Categoría</th>\n",
       "      <th>Url</th>\n",
       "    </tr>\n",
       "  </thead>\n",
       "  <tbody>\n",
       "    <tr>\n",
       "      <th>0</th>\n",
       "      <td>ciencia</td>\n",
       "      <td>https://www.20minutos.es/noticia/4958380/0/pen...</td>\n",
       "    </tr>\n",
       "    <tr>\n",
       "      <th>1</th>\n",
       "      <td>ciencia</td>\n",
       "      <td>https://www.20minutos.es/noticia/4958250/0/el-...</td>\n",
       "    </tr>\n",
       "    <tr>\n",
       "      <th>2</th>\n",
       "      <td>ciencia</td>\n",
       "      <td>https://www.20minutos.es/noticia/4958244/0/un-...</td>\n",
       "    </tr>\n",
       "    <tr>\n",
       "      <th>3</th>\n",
       "      <td>ciencia</td>\n",
       "      <td>https://www.20minutos.es/noticia/4958055/0/des...</td>\n",
       "    </tr>\n",
       "    <tr>\n",
       "      <th>4</th>\n",
       "      <td>ciencia</td>\n",
       "      <td>https://www.20minutos.es/noticia/4957924/0/un-...</td>\n",
       "    </tr>\n",
       "    <tr>\n",
       "      <th>...</th>\n",
       "      <td>...</td>\n",
       "      <td>...</td>\n",
       "    </tr>\n",
       "    <tr>\n",
       "      <th>510</th>\n",
       "      <td>opinion</td>\n",
       "      <td>https://www.20minutos.es/opinion/david-moreno-...</td>\n",
       "    </tr>\n",
       "    <tr>\n",
       "      <th>511</th>\n",
       "      <td>opinion</td>\n",
       "      <td>https://www.20minutos.es/opinion/carmelo-encin...</td>\n",
       "    </tr>\n",
       "    <tr>\n",
       "      <th>512</th>\n",
       "      <td>opinion</td>\n",
       "      <td>https://www.20minutos.es/opinion/el-eurotongo-...</td>\n",
       "    </tr>\n",
       "    <tr>\n",
       "      <th>513</th>\n",
       "      <td>opinion</td>\n",
       "      <td>https://www.20minutos.es/opinion/sereno-joan-f...</td>\n",
       "    </tr>\n",
       "    <tr>\n",
       "      <th>514</th>\n",
       "      <td>opinion</td>\n",
       "      <td>https://www.20minutos.es/opinion/isabel-serran...</td>\n",
       "    </tr>\n",
       "  </tbody>\n",
       "</table>\n",
       "<p>515 rows × 2 columns</p>\n",
       "</div>"
      ],
      "text/plain": [
       "    Categoría                                                Url\n",
       "0     ciencia  https://www.20minutos.es/noticia/4958380/0/pen...\n",
       "1     ciencia  https://www.20minutos.es/noticia/4958250/0/el-...\n",
       "2     ciencia  https://www.20minutos.es/noticia/4958244/0/un-...\n",
       "3     ciencia  https://www.20minutos.es/noticia/4958055/0/des...\n",
       "4     ciencia  https://www.20minutos.es/noticia/4957924/0/un-...\n",
       "..        ...                                                ...\n",
       "510   opinion  https://www.20minutos.es/opinion/david-moreno-...\n",
       "511   opinion  https://www.20minutos.es/opinion/carmelo-encin...\n",
       "512   opinion  https://www.20minutos.es/opinion/el-eurotongo-...\n",
       "513   opinion  https://www.20minutos.es/opinion/sereno-joan-f...\n",
       "514   opinion  https://www.20minutos.es/opinion/isabel-serran...\n",
       "\n",
       "[515 rows x 2 columns]"
      ]
     },
     "execution_count": 5,
     "metadata": {},
     "output_type": "execute_result"
    }
   ],
   "source": [
    "df"
   ]
  },
  {
   "cell_type": "code",
   "execution_count": null,
   "id": "cff8a875",
   "metadata": {},
   "outputs": [],
   "source": [
    "df.to_csv(\"urls_ejercicio1.csv\", index = False, sep = \",\")"
   ]
  },
  {
   "cell_type": "code",
   "execution_count": null,
   "id": "edee37b3",
   "metadata": {},
   "outputs": [],
   "source": [
    "#Recorremos el dataframe para extraer información de las noticias\n",
    "url = df[\"Url\"][0]\n",
    "# url\n",
    "browser = helium.start_chrome(url, headless = True)\n",
    "sleep(1)\n",
    "\n",
    "soup = BeautifulSoup(browser.page_source, \"html.parser\")\n",
    "soup"
   ]
  },
  {
   "cell_type": "code",
   "execution_count": null,
   "id": "14f22cd5",
   "metadata": {},
   "outputs": [],
   "source": [
    "soup.find(\"h1\", class_ = \"notice-title\").text.strip()"
   ]
  },
  {
   "cell_type": "code",
   "execution_count": null,
   "id": "7678e6c3",
   "metadata": {},
   "outputs": [],
   "source": [
    "soup.find(\"span\", class_ = \"article-date\").text.split(\"-\")[1].strip()"
   ]
  },
  {
   "cell_type": "code",
   "execution_count": null,
   "id": "39b58bee",
   "metadata": {},
   "outputs": [],
   "source": [
    "soup.find(\"span\", class_ = \"article-date\").text.split(\"-\")[0].strip()"
   ]
  },
  {
   "cell_type": "code",
   "execution_count": null,
   "id": "88b27832",
   "metadata": {},
   "outputs": [],
   "source": [
    "soup.find(\"span\", class_ = \"article-author\").text"
   ]
  },
  {
   "cell_type": "code",
   "execution_count": null,
   "id": "0cd6d6b8",
   "metadata": {},
   "outputs": [],
   "source": [
    "parrafos = list()\n",
    "\n",
    "for bs in soup.find_all(\"p\", class_ = \"paragraph\"):\n",
    "    parrafos.append(bs.text.strip())\n",
    "    \n",
    "parrafos = \"\\n\".join(parrafos)\n",
    "\n",
    "print(parrafos)"
   ]
  },
  {
   "cell_type": "code",
   "execution_count": 6,
   "id": "8d64dd0e",
   "metadata": {},
   "outputs": [],
   "source": [
    "def info_articulos(url):\n",
    "    browser = helium.start_chrome(url, headless = True)\n",
    "    sleep(1)\n",
    "    \n",
    "    soup = BeautifulSoup(browser.page_source, \"html.parser\")\n",
    "    \n",
    "    # Titulo\n",
    "    try:\n",
    "        titulo = soup.find(\"h1\", class_ = \"notice-title\").text.strip()\n",
    "    except:\n",
    "        titulo = np.nan\n",
    "        \n",
    "    # Hora\n",
    "    try:\n",
    "        hora = soup.find(\"span\", class_ = \"article-date\").text.split(\"-\")[1].strip()\n",
    "    except:\n",
    "        hora = np.nan\n",
    "        \n",
    "    # Fecha\n",
    "    try:\n",
    "        fecha = soup.find(\"span\", class_ = \"article-date\").text.split(\"-\")[0].strip()\n",
    "    except:\n",
    "        fecha = np.nan\n",
    "        \n",
    "    # Autor\n",
    "    try:\n",
    "        autor = soup.find(\"span\", class_ = \"article-author\").text\n",
    "    except:\n",
    "        autor = np.nan\n",
    "        \n",
    "    # Texto\n",
    "    try:\n",
    "        texto = list()\n",
    "\n",
    "        for bs in soup.find_all(\"p\", class_ = \"paragraph\"):\n",
    "            texto.append(bs.text.strip())\n",
    "\n",
    "        texto = \"\\n\".join(texto)\n",
    "\n",
    "    except:\n",
    "        texto = np.nan\n",
    "        \n",
    "    return [titulo, hora, fecha, autor, texto]"
   ]
  },
  {
   "cell_type": "code",
   "execution_count": null,
   "id": "024cbdf6",
   "metadata": {
    "scrolled": true
   },
   "outputs": [
    {
     "name": "stdout",
     "output_type": "stream",
     "text": [
      "0\n",
      "1\n",
      "2\n",
      "3\n",
      "4\n",
      "5\n",
      "6\n",
      "7\n",
      "8\n",
      "9\n",
      "10\n",
      "11\n",
      "12\n",
      "13\n",
      "14\n",
      "15\n",
      "16\n",
      "17\n",
      "18\n",
      "19\n",
      "20\n",
      "21\n",
      "22\n",
      "23\n",
      "24\n",
      "25\n",
      "26\n",
      "27\n",
      "28\n"
     ]
    }
   ],
   "source": [
    "datos = list()\n",
    "\n",
    "for indice, url in enumerate(df[\"Url\"]):\n",
    "    print(indice)\n",
    "    datos.append(info_articulos(url))\n",
    "    \n",
    "datos"
   ]
  },
  {
   "cell_type": "code",
   "execution_count": null,
   "id": "30170da5",
   "metadata": {},
   "outputs": [],
   "source": [
    "df_info = pd.DataFrame(datos, columns = [\"titulo\", \"hora\", \"fecha\", \"autor\", \"texto\"])"
   ]
  },
  {
   "cell_type": "code",
   "execution_count": null,
   "id": "95a6b9db",
   "metadata": {},
   "outputs": [],
   "source": [
    "pd.concat([df, df_info], axis = 1)"
   ]
  },
  {
   "cell_type": "code",
   "execution_count": null,
   "id": "86fc12ec",
   "metadata": {},
   "outputs": [],
   "source": [
    "df = pd.concat([df, df_info], axis = 1)\n",
    "\n",
    "df.to_csv(\"20minutos_1.csv\", index = False, sep = \",\")"
   ]
  },
  {
   "cell_type": "markdown",
   "id": "b90547ae",
   "metadata": {},
   "source": [
    "- **Escribe el código para sacar la información de las primeras 5 páginas de todas las categorias (23 categorias). Guarda esta información en el archivo `20minutos_2.csv`**"
   ]
  },
  {
   "cell_type": "code",
   "execution_count": null,
   "id": "a5a7b514",
   "metadata": {},
   "outputs": [],
   "source": [
    "%%time\n",
    "\n",
    "categorias = [\"ciencia\", \"deportes\", \"gente\", \"economia\", \"cultura\", \"opinion\", \"andalucia\",\n",
    "              \"comunidad-valenciana\", \"cinemania\", \"salud\", \"tecnologia\"]\n",
    "\n",
    "dicc_enlaces = {}\n",
    "\n",
    "num_paginas = 5\n",
    "\n",
    "for categoria in categorias:\n",
    "    \n",
    "    dicc_enlaces[categoria] = noticiasCategoria(\"https://www.20minutos.es/\", categoria, num_paginas)\n",
    "    \n",
    "    \n",
    "df = pd.DataFrame(dicc_enlaces.items(), columns = [\"Categoría\", \"Url\"])   \n",
    "\n",
    "df = df.explode(\"Url\")\n",
    "\n",
    "\n",
    "datos = list()\n",
    "\n",
    "for indice, url in enumerate(df[\"Url\"]):\n",
    "    print(indice)\n",
    "    datos.append(info_articulos(url))\n",
    "    \n",
    "df_info = pd.DataFrame(datos, columns = [\"titulo\", \"hora\", \"fecha\", \"autor\", \"texto\"])\n",
    "\n",
    "df = pd.concat([df, df_info], axis = 1)\n",
    "\n",
    "df.to_csv(\"20minutos_2.csv\", index = False, sep = \",\")"
   ]
  },
  {
   "cell_type": "code",
   "execution_count": null,
   "id": "33b33b71",
   "metadata": {},
   "outputs": [],
   "source": []
  },
  {
   "cell_type": "code",
   "execution_count": null,
   "id": "7cde76e0",
   "metadata": {},
   "outputs": [],
   "source": []
  },
  {
   "cell_type": "code",
   "execution_count": null,
   "id": "cf4c7713",
   "metadata": {},
   "outputs": [],
   "source": []
  },
  {
   "cell_type": "code",
   "execution_count": null,
   "id": "94b802c7",
   "metadata": {},
   "outputs": [],
   "source": []
  },
  {
   "cell_type": "markdown",
   "id": "a07f6af0",
   "metadata": {},
   "source": [
    "- **Escribe el código para sacar la información de todas las categorias del mes de enero. Guarda esta información en el archivo `20minutos_3.csv`.**"
   ]
  },
  {
   "cell_type": "code",
   "execution_count": null,
   "id": "224a9026",
   "metadata": {},
   "outputs": [],
   "source": []
  },
  {
   "cell_type": "code",
   "execution_count": null,
   "id": "1af70a48",
   "metadata": {},
   "outputs": [],
   "source": []
  },
  {
   "cell_type": "code",
   "execution_count": null,
   "id": "7358a572",
   "metadata": {},
   "outputs": [],
   "source": []
  },
  {
   "cell_type": "code",
   "execution_count": null,
   "id": "8c66ea4e",
   "metadata": {},
   "outputs": [],
   "source": []
  },
  {
   "cell_type": "code",
   "execution_count": null,
   "id": "2edc3495",
   "metadata": {},
   "outputs": [],
   "source": []
  },
  {
   "cell_type": "code",
   "execution_count": null,
   "id": "8d27d08b",
   "metadata": {},
   "outputs": [],
   "source": []
  },
  {
   "cell_type": "code",
   "execution_count": null,
   "id": "af7ad271",
   "metadata": {},
   "outputs": [],
   "source": []
  },
  {
   "cell_type": "code",
   "execution_count": null,
   "id": "3dc1c7a2",
   "metadata": {},
   "outputs": [],
   "source": []
  }
 ],
 "metadata": {
  "kernelspec": {
   "display_name": "Python 3 (ipykernel)",
   "language": "python",
   "name": "python3"
  },
  "language_info": {
   "codemirror_mode": {
    "name": "ipython",
    "version": 3
   },
   "file_extension": ".py",
   "mimetype": "text/x-python",
   "name": "python",
   "nbconvert_exporter": "python",
   "pygments_lexer": "ipython3",
   "version": "3.9.7"
  }
 },
 "nbformat": 4,
 "nbformat_minor": 5
}
