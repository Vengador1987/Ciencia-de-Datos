{
 "cells": [
  {
   "cell_type": "markdown",
   "id": "15aadadf",
   "metadata": {},
   "source": [
    "# Seaborn\n",
    "\n",
    "**`seaborn`** es una librería de visualización de datos para python desarrollada sobre **`matplotlib`**. Ofrece una interfaz de alto nivel para la creación de gráficas. Además, está integrada con las estructuras de datos de **`pandas`**, lo que permite utilizar el nombre de los **`DataFrames`** y campos directamente como argumentos de las funciones de visualización.\n",
    "\n",
    "\n",
    "|Función               | Plot                                                                                                                                  |\n",
    "|----------------------|---------------------------------------------------------------------------------------------------------------------------------------|\n",
    "|**`sns.pairplot()`**  | Crea una matriz de graficas, en la diagonal aparece el **`histograma`** y en los demás una gráfica de **`dispersión`**.              |\n",
    "|**`sns.barplot()`**   | Crea un gráfico de barras con el promedio de los valores.                                                                              |\n",
    "|**`sns.countplot()`** | Crea un grafico de barras con el conteo de cada categoria.                                                                            |\n",
    "|**`sns.histplot()`**  | Crea un histograma.                                                                                                                    |\n",
    "|**`sns.jointplot()`** | Crea graficos de dispersión.                                                                                                          |\n",
    "|**`sns.kdeplot()`**   | Crea graficos de densidad de probabilidad de la curva continua de los datos.                                                          |\n",
    "|**`sns.boxplot()`**   | Crea graficos de caja.                                                                                                                |\n",
    "|**`sns.violinplot()`**| Crea graficos de violin.                                                                                                              |\n",
    "|**`sns.heatmap()`**   | Crea mapas de calor.                                                                                                                  |\n",
    "|**`sns.FacetGrid()`** | Genera una matriz de graficas filtrando por las columnas y filas del **`DataFrame`** y aplicando una misma grafica a toda la matriz.|"
   ]
  },
  {
   "cell_type": "code",
   "execution_count": null,
   "id": "0ef5871d",
   "metadata": {},
   "outputs": [],
   "source": [
    "import numpy as np\n",
    "import pandas as pd\n",
    "\n",
    "import matplotlib.pyplot as plt\n",
    "import seaborn as sns"
   ]
  },
  {
   "cell_type": "code",
   "execution_count": null,
   "id": "d11f8c48",
   "metadata": {},
   "outputs": [],
   "source": [
    "df1 = pd.read_excel(\"Airbnb_NYC.xlsx\", sheet_name = \"NYC1\")\n",
    "df2 = pd.read_excel(\"Airbnb_NYC.xlsx\", sheet_name = \"NYC2\")\n",
    "\n",
    "df = pd.merge(right = df1, left = df2, right_on = \"id\", left_on = \"id\")\n",
    "\n",
    "df.head(3)"
   ]
  },
  {
   "cell_type": "code",
   "execution_count": null,
   "id": "0c544399",
   "metadata": {},
   "outputs": [],
   "source": [
    "df.shape"
   ]
  },
  {
   "cell_type": "code",
   "execution_count": null,
   "id": "c65af7dc",
   "metadata": {},
   "outputs": [],
   "source": [
    "df = df.sort_values(\"price\").iloc[1000:20000][[\"host_id\", \"municipio\", \"number_of_reviews\", \"reviews_per_month\", \"price\", \"room_type\"]]\n",
    "\n",
    "df.head(3)"
   ]
  },
  {
   "cell_type": "code",
   "execution_count": null,
   "id": "aa9bcb85",
   "metadata": {},
   "outputs": [],
   "source": [
    "iris = sns.load_dataset(\"iris\")\n",
    "iris"
   ]
  },
  {
   "cell_type": "markdown",
   "id": "b306ea53",
   "metadata": {},
   "source": [
    "### sns.pairplot()"
   ]
  },
  {
   "cell_type": "code",
   "execution_count": null,
   "id": "d2e5fb98",
   "metadata": {},
   "outputs": [],
   "source": [
    "sns.pairplot(iris)\n",
    "plt.show()"
   ]
  },
  {
   "cell_type": "code",
   "execution_count": null,
   "id": "a63bca99",
   "metadata": {},
   "outputs": [],
   "source": [
    "# Con la parámetro \"hue\" podemos ver cada categoría por color \n",
    "\n",
    "sns.pairplot(iris, hue = \"species\")\n",
    "plt.show()"
   ]
  },
  {
   "cell_type": "code",
   "execution_count": null,
   "id": "03d7798c",
   "metadata": {},
   "outputs": [],
   "source": [
    "sns.pairplot(df, hue = \"room_type\") \n",
    "plt.show()"
   ]
  },
  {
   "cell_type": "code",
   "execution_count": null,
   "id": "c8f502b0",
   "metadata": {},
   "outputs": [],
   "source": [
    "# Con \"vars\" podemos elegir cuales columnas mostrar\n",
    "# Con \"height\" podemos modificar el tamaño de las graficas\n",
    "\n",
    "sns.pairplot(df, vars = [\"price\", \"number_of_reviews\"], height = 10, hue = \"room_type\")\n",
    "plt.show()"
   ]
  },
  {
   "cell_type": "markdown",
   "id": "f8ebdde3",
   "metadata": {},
   "source": [
    "### sns.barplot()"
   ]
  },
  {
   "cell_type": "code",
   "execution_count": null,
   "id": "e0bb8592",
   "metadata": {},
   "outputs": [],
   "source": [
    "# Muestra el promedio del precio del tipo de habitación\n",
    "\n",
    "sns.barplot(x = \"room_type\", y = \"price\", data = df)\n",
    "plt.show()"
   ]
  },
  {
   "cell_type": "code",
   "execution_count": null,
   "id": "048fd53b",
   "metadata": {},
   "outputs": [],
   "source": [
    "# Otra forma de usar los parámetros\n",
    "\n",
    "sns.barplot(x = df[\"room_type\"], y = df[\"price\"])\n",
    "plt.show()"
   ]
  },
  {
   "cell_type": "code",
   "execution_count": null,
   "id": "eee39be0",
   "metadata": {},
   "outputs": [],
   "source": [
    "# Con \"order\" podemos elegir el orden en el que aparecen\n",
    "\n",
    "sns.barplot(x = \"room_type\", y = \"price\", data = df, order = [\"Entire home/apt\", \"Private room\", \"Shared room\"]) \n",
    "plt.show()"
   ]
  },
  {
   "cell_type": "code",
   "execution_count": null,
   "id": "fbc50899",
   "metadata": {},
   "outputs": [],
   "source": [
    "plt.figure(figsize = (10, 6))\n",
    "\n",
    "sns.barplot(x = \"room_type\", y = \"price\", hue = \"municipio\", data = df, palette = \"rainbow\")\n",
    "\n",
    "plt.show()"
   ]
  },
  {
   "cell_type": "code",
   "execution_count": null,
   "id": "92d74cc8",
   "metadata": {},
   "outputs": [],
   "source": [
    "fig, ax = plt.subplots(figsize = (10, 6))\n",
    "\n",
    "sns.barplot(x = \"municipio\", y = \"price\", hue = \"room_type\", data = df, palette = \"rainbow\")\n",
    "plt.show()"
   ]
  },
  {
   "cell_type": "code",
   "execution_count": null,
   "id": "a18de222",
   "metadata": {},
   "outputs": [],
   "source": [
    "fig, ax = plt.subplots(figsize = (8, 6))\n",
    "\n",
    "sns.barplot(x = \"price\", y = \"room_type\", hue = \"municipio\", data = df, palette = \"rainbow\")\n",
    "plt.show()"
   ]
  },
  {
   "cell_type": "code",
   "execution_count": null,
   "id": "d9396bd4",
   "metadata": {},
   "outputs": [],
   "source": [
    "fig, ax = plt.subplots(figsize = (8, 6))\n",
    "\n",
    "sns.barplot(x = \"price\", y = \"room_type\", hue = \"municipio\", data = df, palette = \"rainbow\")\n",
    "\n",
    "ax.legend_.remove()\n",
    "plt.show()"
   ]
  },
  {
   "cell_type": "markdown",
   "id": "76ee1b22",
   "metadata": {},
   "source": [
    "### sns.countplot()\n",
    "\n",
    "**`sns.countplot()`** es la función **`plt.bar()`** de **`matplotlib`**."
   ]
  },
  {
   "cell_type": "code",
   "execution_count": null,
   "id": "24bb8fcd",
   "metadata": {},
   "outputs": [],
   "source": [
    "df[\"room_type\"].value_counts()"
   ]
  },
  {
   "cell_type": "code",
   "execution_count": null,
   "id": "ecb6af1e",
   "metadata": {},
   "outputs": [],
   "source": [
    "plt.figure(figsize = (8, 6))\n",
    "\n",
    "sns.countplot(x = df[\"room_type\"])\n",
    "\n",
    "plt.show() "
   ]
  },
  {
   "cell_type": "code",
   "execution_count": null,
   "id": "e9553ebb",
   "metadata": {},
   "outputs": [],
   "source": [
    "# El número dentro del color_palette se utiliza para elegir el número de colores\n",
    "sns.countplot(x = df[\"room_type\"], facecolor = (0.9, 0.9, 0.9), linewidth = 1, edgecolor = sns.color_palette(\"rainbow\", 3))\n",
    "plt.show()"
   ]
  },
  {
   "cell_type": "code",
   "execution_count": null,
   "id": "af1145b2",
   "metadata": {},
   "outputs": [],
   "source": [
    "plt.figure(figsize = (6, 4))\n",
    "sns.countplot(x = \"municipio\", hue = \"room_type\", data = df, palette = \"Blues_r\")\n",
    "plt.show()"
   ]
  },
  {
   "cell_type": "markdown",
   "id": "16dd935c",
   "metadata": {},
   "source": [
    "### Histogramas\n",
    "\n",
    "**`sns.histplot()`**"
   ]
  },
  {
   "cell_type": "code",
   "execution_count": null,
   "id": "26b9e490",
   "metadata": {},
   "outputs": [],
   "source": [
    "sns.histplot(df[\"price\"])\n",
    "plt.show()"
   ]
  },
  {
   "cell_type": "code",
   "execution_count": null,
   "id": "187c881f",
   "metadata": {},
   "outputs": [],
   "source": [
    "sns.histplot(df[\"price\"], color = \"green\", kde = True)\n",
    "plt.show()"
   ]
  },
  {
   "cell_type": "code",
   "execution_count": null,
   "id": "6a7e455c",
   "metadata": {},
   "outputs": [],
   "source": [
    "sns.histplot(df[\"number_of_reviews\"], color = \"green\")\n",
    "plt.show()"
   ]
  },
  {
   "cell_type": "markdown",
   "id": "7a6282ad",
   "metadata": {},
   "source": [
    "### Scatter Plots (graficos de dispersión) \n",
    "**`sns.jointplot()`**"
   ]
  },
  {
   "cell_type": "code",
   "execution_count": null,
   "id": "3bc64ccb",
   "metadata": {},
   "outputs": [],
   "source": [
    "sns.jointplot(x = df[\"reviews_per_month\"], y = df[\"number_of_reviews\"])\n",
    "plt.show()"
   ]
  },
  {
   "cell_type": "code",
   "execution_count": null,
   "id": "6f156324",
   "metadata": {},
   "outputs": [],
   "source": [
    "sns.jointplot(x = df[df[\"number_of_reviews\"] < 50].reviews_per_month,\n",
    "              y = df[df[\"number_of_reviews\"] < 50].number_of_reviews,\n",
    "              kind = \"hex\",\n",
    "              gridsize = 20)\n",
    "\n",
    "plt.show()"
   ]
  },
  {
   "cell_type": "markdown",
   "id": "cad2e0eb",
   "metadata": {},
   "source": [
    "### sns.kdeplot()\n",
    "\n",
    "**`Kernel Density Estimate (KDE)`** nos permite estimar la función de densidad de probabilidad de la curva continua (o no paramétrica) de nuestro conjunto de datos en una o más dimensiones.\n",
    "\n",
    "En otras palabras, es un método para la visualización de las distribución de los **patrones** u **observaciones** del dataset, es análogo a un histograma."
   ]
  },
  {
   "cell_type": "code",
   "execution_count": null,
   "id": "5241b43d",
   "metadata": {},
   "outputs": [],
   "source": [
    "df[\"reviews_per_month\"].replace({np.nan : df[\"reviews_per_month\"].mean()}, inplace = True)\n",
    "\n",
    "sns.kdeplot(x = df[df[\"number_of_reviews\"] < 10].reviews_per_month,\n",
    "            y = df[df[\"number_of_reviews\"] < 10].number_of_reviews)\n",
    "plt.show()"
   ]
  },
  {
   "cell_type": "code",
   "execution_count": null,
   "id": "0990f656",
   "metadata": {},
   "outputs": [],
   "source": [
    "sns.kdeplot(x = df[df[\"number_of_reviews\"] < 10].reviews_per_month,\n",
    "            y = df[df[\"number_of_reviews\"] < 10].number_of_reviews,\n",
    "           shade = True, \n",
    "           n_levels = 6)\n",
    "plt.show()"
   ]
  },
  {
   "cell_type": "code",
   "execution_count": null,
   "id": "29d903cc",
   "metadata": {},
   "outputs": [],
   "source": [
    "sns.kdeplot(x = df[df[\"number_of_reviews\"] < 10].reviews_per_month,\n",
    "            y = df[df[\"number_of_reviews\"] < 10].number_of_reviews,\n",
    "           shade = True, \n",
    "           n_levels = 3)\n",
    "plt.show()"
   ]
  },
  {
   "cell_type": "markdown",
   "id": "5cb2ad18",
   "metadata": {},
   "source": [
    "### sns.boxplot() y sns.violinplot()"
   ]
  },
  {
   "cell_type": "code",
   "execution_count": null,
   "id": "4451e3dd",
   "metadata": {},
   "outputs": [],
   "source": [
    "sns.boxplot(x = df[\"room_type\"],\n",
    "            y = df[df[\"number_of_reviews\"] < 100].number_of_reviews)\n",
    "\n",
    "plt.show()"
   ]
  },
  {
   "cell_type": "code",
   "execution_count": null,
   "id": "ff26f7d1",
   "metadata": {},
   "outputs": [],
   "source": [
    "sns.violinplot(x = df.room_type,\n",
    "               y = df[df[\"number_of_reviews\"] < 100].number_of_reviews)\n",
    "\n",
    "plt.show()"
   ]
  },
  {
   "cell_type": "code",
   "execution_count": null,
   "id": "1e3a20fd",
   "metadata": {},
   "outputs": [],
   "source": [
    "sns.boxplot(x = \"municipio\", y = \"price\", data = df)\n",
    "plt.show()"
   ]
  },
  {
   "cell_type": "code",
   "execution_count": null,
   "id": "94a825c0",
   "metadata": {},
   "outputs": [],
   "source": [
    "plt.subplots(figsize = (12, 8))\n",
    "\n",
    "sns.boxplot(x = \"municipio\",\n",
    "            y = \"price\",\n",
    "            hue = \"room_type\",\n",
    "            data = df[df[\"price\"] < 210],\n",
    "            palette = \"Blues\")\n",
    "plt.show()"
   ]
  },
  {
   "cell_type": "code",
   "execution_count": null,
   "id": "63281e74",
   "metadata": {},
   "outputs": [],
   "source": [
    "plt.subplots(figsize = (12, 8))\n",
    "\n",
    "sns.boxplot(x = \"room_type\",\n",
    "            y = \"reviews_per_month\",\n",
    "            hue = \"municipio\",\n",
    "            data = df)\n",
    "\n",
    "plt.show()"
   ]
  },
  {
   "cell_type": "markdown",
   "id": "5c1bfa11",
   "metadata": {},
   "source": [
    "### sns.heatmap()\n",
    "\n",
    "Mapas de calor."
   ]
  },
  {
   "cell_type": "code",
   "execution_count": null,
   "id": "60112334",
   "metadata": {},
   "outputs": [],
   "source": [
    "df[[\"number_of_reviews\", \"reviews_per_month\", \"price\"]].corr()"
   ]
  },
  {
   "cell_type": "code",
   "execution_count": null,
   "id": "9d2495a1",
   "metadata": {},
   "outputs": [],
   "source": [
    "sns.heatmap(data = df[[\"number_of_reviews\", \"reviews_per_month\", \"price\"]].corr())\n",
    "plt.show()"
   ]
  },
  {
   "cell_type": "code",
   "execution_count": null,
   "id": "11a5abf2",
   "metadata": {},
   "outputs": [],
   "source": [
    "sns.heatmap(data = df[[\"number_of_reviews\", \"reviews_per_month\", \"price\"]].corr(),\n",
    "            annot = True,\n",
    "            cmap = \"Blues\")\n",
    "plt.show()"
   ]
  },
  {
   "cell_type": "code",
   "execution_count": null,
   "id": "f5b67f6a",
   "metadata": {},
   "outputs": [],
   "source": [
    "sns.heatmap(data = df.corr(),\n",
    "            annot = True,\n",
    "            cmap = \"Blues\")\n",
    "plt.show()"
   ]
  },
  {
   "cell_type": "markdown",
   "id": "b77945e0",
   "metadata": {},
   "source": [
    "### FacetGrid()\n",
    "\n",
    "**`sns.FacetGrid()`** genera una matriz de graficas filtrando por las columnas y filas del DataFrame y aplicando una misma grafica a toda la matriz."
   ]
  },
  {
   "cell_type": "code",
   "execution_count": null,
   "id": "46c17121",
   "metadata": {},
   "outputs": [],
   "source": [
    "g = sns.FacetGrid(df, col = \"municipio\", row = \"room_type\")\n",
    "g.map(plt.hist, \"price\")\n",
    "plt.show()"
   ]
  },
  {
   "cell_type": "code",
   "execution_count": null,
   "id": "393526b1",
   "metadata": {},
   "outputs": [],
   "source": [
    "g = sns.FacetGrid(df, col = \"municipio\", row = \"room_type\")\n",
    "g.map(sns.violinplot, \"price\")\n",
    "plt.show()"
   ]
  },
  {
   "cell_type": "code",
   "execution_count": null,
   "id": "b884c2f8",
   "metadata": {},
   "outputs": [],
   "source": [
    "g = sns.FacetGrid(df, col = \"municipio\", row = \"room_type\")\n",
    "g.map(sns.histplot, \"price\")\n",
    "plt.show()"
   ]
  },
  {
   "cell_type": "markdown",
   "id": "cbd0a8ed",
   "metadata": {},
   "source": [
    "### Otros Plots"
   ]
  },
  {
   "cell_type": "code",
   "execution_count": null,
   "id": "965d42c5",
   "metadata": {},
   "outputs": [],
   "source": [
    "labels = np.array(iris.columns[:-1])\n",
    "\n",
    "pattern = iris.iloc[0, :-1]\n",
    "\n",
    "angles = np.linspace(0, 2*np.pi, len(labels), endpoint = False)\n",
    "print(angles)\n",
    "\n",
    "# Esto es para añadir el último lado del polígono:\n",
    "pattern = np.concatenate((pattern, [pattern[0]]))\n",
    "angles = np.concatenate((angles, [angles[0]]))\n",
    "\n",
    "\n",
    "fig = plt.figure()\n",
    "ax = fig.add_subplot(polar = True)\n",
    "\n",
    "ax.plot(angles, pattern, \"o-\", linewidth = 4)           # Lineas en azul\n",
    "ax.fill(angles, pattern, alpha = 1, color = \"yellow\")   # Relleno amarillo\n",
    "ax.set_thetagrids(angles[:-1] * 180/np.pi, labels)      # Malla\n",
    "\n",
    "plt.show()"
   ]
  },
  {
   "cell_type": "code",
   "execution_count": null,
   "id": "1d5fa81d",
   "metadata": {},
   "outputs": [],
   "source": [
    "################################################################################################################################"
   ]
  }
 ],
 "metadata": {
  "kernelspec": {
   "display_name": "Python 3",
   "language": "python",
   "name": "python3"
  },
  "language_info": {
   "codemirror_mode": {
    "name": "ipython",
    "version": 3
   },
   "file_extension": ".py",
   "mimetype": "text/x-python",
   "name": "python",
   "nbconvert_exporter": "python",
   "pygments_lexer": "ipython3",
   "version": "3.8.8"
  }
 },
 "nbformat": 4,
 "nbformat_minor": 5
}
