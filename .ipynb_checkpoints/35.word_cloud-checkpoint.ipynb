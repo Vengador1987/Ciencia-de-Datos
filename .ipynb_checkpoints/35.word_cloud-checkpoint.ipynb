{
 "cells": [
  {
   "cell_type": "markdown",
   "id": "3899392c",
   "metadata": {},
   "source": [
    "# WordCloud\n",
    "\n",
    "```python\n",
    "pip install wordcloud\n",
    "```\n",
    "\n",
    "_**Documentación:** https://github.com/amueller/word_cloud_\n",
    "\n",
    "**`WordCloud`** es una libreria desarrollada por **Andreas Mueller** y nos permite generar nubes de palabras (**wordclouds**) utilizando solamente una cadena de caracteres. "
   ]
  },
  {
   "cell_type": "code",
   "execution_count": null,
   "id": "b1e3dd10",
   "metadata": {},
   "outputs": [],
   "source": [
    "import matplotlib.pyplot as plt\n",
    "import numpy as np\n",
    "\n",
    "from wordcloud import WordCloud, STOPWORDS\n",
    "\n",
    "from PIL import Image"
   ]
  },
  {
   "cell_type": "markdown",
   "id": "fd196151",
   "metadata": {},
   "source": [
    "#### Cargamos un archivo de texto:"
   ]
  },
  {
   "cell_type": "code",
   "execution_count": null,
   "id": "cfdb26bf",
   "metadata": {},
   "outputs": [],
   "source": [
    "with open(\"alicia.txt\", \"r\", encoding = \"UTF-8\") as file:\n",
    "    alice_novel = file.read()"
   ]
  },
  {
   "cell_type": "code",
   "execution_count": null,
   "id": "90875078",
   "metadata": {},
   "outputs": [],
   "source": [
    "len(alice_novel)"
   ]
  },
  {
   "cell_type": "code",
   "execution_count": null,
   "id": "f212843a",
   "metadata": {},
   "outputs": [],
   "source": [
    "alice_novel"
   ]
  },
  {
   "cell_type": "markdown",
   "id": "ee1bb922",
   "metadata": {},
   "source": [
    "### stopwords\n",
    "Palabras vacías (**stopwords en inglés**) es el nombre que reciben las palabras sin significado como artículos, pronombres, preposiciones, etc. que son filtradas antes o después del procesamiento de datos en **`NLP`**."
   ]
  },
  {
   "cell_type": "code",
   "execution_count": null,
   "id": "6badb026",
   "metadata": {},
   "outputs": [],
   "source": [
    "stopwords = STOPWORDS\n",
    "\n",
    "stopwords"
   ]
  },
  {
   "cell_type": "markdown",
   "id": "914b376f",
   "metadata": {},
   "source": [
    "**Para crear un objeto WordCloud utilizamos la función `WordCloud()` que toma como parámetros el número total de palabras y los `stopswords`**.\n",
    "\n",
    "**Para generar la nube debemos llenarla con las palabras del texto usando el método `.generate()`.**"
   ]
  },
  {
   "cell_type": "code",
   "execution_count": null,
   "id": "29b4ecd5",
   "metadata": {},
   "outputs": [],
   "source": [
    "alice_wc = WordCloud(background_color = \"white\",\n",
    "                     max_words = len(alice_novel),\n",
    "                     stopwords = stopwords)\n",
    "\n",
    "# El objeto de WordCloud\n",
    "\n",
    "alice_wc.generate(alice_novel)"
   ]
  },
  {
   "cell_type": "markdown",
   "id": "da60e652",
   "metadata": {},
   "source": [
    "**Para mostrar la imagen usamos la libreria de `matplotlib`**"
   ]
  },
  {
   "cell_type": "code",
   "execution_count": null,
   "id": "c07881f0",
   "metadata": {},
   "outputs": [],
   "source": [
    "plt.subplots(figsize = (12, 12))\n",
    "plt.imshow(alice_wc)\n",
    "plt.axis(\"off\")\n",
    "plt.show()"
   ]
  },
  {
   "cell_type": "markdown",
   "id": "0c07ce1f",
   "metadata": {},
   "source": [
    "**Para eliminar esos caracteres que no son palabras podemos agregalos a la lista de `stopwords`.**"
   ]
  },
  {
   "cell_type": "code",
   "execution_count": null,
   "id": "bf421420",
   "metadata": {},
   "outputs": [],
   "source": [
    "stopwords.add(\"said\")\n",
    "stopwords.add(\"one\") \n",
    "stopwords.add(\"know\") \n",
    "stopwords.add(\"will\") \n",
    "stopwords.add(\"must\") \n",
    "stopwords.add(\"went\") \n",
    "stopwords.add(\"us\") \n",
    "stopwords.add(\"come\") \n",
    "stopwords.add(\"see\") \n",
    "stopwords.add(\"well\") \n",
    "stopwords.add(\"now\") \n",
    "stopwords.add(\"may\") \n",
    "stopwords.add(\"came\") \n",
    "stopwords.add(\"seemed\") \n",
    "stopwords.add(\"even\") \n",
    "stopwords.add(\"project\")\n",
    "stopwords.add(\"Gutenberg\")\n",
    "stopwords.add(\"and\")\n",
    "stopwords.add(\"â\")\n",
    "stopwords.add(\"œ\")\n",
    "stopwords.add(\"Œ\")\n",
    "\n",
    "# Creamos de nuevo el objeto\n",
    "\n",
    "alice_wc = WordCloud(background_color = \"white\",\n",
    "                     max_words = len(alice_novel),\n",
    "                     stopwords = stopwords)\n",
    "\n",
    "alice_wc.generate(alice_novel)\n",
    "\n",
    "plt.subplots(figsize = (10, 10))\n",
    "plt.imshow(alice_wc)\n",
    "plt.axis(\"off\")\n",
    "plt.show()"
   ]
  },
  {
   "cell_type": "markdown",
   "id": "a7be8760",
   "metadata": {},
   "source": [
    "**También podemos usar una `mascara` para que el wordcloud tome la forma de una figura en lugar de un rectangulo.**\n",
    "\n",
    "**Para esto necesitamos un archivo con extensión `.png`.**"
   ]
  },
  {
   "cell_type": "code",
   "execution_count": null,
   "id": "780ba130",
   "metadata": {},
   "outputs": [],
   "source": [
    "mask = np.array(Image.open(\"alice_mask.png\"))   \n",
    "mask.shape"
   ]
  },
  {
   "cell_type": "code",
   "execution_count": null,
   "id": "a4710597",
   "metadata": {},
   "outputs": [],
   "source": [
    "plt.subplots(figsize = (10, 10))\n",
    "\n",
    "plt.imshow(mask, cmap = \"binary_r\")\n",
    "plt.axis(\"off\")\n",
    "plt.show()"
   ]
  },
  {
   "cell_type": "markdown",
   "id": "fbdb2667",
   "metadata": {},
   "source": [
    "**Para unir el `wordcloud` con la mascara agregamos el parámetro `mask`.**"
   ]
  },
  {
   "cell_type": "code",
   "execution_count": null,
   "id": "0a416a78",
   "metadata": {},
   "outputs": [],
   "source": [
    "# Creamos de nuevo el objeto agregando la mascara\n",
    "\n",
    "alice_wc = WordCloud(background_color = \"white\",\n",
    "                     max_words = 2000,\n",
    "                     mask = mask,\n",
    "                     stopwords = stopwords,\n",
    "                     contour_width = 0.5,\n",
    "                     contour_color = \"steelblue\")\n",
    "\n",
    "alice_wc.generate(alice_novel)\n",
    "\n",
    "\n",
    "fig, ax = plt.subplots(figsize = (20, 20))\n",
    "ax.imshow(alice_wc)\n",
    "ax.axis(\"off\")\n",
    "alice_wc.to_file(\"imagenalicia.png\")\n",
    "plt.show()"
   ]
  },
  {
   "cell_type": "markdown",
   "id": "6cef6e6b",
   "metadata": {},
   "source": [
    "**Otro `wordcloud`:**"
   ]
  },
  {
   "cell_type": "code",
   "execution_count": null,
   "id": "32764986",
   "metadata": {},
   "outputs": [],
   "source": [
    "with open(\"breakingbadscript.txt\", \"r\", encoding = \"UTF-8\") as file:\n",
    "    breakingbad_script = file.read()"
   ]
  },
  {
   "cell_type": "code",
   "execution_count": null,
   "id": "56951a90",
   "metadata": {},
   "outputs": [],
   "source": [
    "bb_wc = WordCloud(background_color = \"white\",\n",
    "                  max_words = len(breakingbad_script),\n",
    "                  stopwords = stopwords)\n",
    "\n",
    "# El objeto de word cloud\n",
    "bb_wc.generate(breakingbad_script)"
   ]
  },
  {
   "cell_type": "code",
   "execution_count": null,
   "id": "97e2ebff",
   "metadata": {},
   "outputs": [],
   "source": [
    "plt.subplots(figsize = (12, 12))\n",
    "plt.imshow(bb_wc)\n",
    "plt.axis(\"off\")\n",
    "plt.show()"
   ]
  },
  {
   "cell_type": "code",
   "execution_count": null,
   "id": "cc60e90c",
   "metadata": {},
   "outputs": [],
   "source": [
    "breakingbad_mask = np.array(Image.open(\"breakingbad_mask.png\"))\n",
    "breakingbad_mask.shape"
   ]
  },
  {
   "cell_type": "code",
   "execution_count": null,
   "id": "8639aec4",
   "metadata": {},
   "outputs": [],
   "source": [
    "plt.subplots(figsize = (10, 10))\n",
    "\n",
    "plt.imshow(breakingbad_mask)\n",
    "plt.axis(\"off\")\n",
    "plt.show()"
   ]
  },
  {
   "cell_type": "code",
   "execution_count": null,
   "id": "1c1cbfb6",
   "metadata": {},
   "outputs": [],
   "source": [
    "%%time\n",
    "\n",
    "# Creamos de nuevo el objeto agregando la mascara\n",
    "bb_wc = WordCloud(background_color = \"white\",\n",
    "                  max_words = 2000,\n",
    "                  mask = breakingbad_mask,\n",
    "                  stopwords = stopwords,\n",
    "                  contour_width = 2,\n",
    "                  contour_color = \"black\")\n",
    "\n",
    "bb_wc.generate(breakingbad_script)\n",
    "\n",
    "plt.subplots(figsize = (20, 20))\n",
    "\n",
    "plt.imshow(bb_wc, interpolation = \"bilinear\")\n",
    "plt.axis(\"off\")\n",
    "bb_wc.to_file(\"imagenbb.png\")\n",
    "plt.show()"
   ]
  },
  {
   "cell_type": "code",
   "execution_count": null,
   "id": "3f72acae",
   "metadata": {},
   "outputs": [],
   "source": [
    "%%time\n",
    "\n",
    "bb_wc = WordCloud(background_color = \"black\",\n",
    "                  max_words = 2000,\n",
    "                  mask = breakingbad_mask,\n",
    "                  stopwords = stopwords,\n",
    "                  contour_width = 2,\n",
    "                  contour_color = \"white\")\n",
    "\n",
    "bb_wc.generate(breakingbad_script)\n",
    "\n",
    "plt.subplots(figsize = (20, 20))\n",
    "\n",
    "plt.imshow(bb_wc, interpolation = \"bilinear\")\n",
    "plt.axis(\"off\")\n",
    "bb_wc.to_file(\"imagenbb.png\")\n",
    "plt.show()"
   ]
  },
  {
   "cell_type": "code",
   "execution_count": null,
   "id": "0571e8ff",
   "metadata": {},
   "outputs": [],
   "source": [
    "################################################################################################################################"
   ]
  },
  {
   "cell_type": "markdown",
   "id": "94425ff2",
   "metadata": {},
   "source": [
    "### Ejercicio:\n",
    "- Genera un **`wordcloud`** de algo que te interese. Saca la información de un archivo de internet, puedes usar el **`api de twitter`** para extraer la información, hacer **`web scraping`** sobre alguna página o simplemente descargar un **`.txt`**. Encuentra un archivo **`.png`** para hacer una mascara sobre el **`wordcloud`**, personaliza la gráfica como quieras."
   ]
  },
  {
   "cell_type": "code",
   "execution_count": null,
   "id": "d10cc494",
   "metadata": {},
   "outputs": [],
   "source": []
  },
  {
   "cell_type": "code",
   "execution_count": null,
   "id": "19618690",
   "metadata": {},
   "outputs": [],
   "source": []
  },
  {
   "cell_type": "code",
   "execution_count": null,
   "id": "5d811a5a",
   "metadata": {},
   "outputs": [],
   "source": []
  }
 ],
 "metadata": {
  "kernelspec": {
   "display_name": "Python 3",
   "language": "python",
   "name": "python3"
  },
  "language_info": {
   "codemirror_mode": {
    "name": "ipython",
    "version": 3
   },
   "file_extension": ".py",
   "mimetype": "text/x-python",
   "name": "python",
   "nbconvert_exporter": "python",
   "pygments_lexer": "ipython3",
   "version": "3.8.8"
  }
 },
 "nbformat": 4,
 "nbformat_minor": 5
}
