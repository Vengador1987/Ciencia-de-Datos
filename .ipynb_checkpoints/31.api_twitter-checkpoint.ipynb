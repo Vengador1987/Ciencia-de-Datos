{
 "cells": [
  {
   "cell_type": "markdown",
   "id": "fd838a26",
   "metadata": {},
   "source": [
    "# Tweepy \n",
    "\n",
    "```python\n",
    "pip install tweepy\n",
    "```\n",
    "_**Documentación** : https://docs.tweepy.org/en/stable/index.html_\n",
    "\n",
    "Es una librería con la cuál podemos conectarnos con el **`API`** de **`Twitter`** de una manera sencilla con python.\n",
    "\n",
    "Para poder usar **`Tweepy`** debemos registrar nuestra cuenta como cuenta de desarrollador en: https://developer.twitter.com/en/apply-for-access\n",
    "\n",
    "Luego guardamos las credenciales en las siguiente variables:\n",
    "```python\n",
    "consumer_key, consumer_secret\n",
    "access_token, access_token_secret\n",
    "```"
   ]
  },
  {
   "cell_type": "code",
   "execution_count": null,
   "id": "6b84a90d",
   "metadata": {},
   "outputs": [],
   "source": [
    "# Llena las variables con tus credenciales\n",
    "\n",
    "consumer_key = \"XXXXXXXXXXXXXXXXXXXXXXXXX\"\n",
    "consumer_secret = \"XXXXXXXXXXXXXXXXXXXXXXXXXXXXXXXXXXXXXXXXXXXXXXXXXX\"\n",
    "access_token  = \"XXXXXXXXXXXXXXXXXXXXXXXXXXXXXXXXXXXXXXXXXXXXXXXXXX\"\n",
    "access_token_secret = \"XXXXXXXXXXXXXXXXXXXXXXXXXXXXXXXXXXXXXXXXXXXXX\""
   ]
  },
  {
   "cell_type": "code",
   "execution_count": null,
   "id": "e28a3986",
   "metadata": {},
   "outputs": [],
   "source": [
    "import numpy as np\n",
    "import pandas as pd\n",
    "import matplotlib.pyplot as plt\n",
    "import seaborn as sns\n",
    "\n",
    "import tweepy"
   ]
  },
  {
   "cell_type": "markdown",
   "id": "8487c695",
   "metadata": {},
   "source": [
    "**Nos autenticamos**"
   ]
  },
  {
   "cell_type": "code",
   "execution_count": null,
   "id": "acf5f74c",
   "metadata": {},
   "outputs": [],
   "source": [
    "auth = tweepy.OAuthHandler(consumer_key, consumer_secret)\n",
    "\n",
    "auth.set_access_token(access_token, access_token_secret)\n",
    "\n",
    "api = tweepy.API(auth)"
   ]
  },
  {
   "cell_type": "markdown",
   "id": "dc5ac416",
   "metadata": {},
   "source": [
    "**Publicar un tweet**"
   ]
  },
  {
   "cell_type": "code",
   "execution_count": null,
   "id": "c7455b03",
   "metadata": {},
   "outputs": [],
   "source": [
    "# api.update_status(\"Tweet generado desde la API de Twitter\")"
   ]
  },
  {
   "cell_type": "markdown",
   "id": "8ecf3e86",
   "metadata": {},
   "source": [
    "**El método `me` crea un objeto del usuario.**"
   ]
  },
  {
   "cell_type": "code",
   "execution_count": null,
   "id": "ea181f85",
   "metadata": {},
   "outputs": [],
   "source": [
    "user = api.me()\n",
    "\n",
    "print(user.name)\n",
    "\n",
    "print(user.screen_name)"
   ]
  },
  {
   "cell_type": "markdown",
   "id": "3ccb4cc5",
   "metadata": {},
   "source": [
    "**Ver la información del usuario:**"
   ]
  },
  {
   "cell_type": "code",
   "execution_count": null,
   "id": "f2fa0717",
   "metadata": {},
   "outputs": [],
   "source": [
    "print(f\"User: {user.screen_name}\")\n",
    "print(f\"Name: {user.name}\")\n",
    "print(f\"Location: {user.location}\")\n",
    "print(f\"Friends: {user.friends_count}\")\n",
    "print(f\"Followers: {user.followers_count}\")\n",
    "print(f\"id: {user.id}\")\n",
    "print(f\"Desde: {user.created_at}\")"
   ]
  },
  {
   "cell_type": "markdown",
   "id": "bbe24eb3",
   "metadata": {},
   "source": [
    "**Creamos una función para obtener la información de un usuario:**"
   ]
  },
  {
   "cell_type": "code",
   "execution_count": null,
   "id": "ce9e4d62",
   "metadata": {},
   "outputs": [],
   "source": [
    "def display_user_info(user):\n",
    "    print(f\"User: {user.screen_name}\")\n",
    "    print(f\"Name: {user.name}\")\n",
    "    print(f\"Location: {user.location}\")\n",
    "    print(f\"Friends: {user.friends_count}\")\n",
    "    print(f\"Followers: {user.followers_count}\")\n",
    "    print(f\"id: {user.id}\")\n",
    "    print(f\"Desde: {user.created_at}\")"
   ]
  },
  {
   "cell_type": "code",
   "execution_count": null,
   "id": "533863a3",
   "metadata": {},
   "outputs": [],
   "source": [
    "display_user_info(user)"
   ]
  },
  {
   "cell_type": "markdown",
   "id": "94db819e",
   "metadata": {},
   "source": [
    "**Con el método `get_user` obtenemos la información de cualquier usuario:**"
   ]
  },
  {
   "cell_type": "code",
   "execution_count": null,
   "id": "2d6b2cce",
   "metadata": {},
   "outputs": [],
   "source": [
    "YannLecun = api.get_user(\"ylecun\")\n",
    "\n",
    "YannLecun.screen_name"
   ]
  },
  {
   "cell_type": "code",
   "execution_count": null,
   "id": "6ac5acb8",
   "metadata": {},
   "outputs": [],
   "source": [
    "display_user_info(YannLecun)"
   ]
  },
  {
   "cell_type": "code",
   "execution_count": null,
   "id": "9923e392",
   "metadata": {},
   "outputs": [],
   "source": [
    "display_user_info(api.get_user(\"\"))"
   ]
  },
  {
   "cell_type": "markdown",
   "id": "9e867e8f",
   "metadata": {},
   "source": [
    "**Para ver los seguidores:**"
   ]
  },
  {
   "cell_type": "code",
   "execution_count": null,
   "id": "984a4c6d",
   "metadata": {},
   "outputs": [],
   "source": [
    "followers = api.followers()\n",
    "\n",
    "#followers"
   ]
  },
  {
   "cell_type": "code",
   "execution_count": null,
   "id": "8f362160",
   "metadata": {},
   "outputs": [],
   "source": [
    "len(followers)"
   ]
  },
  {
   "cell_type": "code",
   "execution_count": null,
   "id": "b6835633",
   "metadata": {},
   "outputs": [],
   "source": [
    "for seguidor in followers:\n",
    "    print(f\"{seguidor.screen_name}, {seguidor.name}\")"
   ]
  },
  {
   "cell_type": "code",
   "execution_count": null,
   "id": "6a1a5618",
   "metadata": {},
   "outputs": [],
   "source": [
    "tweet = api.update_status(\"Prueba con la API de Twitter\")"
   ]
  },
  {
   "cell_type": "markdown",
   "id": "bbb138ce",
   "metadata": {},
   "source": [
    "**El atributo `id` del `tweet` es un número que lo identifica y que nos sirve para acceder a él:**"
   ]
  },
  {
   "cell_type": "code",
   "execution_count": null,
   "id": "66386744",
   "metadata": {},
   "outputs": [],
   "source": [
    "tweet.id"
   ]
  },
  {
   "cell_type": "markdown",
   "id": "d39d935c",
   "metadata": {},
   "source": [
    "**Para ver la fecha y hora exacta del tweet:**"
   ]
  },
  {
   "cell_type": "code",
   "execution_count": null,
   "id": "77becd88",
   "metadata": {},
   "outputs": [],
   "source": [
    "tweet.created_at"
   ]
  },
  {
   "cell_type": "code",
   "execution_count": null,
   "id": "4fcf2b3a",
   "metadata": {},
   "outputs": [],
   "source": [
    "print(tweet.created_at)"
   ]
  },
  {
   "cell_type": "markdown",
   "id": "fd75e9c7",
   "metadata": {},
   "source": [
    "**El atributo `user` contiene la información del usuario que publicó el tweet:**"
   ]
  },
  {
   "cell_type": "code",
   "execution_count": null,
   "id": "40aaa9a5",
   "metadata": {},
   "outputs": [],
   "source": [
    "# id del user\n",
    "\n",
    "print(tweet.user.id) \n",
    "\n",
    "\n",
    "# nombre del usuario que publico el tweet\n",
    "\n",
    "print(tweet.user.screen_name) "
   ]
  },
  {
   "cell_type": "code",
   "execution_count": null,
   "id": "b2e19279",
   "metadata": {},
   "outputs": [],
   "source": [
    "# Numero de seguidores\n",
    "\n",
    "print(tweet.user.followers_count)\n",
    "\n",
    "# Numero de amigos\n",
    "\n",
    "print(tweet.user.friends_count)"
   ]
  },
  {
   "cell_type": "markdown",
   "id": "c0b1f9c5",
   "metadata": {},
   "source": [
    "**Como la información del usuario está guardada en tweet.user podemos usar la función `display_user_info()`**"
   ]
  },
  {
   "cell_type": "code",
   "execution_count": null,
   "id": "02342ede",
   "metadata": {},
   "outputs": [],
   "source": [
    "display_user_info(tweet.user)"
   ]
  },
  {
   "cell_type": "markdown",
   "id": "68787f31",
   "metadata": {},
   "source": [
    "**Para borrar un tweet usamos `destroy_status` y el `id` del tweet:**"
   ]
  },
  {
   "cell_type": "code",
   "execution_count": null,
   "id": "cbe31c48",
   "metadata": {
    "scrolled": true
   },
   "outputs": [],
   "source": [
    "api.destroy_status(tweet.id)"
   ]
  },
  {
   "cell_type": "markdown",
   "id": "74875ef6",
   "metadata": {},
   "source": [
    "**Publicar un tweet con una imagen:**"
   ]
  },
  {
   "cell_type": "code",
   "execution_count": null,
   "id": "f4e0437f",
   "metadata": {},
   "outputs": [],
   "source": [
    "tweet_imagen = api.update_with_media(\"google.png\",\n",
    "                                     \"Imagen de google #google\")\n",
    "\n",
    "print(tweet_imagen.id)"
   ]
  },
  {
   "cell_type": "markdown",
   "id": "b8e019dc",
   "metadata": {},
   "source": [
    "**Responder a un tweet con una imagen**"
   ]
  },
  {
   "cell_type": "code",
   "execution_count": null,
   "id": "297e7947",
   "metadata": {},
   "outputs": [],
   "source": [
    "tweet_respuesta = api.update_with_media(\"google.png\",\n",
    "                                        \"Otra vez la imagen de google #google\",\n",
    "                                        in_reply_to_status_id = tweet_imagen.id)"
   ]
  },
  {
   "cell_type": "markdown",
   "id": "c272c454",
   "metadata": {},
   "source": [
    "**`home_timeline(count = n)` nos devuelve una lista con los `n` primeros tweets de nuestra TL.**"
   ]
  },
  {
   "cell_type": "code",
   "execution_count": null,
   "id": "23c0419e",
   "metadata": {},
   "outputs": [],
   "source": [
    "public_tweets = api.home_timeline(count = 10)\n",
    "\n",
    "# public_tweets"
   ]
  },
  {
   "cell_type": "code",
   "execution_count": null,
   "id": "930cb70c",
   "metadata": {},
   "outputs": [],
   "source": [
    "[tweet.text for tweet in public_tweets]"
   ]
  },
  {
   "cell_type": "code",
   "execution_count": null,
   "id": "79b21b76",
   "metadata": {},
   "outputs": [],
   "source": [
    "print(public_tweets[0].text)"
   ]
  },
  {
   "cell_type": "markdown",
   "id": "9672f80b",
   "metadata": {},
   "source": [
    "**`user_timeline` nos devuelve los tweets y respuestas de nuestro muro:**"
   ]
  },
  {
   "cell_type": "code",
   "execution_count": null,
   "id": "d0ec0f9a",
   "metadata": {},
   "outputs": [],
   "source": [
    "tweets = api.user_timeline(count = 10)\n",
    "for tweet in tweets:\n",
    "    print(f\"Texto: {tweet.text}\\nId: {tweet.id}\\nuser.name: {tweet.user.name}\")\n",
    "    print(\"*\"*30)"
   ]
  },
  {
   "cell_type": "markdown",
   "id": "bfb6525a",
   "metadata": {},
   "source": [
    "**Ver en qué idioma está escrito un tweet:**"
   ]
  },
  {
   "cell_type": "code",
   "execution_count": null,
   "id": "fc79d007",
   "metadata": {},
   "outputs": [],
   "source": [
    "tweets[-1].lang"
   ]
  },
  {
   "cell_type": "markdown",
   "id": "8b4fe667",
   "metadata": {},
   "source": [
    "**Ver el número de retweets y favoritos:**"
   ]
  },
  {
   "cell_type": "code",
   "execution_count": null,
   "id": "62fab581",
   "metadata": {},
   "outputs": [],
   "source": [
    "# Retweets\n",
    "print(tweets[0].retweet_count)\n",
    "\n",
    "# Retweets Favoritos\n",
    "print(tweets[0].favorite_count)"
   ]
  },
  {
   "cell_type": "markdown",
   "id": "2ee8ac50",
   "metadata": {},
   "source": [
    "**Retuitear un tweet:**"
   ]
  },
  {
   "cell_type": "code",
   "execution_count": null,
   "id": "79be4014",
   "metadata": {},
   "outputs": [],
   "source": [
    "api.retweet(tweets[0].id)"
   ]
  },
  {
   "cell_type": "markdown",
   "id": "8c28aefe",
   "metadata": {},
   "source": [
    "**Podemos darle follow a alguien:**"
   ]
  },
  {
   "cell_type": "code",
   "execution_count": null,
   "id": "f0bf912f",
   "metadata": {},
   "outputs": [],
   "source": [
    "# api.create_friendship(\"\")"
   ]
  },
  {
   "cell_type": "markdown",
   "id": "feafaa4a",
   "metadata": {},
   "source": [
    "**Podemos darle unfollow a alguien:**"
   ]
  },
  {
   "cell_type": "code",
   "execution_count": null,
   "id": "2e2fbfd0",
   "metadata": {},
   "outputs": [],
   "source": [
    "# api.destroy_friendship(\"\")"
   ]
  },
  {
   "cell_type": "markdown",
   "id": "18b1d1ca",
   "metadata": {},
   "source": [
    "**Podemos ver relaciones de amistad entre cuentas de twitter:**"
   ]
  },
  {
   "cell_type": "code",
   "execution_count": null,
   "id": "63cd6b65",
   "metadata": {},
   "outputs": [],
   "source": [
    "amistad = api.show_friendship(source_screen_name = \"ylecun\", target_screen_name = \"WilhelmDTR\")\n",
    "\n",
    "amistad"
   ]
  },
  {
   "cell_type": "markdown",
   "id": "3b938773",
   "metadata": {},
   "source": [
    "**El source (ylecun) es seguido por el target (Daniel)?**"
   ]
  },
  {
   "cell_type": "code",
   "execution_count": null,
   "id": "358e12d4",
   "metadata": {},
   "outputs": [],
   "source": [
    "amistad[0].followed_by"
   ]
  },
  {
   "cell_type": "code",
   "execution_count": null,
   "id": "e741a06c",
   "metadata": {},
   "outputs": [],
   "source": [
    "# También vale\n",
    "\n",
    "amistad[1].following"
   ]
  },
  {
   "cell_type": "markdown",
   "id": "98c20da5",
   "metadata": {},
   "source": [
    "**El source (ylecun) sigue al target (Daniel)?**"
   ]
  },
  {
   "cell_type": "code",
   "execution_count": null,
   "id": "089e6a69",
   "metadata": {},
   "outputs": [],
   "source": [
    "amistad[1].followed_by"
   ]
  },
  {
   "cell_type": "code",
   "execution_count": null,
   "id": "32bd81ea",
   "metadata": {},
   "outputs": [],
   "source": [
    "# También vale\n",
    "amistad[0].following"
   ]
  },
  {
   "cell_type": "markdown",
   "id": "119f130c",
   "metadata": {},
   "source": [
    "## Buscar personas y tweets\n",
    "\n",
    "**Con `search` y `search_users` podemos buscar personas y tweets por palabras:**"
   ]
  },
  {
   "cell_type": "code",
   "execution_count": null,
   "id": "150fc003",
   "metadata": {},
   "outputs": [],
   "source": [
    "# Tweets \n",
    "\n",
    "tweets_python = api.search(q = \"@movistar_es\", count = 5, tweet_mode = \"extended\")"
   ]
  },
  {
   "cell_type": "code",
   "execution_count": null,
   "id": "3ede2ae1",
   "metadata": {},
   "outputs": [],
   "source": [
    "tweets_python[0].full_text"
   ]
  },
  {
   "cell_type": "code",
   "execution_count": null,
   "id": "4d205502",
   "metadata": {},
   "outputs": [],
   "source": [
    "for tweet in tweets_python:\n",
    "    print(tweet.full_text)\n",
    "#    print(\"**********************\")"
   ]
  },
  {
   "cell_type": "code",
   "execution_count": null,
   "id": "ee2318b6",
   "metadata": {},
   "outputs": [],
   "source": [
    "# Usuarios\n",
    "\n",
    "users_python = api.search_users(q = \"python\", count = 5)"
   ]
  },
  {
   "cell_type": "code",
   "execution_count": null,
   "id": "434cacdb",
   "metadata": {},
   "outputs": [],
   "source": [
    "for user in users_python:\n",
    "    display_user_info(user)\n",
    "    print(\"\\n\")"
   ]
  },
  {
   "cell_type": "markdown",
   "id": "1382eebc",
   "metadata": {},
   "source": [
    "## Cursor\n",
    "\n",
    "Los métodos que estamos empleando obtienen información por páginas. Para obtener más información tenemos que usar **`.Cursor()`**.\n",
    "\n",
    "Sin **`.Cursor()`**, si queremos obtener, por ejemplo, todos los tweets de un usuario lo podemos hacer de la siguiente manera:"
   ]
  },
  {
   "cell_type": "code",
   "execution_count": null,
   "id": "6ffc916c",
   "metadata": {},
   "outputs": [],
   "source": [
    "page = 1\n",
    "while True:\n",
    "    tuits = api.user_timeline(\"ylecun\", page = page)\n",
    "    \n",
    "    for tuit in tuits:\n",
    "        print(tuit.text)\n",
    "        print(\"************\")\n",
    "        \n",
    "    page += 1\n",
    "    \n",
    "    if page == 5:\n",
    "        break"
   ]
  },
  {
   "cell_type": "code",
   "execution_count": null,
   "id": "8bbcc794",
   "metadata": {},
   "outputs": [],
   "source": [
    "tweets = tweepy.Cursor(api.user_timeline, \"ylecun\").items()"
   ]
  },
  {
   "cell_type": "code",
   "execution_count": null,
   "id": "972cca26",
   "metadata": {},
   "outputs": [],
   "source": [
    "for tweet in tweets:\n",
    "    print(tweet.text)"
   ]
  },
  {
   "cell_type": "markdown",
   "id": "2201c773",
   "metadata": {},
   "source": [
    "## Dataframe con datos de Twitter\n",
    "\n",
    "**Vamos a crear un `DataFrame` de `pandas` con datos de los tweets de 20minutos.**"
   ]
  },
  {
   "cell_type": "code",
   "execution_count": null,
   "id": "7791db76",
   "metadata": {},
   "outputs": [],
   "source": [
    "minutos = api.get_user(\"20m\")\n",
    "\n",
    "display_user_info(minutos)"
   ]
  },
  {
   "cell_type": "code",
   "execution_count": null,
   "id": "5cfd7611",
   "metadata": {},
   "outputs": [],
   "source": [
    "tweets = tweepy.Cursor(api.user_timeline, minutos.id).items()"
   ]
  },
  {
   "cell_type": "code",
   "execution_count": null,
   "id": "f04b01aa",
   "metadata": {},
   "outputs": [],
   "source": [
    "tweets_20minutos = [[tweet.text, tweet.created_at, tweet.id, tweet.retweet_count, tweet.favorite_count] for tweet in tweets]\n",
    "\n",
    "len(tweets_20minutos)"
   ]
  },
  {
   "cell_type": "code",
   "execution_count": null,
   "id": "ddb3f8ab",
   "metadata": {},
   "outputs": [],
   "source": [
    "tweets_20minutos[0]"
   ]
  },
  {
   "cell_type": "markdown",
   "id": "f2c013be",
   "metadata": {},
   "source": [
    "#### Creamos el DataFrame"
   ]
  },
  {
   "cell_type": "code",
   "execution_count": null,
   "id": "f12b8ab6",
   "metadata": {},
   "outputs": [],
   "source": [
    "df_20minutos = pd.DataFrame(tweets_20minutos, columns = [\"tweet\", \"date\", \"id\", \"rt\", \"fav\"])\n",
    "\n",
    "df_20minutos.head(3)"
   ]
  },
  {
   "cell_type": "code",
   "execution_count": null,
   "id": "e833949f",
   "metadata": {},
   "outputs": [],
   "source": [
    "df_20minutos.shape"
   ]
  },
  {
   "cell_type": "code",
   "execution_count": null,
   "id": "9bf08732",
   "metadata": {},
   "outputs": [],
   "source": [
    "df_20minutos[\"year\"] = df_20minutos[\"date\"].apply(lambda x: x.year)\n",
    "\n",
    "df_20minutos[\"month\"] = df_20minutos[\"date\"].apply(lambda x: x.month)\n",
    "\n",
    "df_20minutos[\"weekday\"] = df_20minutos[\"date\"].apply(lambda x: x.weekday())\n",
    "\n",
    "df_20minutos[\"hour\"] = df_20minutos[\"date\"].apply(lambda x: x.hour)\n",
    "\n",
    "df_20minutos.head(3)"
   ]
  },
  {
   "cell_type": "code",
   "execution_count": null,
   "id": "71e60d9d",
   "metadata": {},
   "outputs": [],
   "source": [
    "semana_map = {0 : \"Lunes\", 1 : \"Martes\", 2 : \"Miércoles\", 3 : \"Jueves\", 4 : \"Viernes\", 5 : \"Sábado\", 6 : \"Domingo\"}"
   ]
  },
  {
   "cell_type": "code",
   "execution_count": null,
   "id": "99ba97cb",
   "metadata": {},
   "outputs": [],
   "source": [
    "df_20minutos[\"weekday\"] = df_20minutos[\"weekday\"].map(semana_map)"
   ]
  },
  {
   "cell_type": "code",
   "execution_count": null,
   "id": "d6a6d1aa",
   "metadata": {},
   "outputs": [],
   "source": [
    "df_20minutos.head(3)"
   ]
  },
  {
   "cell_type": "markdown",
   "id": "dfa7a992",
   "metadata": {},
   "source": [
    "**Número de tweets por año**"
   ]
  },
  {
   "cell_type": "code",
   "execution_count": null,
   "id": "337f7258",
   "metadata": {},
   "outputs": [],
   "source": [
    "sns.countplot(df_20minutos[\"year\"])\n",
    "\n",
    "plt.show()"
   ]
  },
  {
   "cell_type": "markdown",
   "id": "8d56d607",
   "metadata": {},
   "source": [
    "**Número de tweets por meses:**"
   ]
  },
  {
   "cell_type": "code",
   "execution_count": null,
   "id": "f226a5bd",
   "metadata": {},
   "outputs": [],
   "source": [
    "sns.countplot(x = df_20minutos[df_20minutos[\"year\"] == 2021][\"month\"])\n",
    "\n",
    "plt.show()"
   ]
  },
  {
   "cell_type": "markdown",
   "id": "c50dcd5c",
   "metadata": {},
   "source": [
    "**Tweets de cada mes año por año:**"
   ]
  },
  {
   "cell_type": "code",
   "execution_count": null,
   "id": "7146a445",
   "metadata": {
    "scrolled": true
   },
   "outputs": [],
   "source": [
    "for year in df_20minutos[\"year\"].unique():\n",
    "    print(year)\n",
    "    sns.countplot(x = df_20minutos.loc[df_20minutos[\"year\"] == year][\"month\"])\n",
    "    plt.show()"
   ]
  },
  {
   "cell_type": "markdown",
   "id": "bb8aeba3",
   "metadata": {},
   "source": [
    "**Número de tweets por día de la semana:**"
   ]
  },
  {
   "cell_type": "code",
   "execution_count": null,
   "id": "ad51ba65",
   "metadata": {},
   "outputs": [],
   "source": [
    "sns.countplot(x = df_20minutos[\"weekday\"])\n",
    "\n",
    "plt.show()"
   ]
  },
  {
   "cell_type": "markdown",
   "id": "b7ca42d8",
   "metadata": {},
   "source": [
    "**Frecuencia de tweets por hora:**"
   ]
  },
  {
   "cell_type": "code",
   "execution_count": null,
   "id": "45a723ce",
   "metadata": {},
   "outputs": [],
   "source": [
    "sns.histplot(x = df_20minutos[\"hour\"], kde = True)\n",
    "\n",
    "plt.show()"
   ]
  },
  {
   "cell_type": "code",
   "execution_count": null,
   "id": "70a3c88e",
   "metadata": {},
   "outputs": [],
   "source": [
    "################################################################################################################################"
   ]
  }
 ],
 "metadata": {
  "kernelspec": {
   "display_name": "Python 3",
   "language": "python",
   "name": "python3"
  },
  "language_info": {
   "codemirror_mode": {
    "name": "ipython",
    "version": 3
   },
   "file_extension": ".py",
   "mimetype": "text/x-python",
   "name": "python",
   "nbconvert_exporter": "python",
   "pygments_lexer": "ipython3",
   "version": "3.8.8"
  }
 },
 "nbformat": 4,
 "nbformat_minor": 5
}
