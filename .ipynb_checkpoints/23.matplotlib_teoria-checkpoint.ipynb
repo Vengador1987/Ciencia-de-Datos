{
 "cells": [
  {
   "cell_type": "markdown",
   "id": "79aa2027",
   "metadata": {},
   "source": [
    "# Matplotlib\n",
    "\n",
    "**`matplotlib`** es una biblioteca para la generación de gráficos a partir de datos contenidos en **`listas`** o **`arrays`**.\n",
    "\n",
    "```python\n",
    "import matplotlib.pyplot as plt\n",
    "```\n",
    "\n",
    "Para generar las gráficas más comunes tenemos los siguientes métodos:\n",
    "\n",
    "|Función            | Plot                         |\n",
    "|-------------------|------------------------------|\n",
    "|**`plt.plot()`**   | Grafica **X vs Y** (lineal). |\n",
    "|**`plt.scatter()`**| Graficas de dispersión.      |\n",
    "|**`plt.bar()`**    | Grafico de barras vertical.  |\n",
    "|**`plt.barh()`**   | Grafico de barras horizontal.|\n",
    "\n",
    "\n",
    "Graficos estadísticos:\n",
    "\n",
    "|Función               |Plot               |\n",
    "|----------------------|-------------------|\n",
    "|**`plt.hist()`**      | Histogramas.      |\n",
    "|**`plt.boxplot()`**   | Grafico de cajas. |\n",
    "|**`plt.violinplot()`**| Grafico de violin.|\n",
    "|**`plt.pie()`**       | Diagrama circular.|"
   ]
  },
  {
   "cell_type": "code",
   "execution_count": null,
   "id": "353b736e",
   "metadata": {},
   "outputs": [],
   "source": [
    "import numpy as np\n",
    "import pandas as pd\n",
    "\n",
    "import matplotlib.pyplot as plt"
   ]
  },
  {
   "cell_type": "markdown",
   "id": "c3e63f68",
   "metadata": {},
   "source": [
    "### plt.plot()\n",
    "\n",
    "**`plt.plot`** hace gráficas de **X vs Y**, por lo que necesitamos una lista de valores para **X** y una para **Y**."
   ]
  },
  {
   "cell_type": "code",
   "execution_count": null,
   "id": "b1d4b173",
   "metadata": {
    "scrolled": true
   },
   "outputs": [],
   "source": [
    "# En este ejemplo voy a generar 2 listas: 1 con np.linspace() y otra aleatoria\n",
    "\n",
    "X = np.linspace(0, 10, 20)\n",
    "Y = np.random.randint(0, 40, 20)\n",
    "\n",
    "for x, y in zip(X, Y):\n",
    "    print(x, y)"
   ]
  },
  {
   "cell_type": "code",
   "execution_count": null,
   "id": "315caa8d",
   "metadata": {},
   "outputs": [],
   "source": [
    "plt.plot(X, Y)\n",
    "plt.show()"
   ]
  },
  {
   "cell_type": "code",
   "execution_count": null,
   "id": "af75cafa",
   "metadata": {},
   "outputs": [],
   "source": [
    "# Podemos hacer uso de numpy para graficar funciones:\n",
    "\n",
    "# Funcion coseno\n",
    "\n",
    "X = np.linspace(0, 20, 100)\n",
    "Y = np.cos(X)\n",
    "\n",
    "plt.plot(X, Y)\n",
    "plt.show()"
   ]
  },
  {
   "cell_type": "code",
   "execution_count": null,
   "id": "5f4d6e27",
   "metadata": {},
   "outputs": [],
   "source": [
    "# Función cuadrática:\n",
    "\n",
    "X = np.linspace(-20, 20, 20)\n",
    "Y = X**2\n",
    "\n",
    "plt.plot(X, Y)\n",
    "plt.show()"
   ]
  },
  {
   "cell_type": "code",
   "execution_count": null,
   "id": "479dae78",
   "metadata": {},
   "outputs": [],
   "source": [
    "# Podemos tener varios .plot() en un mismo plot.\n",
    "\n",
    "X = np.linspace(-5, 5, 20)\n",
    "Y1 = X**2\n",
    "Y2 = X**3\n",
    "\n",
    "# Plot de X**2\n",
    "plt.plot(X, Y1)\n",
    "\n",
    "# Plot de X**3\n",
    "plt.plot(X, Y2)\n",
    "\n",
    "plt.show()"
   ]
  },
  {
   "cell_type": "markdown",
   "id": "63ce34ab",
   "metadata": {},
   "source": [
    "# Personalizar plt.plot()\n",
    "\n",
    "La función **`plt.plot()`** tiene varios parámetros que podemos utilizar para agregar colores y estilos al plot."
   ]
  },
  {
   "cell_type": "code",
   "execution_count": null,
   "id": "9347804a",
   "metadata": {},
   "outputs": [],
   "source": [
    "X = np.linspace(-5, 5, 20)\n",
    "Y = np.random.randint(0, 20, 20)"
   ]
  },
  {
   "cell_type": "code",
   "execution_count": null,
   "id": "69871937",
   "metadata": {},
   "outputs": [],
   "source": [
    "plt.plot(X, Y)\n",
    "\n",
    "plt.show()"
   ]
  },
  {
   "cell_type": "code",
   "execution_count": null,
   "id": "d5e72d36",
   "metadata": {},
   "outputs": [],
   "source": [
    "plt.plot(X, Y, color = \"green\", marker = \"*\", markersize = 12, linestyle = \"dashed\", linewidth = 4, alpha = 0.5)\n",
    "\n",
    "plt.show()"
   ]
  },
  {
   "cell_type": "markdown",
   "id": "7efc4924",
   "metadata": {},
   "source": [
    "### plt.scatter()\n",
    "\n",
    "**`plt.scatter()`** hace gráficas de dispersion de **X** vs **Y**, por lo que necesitamos una lista de valores para **X** y una para **Y**."
   ]
  },
  {
   "cell_type": "code",
   "execution_count": null,
   "id": "c7868aef",
   "metadata": {},
   "outputs": [],
   "source": [
    "# Voy a generar 2 listas aleatorias\n",
    "\n",
    "X = np.random.random(100)\n",
    "Y = np.random.random(100)\n",
    "\n",
    "plt.scatter(X, Y)\n",
    "plt.show()"
   ]
  },
  {
   "cell_type": "markdown",
   "id": "807da943",
   "metadata": {},
   "source": [
    "### Personalizar plt.scatter()"
   ]
  },
  {
   "cell_type": "code",
   "execution_count": null,
   "id": "3ac24602",
   "metadata": {},
   "outputs": [],
   "source": [
    "plt.scatter(X, Y, marker = \"o\", color = \"red\", edgecolors = \"blue\", alpha = 0.5, s = 60, linewidths = 5)\n",
    "plt.show()"
   ]
  },
  {
   "cell_type": "markdown",
   "id": "418b175c",
   "metadata": {},
   "source": [
    "### plt.bar() y plt.barh()\n",
    "**`plt.bar()`** y **`plt.barh()`** hacen gráficas de barras de **X** con una lista de etiquetas, por lo que necesitamos una lista de valores para **X** y una lista de etiquetas."
   ]
  },
  {
   "cell_type": "code",
   "execution_count": null,
   "id": "32b1cb1b",
   "metadata": {},
   "outputs": [],
   "source": [
    "# Voy a generar una lista aleatoria\n",
    "\n",
    "# plt.bar()\n",
    "\n",
    "X = np.random.randint(0, 1000, 5)\n",
    "etiquetas = [\"a\", \"b\", \"c\", \"d\", \"e\"]\n",
    "\n",
    "\n",
    "plt.bar(etiquetas, X)\n",
    "plt.show()"
   ]
  },
  {
   "cell_type": "code",
   "execution_count": null,
   "id": "f95ee091",
   "metadata": {},
   "outputs": [],
   "source": [
    "# Voy a generar una lista aleatoria\n",
    "\n",
    "# plt.barh()\n",
    "\n",
    "X = np.random.randint(0, 1000, 5)\n",
    "etiquetas = [\"a\", \"b\", \"c\", \"d\", \"e\"]\n",
    "\n",
    "\n",
    "plt.barh(etiquetas, X)\n",
    "plt.show()"
   ]
  },
  {
   "cell_type": "markdown",
   "id": "bfb8feb2",
   "metadata": {},
   "source": [
    "### Personalizar plt.bar() y plt.barh()"
   ]
  },
  {
   "cell_type": "code",
   "execution_count": null,
   "id": "ed751fa9",
   "metadata": {},
   "outputs": [],
   "source": [
    "# Voy a generar una lista aleatoria\n",
    "\n",
    "# plt.bar()\n",
    "\n",
    "X = np.random.randint(0, 1000, 5)\n",
    "etiquetas = [\"a\", \"b\", \"c\", \"d\", \"e\"]\n",
    "\n",
    "\n",
    "plt.bar(etiquetas, X, width = 0.3, align = \"edge\", color = \"yellow\", edgecolor = \"purple\", linewidth = 3, alpha = 0.4)\n",
    "plt.show()"
   ]
  },
  {
   "cell_type": "code",
   "execution_count": null,
   "id": "e7eacf08",
   "metadata": {},
   "outputs": [],
   "source": [
    "# Voy a generar una lista aleatoria\n",
    "\n",
    "# plt.barh()\n",
    "\n",
    "X = np.random.randint(0, 1000, 5)\n",
    "etiquetas = [\"a\", \"b\", \"c\", \"d\", \"e\"]\n",
    "\n",
    "\n",
    "plt.barh(etiquetas, X, height = 0.3, align = \"edge\", color = \"yellow\", edgecolor = \"purple\", linewidth = 3, alpha = 0.4)\n",
    "plt.show()\n",
    "\n",
    "# Cambio de width por height"
   ]
  },
  {
   "cell_type": "markdown",
   "id": "b090d0f2",
   "metadata": {},
   "source": [
    "## Hacer plots con bucles"
   ]
  },
  {
   "cell_type": "code",
   "execution_count": null,
   "id": "c3abed3d",
   "metadata": {
    "scrolled": false
   },
   "outputs": [],
   "source": [
    "# Bucle for para mostrar 6 plots\n",
    "\n",
    "X = np.linspace(-5, 5, 20)\n",
    "Y = X\n",
    "\n",
    "for k, c in enumerate([\"green\", \"blue\", \"red\", \"black\", \"brown\", \"magenta\"]):\n",
    "    plt.plot(X, Y**(k + 1), color = c)  \n",
    "    plt.show()"
   ]
  },
  {
   "cell_type": "markdown",
   "id": "3639653d",
   "metadata": {},
   "source": [
    "## Subplots\n",
    "\n",
    "**`subplot`** es una función para hacer graficas en una **\"malla\"** o **\"matriz\"**."
   ]
  },
  {
   "cell_type": "code",
   "execution_count": null,
   "id": "ce02ce1c",
   "metadata": {},
   "outputs": [],
   "source": [
    "X = np.linspace(-5, 5, 20)\n",
    "Y = X\n",
    "\n",
    "# Como parametros de entrada para subplot vamos a tener 3 diferentes: num filas, num de col, el num de la grafica\n",
    "\n",
    "plt.figure(figsize = (12, 8))\n",
    "\n",
    "plt.subplot(2, 3, 1)  \n",
    "plt.plot(X, Y**1, color = \"green\")  \n",
    "\n",
    "plt.subplot(2, 3, 2)  \n",
    "plt.plot(X, Y**2, color = \"blue\")  \n",
    "\n",
    "plt.subplot(2, 3, 3)  \n",
    "plt.plot(X, Y**3, color = \"red\") \n",
    "\n",
    "plt.subplot(2, 3, 4)  \n",
    "plt.plot(X, Y**4, color = \"magenta\") \n",
    "\n",
    "plt.subplot(2, 3, 5)  \n",
    "plt.plot(X, Y**5, color = \"black\") \n",
    "\n",
    "plt.subplot(2, 3, 6)  \n",
    "plt.plot(X, Y**6, color = \"brown\") \n",
    "\n",
    "plt.show()  "
   ]
  },
  {
   "cell_type": "markdown",
   "id": "29c4c082",
   "metadata": {},
   "source": [
    "**Otra forma de utilizar los `subplots`:**"
   ]
  },
  {
   "cell_type": "code",
   "execution_count": null,
   "id": "67c4bcd7",
   "metadata": {},
   "outputs": [],
   "source": [
    "# Creamos la figura \"fig\" donde se le van agregar 3 subplots utilizando la variable \"ax\"\n",
    "\n",
    "fig, ax = plt.subplots(nrows = 3, ncols = 1, figsize = (6,6))\n",
    "\n",
    "\n",
    "x = np.linspace(0, 10, 100)\n",
    "\n",
    "ax[0].plot(x, np.sin(x))   \n",
    "\n",
    "ax[1].plot(x, np.cos(x))\n",
    "\n",
    "ax[2].plot(x, np.tan(x))\n",
    "\n",
    "plt.show()"
   ]
  },
  {
   "cell_type": "code",
   "execution_count": null,
   "id": "8b4c05f7",
   "metadata": {},
   "outputs": [],
   "source": [
    "# Creamos la figura \"fig\" donde se le van agregar 3 subplots utilizando la variable \"ax\"\n",
    "\n",
    "fig, ax = plt.subplots(nrows = 3, ncols = 2, figsize = (12, 12))\n",
    "\n",
    "# Primera Columna\n",
    "X = np.linspace(0, 10, 100)\n",
    "\n",
    "ax[0, 0].plot(X, np.sin(X))   \n",
    "\n",
    "ax[1, 0].plot(X, np.cos(X))\n",
    "\n",
    "ax[2, 0].plot(X, np.tan(X))\n",
    "\n",
    "# Segunda Columna\n",
    "Y = np.linspace(-1, 1, 100)\n",
    "\n",
    "ax[0, 1].plot(X, np.arcsin(Y))   \n",
    "\n",
    "ax[1, 1].plot(X, np.arccos(Y))\n",
    "\n",
    "ax[2, 1].plot(X, np.arctan(Y))\n",
    "\n",
    "plt.show()"
   ]
  },
  {
   "cell_type": "code",
   "execution_count": null,
   "id": "611d3ee4",
   "metadata": {},
   "outputs": [],
   "source": [
    "# Utilizamos un bucle for para llenar cada uno de los subplots de la figura \n",
    "\n",
    "x = np.linspace(-10, 10, 20)\n",
    "y = x\n",
    "\n",
    "fig, ax = plt.subplots(nrows = 2, ncols = 3, figsize = (14, 10))\n",
    "k = 1\n",
    "\n",
    "for rows in ax:  \n",
    "    for ax1 in rows:\n",
    "        ax1.plot(x, y**k, \"blue\")\n",
    "        k += 1\n",
    "        \n",
    "plt.show()"
   ]
  },
  {
   "cell_type": "markdown",
   "id": "17056fad",
   "metadata": {},
   "source": [
    "## Personalizar plots\n",
    "\n",
    "La libreria **`matplotlib`** tiene muchas formas de personalizar los plots, tanto usando los parámetros de la funciones o con otras funciones:\n",
    "\n",
    "|Función| Descripción |\n",
    "|-------|-------------|\n",
    "|**`plt.figure(figsize = (alto, ancho))`**| Modifica el tamaño del plot.|\n",
    "|**`plt.title()`**| Agrega un titulo al plot.|\n",
    "|**`plt.xlabel()`**| Agrega una etiqueta al eje X.|\n",
    "|**`plt.ylabel()`**| Agrega una etiqueta al eje Y.|\n",
    "|**`plt.legend()`**| Si se pasaron etiquetas al plot, muestra la leyenda.|\n",
    "|**`plt.xtick()`**| Modifica la vista de las marcas en el eje X.|\n",
    "|**`plt.ytick()`**| Modifica la vista de las marcas en el eje Y.|\n",
    "|**`plt.grid()`**| Agrega una malla o **\"grid\"** al plot.|"
   ]
  },
  {
   "cell_type": "code",
   "execution_count": null,
   "id": "2a80d659",
   "metadata": {},
   "outputs": [],
   "source": [
    "# Para añadir leyendas utilizamos legend()\n",
    "\n",
    "X = np.linspace(-2, 2, 20)\n",
    "Y = X ** 3\n",
    "Z = X ** 2\n",
    "\n",
    "plt.plot(X, Z, label = \"Función cuadrada\", color = \"magenta\")  \n",
    "plt.plot(X, Y, label = \"Función cubica\", color = \"green\") \n",
    "\n",
    "plt.legend()\n",
    "plt.title(\"Funciones\", fontsize = 15)\n",
    "plt.show()"
   ]
  },
  {
   "cell_type": "code",
   "execution_count": null,
   "id": "0af9eaa5",
   "metadata": {},
   "outputs": [],
   "source": [
    "# Voy a generar 2 listas aleatorias\n",
    "\n",
    "X = np.random.random(100)\n",
    "Y = np.random.random(100)\n",
    "\n",
    "# Tamaño de la figura\n",
    "plt.figure(figsize = (10, 8))\n",
    "\n",
    "# Scatter\n",
    "plt.scatter(X, Y)\n",
    "\n",
    "# Estilos\n",
    "plt.title(\"Scatter Plot.\", fontsize = 20)\n",
    "plt.xlabel(\"Eje X.\", fontsize = 15)\n",
    "plt.ylabel(\"Eje Y.\", fontsize = 15)\n",
    "plt.grid(True)\n",
    "\n",
    "plt.show()"
   ]
  },
  {
   "cell_type": "code",
   "execution_count": null,
   "id": "49021b0b",
   "metadata": {},
   "outputs": [],
   "source": [
    "# 2 barplots en un solo plot\n",
    "\n",
    "fig, ax = plt.subplots(figsize = (6, 6))\n",
    "\n",
    "etiquetas = [\"a\", \"b\", \"c\", \"d\"]\n",
    "valores1 = [10, 20, 30, 70]\n",
    "valores2 = [20, 40, 50, 60]\n",
    "\n",
    "x = np.arange(len(etiquetas))\n",
    "\n",
    "ancho = 0.3\n",
    "\n",
    "plt.bar(x - ancho/2, valores1, width = ancho, color = \"blue\")\n",
    "plt.bar(x + ancho/2, valores2, width = ancho , color = \"red\")\n",
    "\n",
    "ax.set_xticks(x)\n",
    "ax.set_xticklabels(etiquetas)\n",
    "plt.show()"
   ]
  },
  {
   "cell_type": "code",
   "execution_count": null,
   "id": "45379178",
   "metadata": {},
   "outputs": [],
   "source": [
    "# \"Concatenar\" barplots verticalmente\n",
    "\n",
    "fig, ax = plt.subplots(figsize = (12, 8))\n",
    "\n",
    "etiquetas=[\"a\",\"b\",\"c\",\"d\"]\n",
    "\n",
    "valores1=[10, 20, 30, 40]\n",
    "valores2=[20, 40, 50, 60]\n",
    "valores3=[20, 40, 50, 60]\n",
    "valores4=[100, 100, 100, 100]\n",
    "\n",
    "\n",
    "x = np.arange(len(etiquetas)) \n",
    "ancho = 0.5\n",
    "\n",
    "plt.bar(etiquetas, valores1, ancho, color = \"blue\")\n",
    "plt.bar(etiquetas, valores2, ancho, color = \"red\",     bottom = valores1)\n",
    "plt.bar(etiquetas, valores3, ancho, color = \"green\",   bottom = np.array(valores2) + np.array(valores1))\n",
    "plt.bar(etiquetas, valores4, ancho, color = \"magenta\", bottom = np.array(valores3) + np.array(valores2) + np.array(valores1))\n",
    "\n",
    "ax.set_xticks(x)\n",
    "ax.set_xticklabels(etiquetas)\n",
    "plt.show()"
   ]
  },
  {
   "cell_type": "markdown",
   "id": "a58560d5",
   "metadata": {},
   "source": [
    "## Cambiar el tamaño por defecto de las figuras"
   ]
  },
  {
   "cell_type": "code",
   "execution_count": null,
   "id": "2314209d",
   "metadata": {},
   "outputs": [],
   "source": [
    "# Para saber el tamaño de la figura por defecto \n",
    "\n",
    "plt.rcParams.get(\"figure.figsize\")"
   ]
  },
  {
   "cell_type": "code",
   "execution_count": null,
   "id": "c371cc71",
   "metadata": {},
   "outputs": [],
   "source": [
    "# Para cambiar el tamaño determinado\n",
    "\n",
    "fig_size = plt.rcParams[\"figure.figsize\"] \n",
    "\n",
    "fig_size[0] = 8 #Ancho de la gráfica \n",
    "fig_size[1] = 6 #Altura de la gráfica\n",
    "\n",
    "plt.rcParams[\"figure.figsize\"] = fig_size  "
   ]
  },
  {
   "cell_type": "code",
   "execution_count": null,
   "id": "d088c0db",
   "metadata": {},
   "outputs": [],
   "source": [
    "# Revisamos el nuevo tamaño de figura\n",
    "\n",
    "plt.rcParams.get(\"figure.figsize\")"
   ]
  },
  {
   "cell_type": "markdown",
   "id": "38c84386",
   "metadata": {},
   "source": [
    "## 3D"
   ]
  },
  {
   "cell_type": "code",
   "execution_count": null,
   "id": "af6219cf",
   "metadata": {},
   "outputs": [],
   "source": [
    "# Grafica de la función de Schwefel\n",
    "\n",
    "fig = plt.figure(figsize = (12, 8))\n",
    "ax = fig.gca(projection = \"3d\")\n",
    "\n",
    "# Valores del -100 al 100, con paso de 0.1\n",
    "X = np.arange(-100, 100, 0.1)\n",
    "Y = np.arange(-100, 100, 0.1)\n",
    "\n",
    "X, Y = np.meshgrid(X, Y) # Creación de la malla \n",
    "\n",
    "# Ecuacion de Schwefel\n",
    "Z = 418.9829 * 2 - (X*np.sin(np.sqrt(abs(X))) + Y*np.sin(np.sqrt(abs(Y))))\n",
    "\n",
    "# Plot de la superficie\n",
    "ax.plot_surface(X, Y, Z)\n",
    "\n",
    "plt.show()"
   ]
  },
  {
   "cell_type": "markdown",
   "id": "daf67618",
   "metadata": {},
   "source": [
    "## plt.savefig()\n",
    "\n",
    "**`plt.savefig()`** se usa para guardar la figura. Hay que llamar a esta función antes de **`plt.show()`**. Si lo hacemos después guardaremos una figura vacia."
   ]
  },
  {
   "cell_type": "code",
   "execution_count": null,
   "id": "bfe87b89",
   "metadata": {},
   "outputs": [],
   "source": [
    "# Para añadir leyendas utilizamos legend()\n",
    "\n",
    "X = np.linspace(-2, 2, 20)\n",
    "Y = X ** 3\n",
    "Z = X ** 2\n",
    "\n",
    "plt.plot(X, Z, label = \"Función cuadrada\", color = \"magenta\")  \n",
    "plt.plot(X, Y, label = \"Función cubica\", color = \"green\") \n",
    "\n",
    "plt.legend()\n",
    "plt.title(\"Funciones\", fontsize = 15)\n",
    "\n",
    "plt.savefig(\"figura_1.png\")\n",
    "plt.show()"
   ]
  },
  {
   "cell_type": "markdown",
   "id": "831ccfbb",
   "metadata": {},
   "source": [
    "## Graficos Estadísticos"
   ]
  },
  {
   "cell_type": "code",
   "execution_count": null,
   "id": "9e7d9aa6",
   "metadata": {},
   "outputs": [],
   "source": [
    "# Vamos a utilizar las columnas del DataFrame de \"iris.csv\"\n",
    "\n",
    "iris = pd.read_csv(\"iris.csv\")\n",
    "\n",
    "iris.head(3)"
   ]
  },
  {
   "cell_type": "markdown",
   "id": "9431a89f",
   "metadata": {},
   "source": [
    "### Histogramas\n",
    "\n",
    "**`plt.hist()`** muestra la frecuencia de los elementos de una lista."
   ]
  },
  {
   "cell_type": "code",
   "execution_count": null,
   "id": "c7b1d2e7",
   "metadata": {},
   "outputs": [],
   "source": [
    "plt.hist(iris[\"Largo Sepalo\"])\n",
    "plt.show()"
   ]
  },
  {
   "cell_type": "markdown",
   "id": "1c0d3976",
   "metadata": {},
   "source": [
    "### Personalisar los histogramas"
   ]
  },
  {
   "cell_type": "code",
   "execution_count": null,
   "id": "daff135c",
   "metadata": {
    "scrolled": false
   },
   "outputs": [],
   "source": [
    "plt.hist(iris[\"Largo Sepalo\"], bins = 50, color = \"green\", alpha = 0.4)\n",
    "plt.show()"
   ]
  },
  {
   "cell_type": "code",
   "execution_count": null,
   "id": "f12a94c5",
   "metadata": {},
   "outputs": [],
   "source": [
    "plt.hist(iris[\"Largo Sepalo\"], bins = 50, color = \"green\", alpha = 0.4, orientation = \"horizontal\")\n",
    "plt.show()"
   ]
  },
  {
   "cell_type": "code",
   "execution_count": null,
   "id": "2c621f54",
   "metadata": {},
   "outputs": [],
   "source": [
    "# Varios histogramas en un mismo plot\n",
    "\n",
    "plt.hist(iris.iloc[:50, 2],     bins = 20, alpha = 0.5, color = \"magenta\")\n",
    "\n",
    "plt.hist(iris.iloc[50:100, 2],  bins = 20, alpha = 0.5, color = \"Blue\")\n",
    "\n",
    "plt.hist(iris.iloc[100:150, 2], bins = 20, alpha = 0.5, color = \"Red\")\n",
    "\n",
    "plt.show()"
   ]
  },
  {
   "cell_type": "code",
   "execution_count": null,
   "id": "b6118ddc",
   "metadata": {},
   "outputs": [],
   "source": [
    "# Comparando con plt.plot()\n",
    "\n",
    "plt.plot(iris.iloc[:50, 2],     alpha = 0.5, color = \"magenta\")\n",
    "\n",
    "plt.plot(iris.iloc[50:100, 2],  alpha = 0.5, color = \"Blue\")\n",
    "\n",
    "plt.plot(iris.iloc[100:150, 2], alpha = 0.5, color = \"Red\")\n",
    "\n",
    "plt.show()"
   ]
  },
  {
   "cell_type": "markdown",
   "id": "f90602f6",
   "metadata": {},
   "source": [
    "### Boxplot\n",
    "\n",
    "**`plt.boxplot()`** para los boxplots necesitamos una lista de datos para cada categoria. Muestra un resumen de una gran cantidad de datos en cinco medidas descriptivas, además de intuir su morfología y simetría. Este tipo de gráficos nos permite identificar valores atípicos (outliers) y comparar distribuciones.\n",
    "\n",
    "Los datos se dividen en cuatro partes iguales, separadas por puntos llamados cuartiles (quartiles).\n",
    "\n",
    "- Rango (sin datos atípicos)\n",
    "- Datos atípicos (outliers)\n",
    "- Rango Intercuartil (también conocido como RIC)\n",
    "- Cuartiles (Q1, Q2 y Q3)\n",
    "- Mediana (Q2)\n",
    "- Mínimo y Máximo"
   ]
  },
  {
   "cell_type": "code",
   "execution_count": null,
   "id": "2c593f53",
   "metadata": {},
   "outputs": [],
   "source": [
    "data = iris.iloc[:, :4]\n",
    "etiquetas = iris.columns[:4]\n",
    "\n",
    "plt.boxplot(x = data, labels = etiquetas)\n",
    "plt.show()"
   ]
  },
  {
   "cell_type": "markdown",
   "id": "0abf8d4b",
   "metadata": {},
   "source": [
    "### Violin plot\n",
    "\n",
    "**`plt.violinplot()`** genera gráfica de violines. En resumen es un **`boxplot`** con **`histogramas`**."
   ]
  },
  {
   "cell_type": "code",
   "execution_count": null,
   "id": "4d3816ec",
   "metadata": {},
   "outputs": [],
   "source": [
    "data = iris.iloc[:, :4]\n",
    "etiquetas = iris.columns[:4]\n",
    "\n",
    "plt.violinplot(data, showmeans = True, showmedians = True, )\n",
    "plt.show()"
   ]
  },
  {
   "cell_type": "markdown",
   "id": "d75e475e",
   "metadata": {},
   "source": [
    "### Pie plot\n",
    "\n",
    "**`plt.pie()`** genera un diagrama circular o grafico de pastel (pie). Para poder generarlo necesita una lista de datos y una lista de etiquetas."
   ]
  },
  {
   "cell_type": "code",
   "execution_count": null,
   "id": "5d74b3d3",
   "metadata": {},
   "outputs": [],
   "source": [
    "tipo_gol = \"Penalties\", \"Gol de campo\", \"tiro libre\"\n",
    "goles = [12, 38, 7]  \n",
    "colores = [\"magenta\", \"green\", \"red\"]\n",
    "\n",
    "plt.pie(goles, labels = tipo_gol, colors = colores, shadow = True, explode = (0.0, 0.0, 0.0))  \n",
    "plt.show()  "
   ]
  },
  {
   "cell_type": "code",
   "execution_count": null,
   "id": "8d8a32cd",
   "metadata": {},
   "outputs": [],
   "source": [
    "tipo_gol = \"Penalties\", \"Gol de campo\", \"tiro libre\"\n",
    "goles = [12, 38, 7]  \n",
    "colores = [\"magenta\", \"green\", \"red\"]\n",
    "\n",
    "plt.pie(goles, labels = tipo_gol, colors = colores, shadow = True, explode = (0.1, 0.1, 0.1), autopct = \"%1.1f%%\")  \n",
    "plt.show()  "
   ]
  },
  {
   "cell_type": "code",
   "execution_count": null,
   "id": "a28862ad",
   "metadata": {},
   "outputs": [],
   "source": [
    "etiquetas = iris[\"Clase\"].unique()\n",
    "data = iris[\"Clase\"].value_counts().values  \n",
    "colores = [\"magenta\", \"green\", \"red\"]\n",
    "\n",
    "plt.pie(data, labels = etiquetas, colors = colores, shadow = True, explode = (0.1, 0.1, 0.1), autopct = \"%1.1f%%\")\n",
    "plt.title(\"Iris\", fontsize = 20)\n",
    "plt.show()  "
   ]
  },
  {
   "cell_type": "code",
   "execution_count": null,
   "id": "b34b2830",
   "metadata": {},
   "outputs": [],
   "source": [
    "################################################################################################################################"
   ]
  }
 ],
 "metadata": {
  "kernelspec": {
   "display_name": "Python 3",
   "language": "python",
   "name": "python3"
  },
  "language_info": {
   "codemirror_mode": {
    "name": "ipython",
    "version": 3
   },
   "file_extension": ".py",
   "mimetype": "text/x-python",
   "name": "python",
   "nbconvert_exporter": "python",
   "pygments_lexer": "ipython3",
   "version": "3.8.8"
  }
 },
 "nbformat": 4,
 "nbformat_minor": 5
}
