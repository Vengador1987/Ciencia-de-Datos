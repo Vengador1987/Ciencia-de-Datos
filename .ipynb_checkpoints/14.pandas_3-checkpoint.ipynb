{
 "cells": [
  {
   "cell_type": "code",
   "execution_count": null,
   "id": "3d390951",
   "metadata": {},
   "outputs": [],
   "source": [
    "import numpy as np\n",
    "import pandas as pd"
   ]
  },
  {
   "cell_type": "code",
   "execution_count": null,
   "id": "d8699ec9",
   "metadata": {},
   "outputs": [],
   "source": [
    "df = pd.read_csv(\"titanic_1.csv\")\n",
    "df"
   ]
  },
  {
   "cell_type": "markdown",
   "id": "cb83c660",
   "metadata": {},
   "source": [
    "### map"
   ]
  },
  {
   "cell_type": "code",
   "execution_count": null,
   "id": "8c07b443",
   "metadata": {},
   "outputs": [],
   "source": [
    "# El método .map() toma como parametro una función y aplica esa función a toda la columna.\n",
    "# Se utiliza solamente para Series\n",
    "# No es in-place\n",
    "\n",
    "df[\"Age\"].map(lambda x : np.sqrt(x))"
   ]
  },
  {
   "cell_type": "code",
   "execution_count": null,
   "id": "b9f6ba07",
   "metadata": {},
   "outputs": [],
   "source": [
    "df[\"Age\"].map(lambda x : x*2)"
   ]
  },
  {
   "cell_type": "code",
   "execution_count": null,
   "id": "22793249",
   "metadata": {},
   "outputs": [],
   "source": [
    "df[\"AgeSQRT\"] = df[\"Age\"].map(lambda x : np.sqrt(x))\n",
    "\n",
    "df.head()"
   ]
  },
  {
   "cell_type": "code",
   "execution_count": null,
   "id": "781a0009",
   "metadata": {},
   "outputs": [],
   "source": [
    "# La función lambda nos deja aplicar muchas funciones sin tener que definir una\n",
    "\n",
    "df[\"Surname\"] = df[\"Name\"].map(lambda x : x.split(\",\")[0])\n",
    "\n",
    "df"
   ]
  },
  {
   "cell_type": "code",
   "execution_count": null,
   "id": "ee9426b1",
   "metadata": {},
   "outputs": [],
   "source": [
    "df[\"AgeSQRT\"].map(lambda x : \"mayor\" if x > 5 else \"menor\")"
   ]
  },
  {
   "cell_type": "code",
   "execution_count": null,
   "id": "41abf2a7",
   "metadata": {},
   "outputs": [],
   "source": [
    "# .map() también acepta un diccionario como parametro\n",
    "# Hace lo mismo que .replace() \n",
    "\n",
    "df[\"Sex\"].map({\"male\" : \"H\", \"female\" : \"M\"})"
   ]
  },
  {
   "cell_type": "code",
   "execution_count": null,
   "id": "77c0a586",
   "metadata": {},
   "outputs": [],
   "source": [
    "# Usando .replace()\n",
    "\n",
    "df[\"Sex\"].replace({\"male\" : \"H\", \"female\" : \"M\"})"
   ]
  },
  {
   "cell_type": "markdown",
   "id": "afe1dc97",
   "metadata": {},
   "source": [
    "### applymap"
   ]
  },
  {
   "cell_type": "code",
   "execution_count": null,
   "id": "f2070a04",
   "metadata": {},
   "outputs": [],
   "source": [
    "# Con .applymap() podemos aplicar funciones a varias columnas a la vez\n",
    "# Esto es un método propio de los DataFrames\n",
    "\n",
    "df[[\"Name\", \"Sex\"]].applymap(lambda x : x.lower())"
   ]
  },
  {
   "cell_type": "code",
   "execution_count": null,
   "id": "e68a3497",
   "metadata": {},
   "outputs": [],
   "source": [
    "# .map() no puede hacer esto\n",
    "\n",
    "df[[\"Name\", \"Sex\"]].map(lambda x : x.upper())"
   ]
  },
  {
   "cell_type": "markdown",
   "id": "8a2668d6",
   "metadata": {},
   "source": [
    "### apply"
   ]
  },
  {
   "cell_type": "code",
   "execution_count": null,
   "id": "b1c74da3",
   "metadata": {},
   "outputs": [],
   "source": [
    "# .apply() Se puede utilizar para Series y DataFrames\n",
    "\n",
    "df[\"Age\"].apply(lambda x : np.sqrt(x))"
   ]
  },
  {
   "cell_type": "code",
   "execution_count": null,
   "id": "8e4bb5a4",
   "metadata": {},
   "outputs": [],
   "source": [
    "df[[\"PassengerId\", \"Age\"]].apply(lambda x : np.sqrt(x))"
   ]
  },
  {
   "cell_type": "markdown",
   "id": "d36a55ba",
   "metadata": {},
   "source": [
    "### Obtener los valors de una Serie"
   ]
  },
  {
   "cell_type": "code",
   "execution_count": null,
   "id": "ee0a0540",
   "metadata": {},
   "outputs": [],
   "source": [
    "# El atributo .values retorna un array con los elementos de la columna\n",
    "df[\"Sex\"].values"
   ]
  },
  {
   "cell_type": "markdown",
   "id": "28b271fc",
   "metadata": {},
   "source": [
    "### Encontrar NaN's"
   ]
  },
  {
   "cell_type": "code",
   "execution_count": null,
   "id": "00a4299a",
   "metadata": {},
   "outputs": [],
   "source": [
    "# Normalmente en casi todas las operaciones que hace pandas se omiten los valores nulos (NaN's)\n",
    "# Si quisieramos ver cuantos hay podemos hacer:\n",
    "\n",
    "df[\"Age\"].value_counts()\n",
    "\n",
    "# Aquí pandas está omitiendo los NaN's"
   ]
  },
  {
   "cell_type": "code",
   "execution_count": null,
   "id": "0fbc6115",
   "metadata": {},
   "outputs": [],
   "source": [
    "# Si agregamos este parametro ya no omitirá los NaN's\n",
    "\n",
    "df[\"Age\"].value_counts(dropna = False)"
   ]
  },
  {
   "cell_type": "code",
   "execution_count": null,
   "id": "493fc9e8",
   "metadata": {},
   "outputs": [],
   "source": [
    "# Con .isnull() podemos filtrar el DataFrame para ver las filas con NaN's de una columna\n",
    "\n",
    "df[df[\"Age\"].isnull()]"
   ]
  },
  {
   "cell_type": "code",
   "execution_count": null,
   "id": "70a8b8dd",
   "metadata": {},
   "outputs": [],
   "source": [
    "# Para eliminar los NaN's podemos usar .dropna()\n",
    "# Esta operación no es in-place\n",
    "\n",
    "df.dropna()"
   ]
  },
  {
   "cell_type": "code",
   "execution_count": null,
   "id": "56381789",
   "metadata": {},
   "outputs": [],
   "source": [
    "# Si quisieramos que fuese in-place podemos escribir:\n",
    "\n",
    "df.dropna(inplace = True)\n",
    "\n",
    "# NO EJECUTAR"
   ]
  },
  {
   "cell_type": "markdown",
   "id": "47899117",
   "metadata": {},
   "source": [
    "### groupby"
   ]
  },
  {
   "cell_type": "code",
   "execution_count": null,
   "id": "06d19d8b",
   "metadata": {},
   "outputs": [],
   "source": [
    "df = pd.read_excel(\"Canada.xlsx\")\n",
    "\n",
    "df.head(3)"
   ]
  },
  {
   "cell_type": "code",
   "execution_count": null,
   "id": "48364ba8",
   "metadata": {},
   "outputs": [],
   "source": [
    "# .groupby() se usa para agrupar filas que tienen los mismos valores.\n",
    "# Obligatoriamente se usa junto con funciones agregadas para producir informes resumidos.\n",
    "\n",
    "df.groupby(\"Continente\")\n",
    "\n",
    "# Me devuelve el objeto de la agrupación"
   ]
  },
  {
   "cell_type": "code",
   "execution_count": null,
   "id": "f1a4df9f",
   "metadata": {},
   "outputs": [],
   "source": [
    "# .first() Me devuelve un elemento de cada agrupación\n",
    "\n",
    "df.groupby(\"Continente\").first()"
   ]
  },
  {
   "cell_type": "code",
   "execution_count": null,
   "id": "9ccb2e63",
   "metadata": {},
   "outputs": [],
   "source": [
    "df.groupby(\"Tipo de region\").head(1)"
   ]
  },
  {
   "cell_type": "code",
   "execution_count": null,
   "id": "3081a2d0",
   "metadata": {},
   "outputs": [],
   "source": [
    "# Podemos agrupar por más de una columna\n",
    "\n",
    "df.groupby([\"Continente\", \"Tipo de region\"]).first()"
   ]
  },
  {
   "cell_type": "code",
   "execution_count": null,
   "id": "b849d991",
   "metadata": {},
   "outputs": [],
   "source": [
    "df.groupby([\"Tipo de region\", \"Continente\"]).first()"
   ]
  },
  {
   "cell_type": "code",
   "execution_count": null,
   "id": "6bc659b4",
   "metadata": {},
   "outputs": [],
   "source": [
    "# .index nos retorna la forma del indice del DataFrame\n",
    "\n",
    "df.groupby([\"Continente\",\"Tipo de region\"]).first().index"
   ]
  },
  {
   "cell_type": "code",
   "execution_count": null,
   "id": "6ead9515",
   "metadata": {},
   "outputs": [],
   "source": [
    "# .last() Devuelve el último elemento de la agrupación\n",
    "df.groupby([\"Continente\"]).last()"
   ]
  },
  {
   "cell_type": "code",
   "execution_count": null,
   "id": "1ba1ecbd",
   "metadata": {},
   "outputs": [],
   "source": [
    "# .size() Devuelve el tamaño de cada grupo de la agrupación\n",
    "\n",
    "df.groupby([\"Continente\"]).size()"
   ]
  },
  {
   "cell_type": "code",
   "execution_count": null,
   "id": "d3d5accf",
   "metadata": {},
   "outputs": [],
   "source": [
    "df.groupby([\"Tipo de region\"]).size()"
   ]
  },
  {
   "cell_type": "code",
   "execution_count": null,
   "id": "dc12891d",
   "metadata": {},
   "outputs": [],
   "source": [
    "#  .count() Cuenta el número de elementos que no son NaN's\n",
    "\n",
    "df.groupby([\"Continente\"]).count()"
   ]
  },
  {
   "cell_type": "code",
   "execution_count": null,
   "id": "356a1dcd",
   "metadata": {},
   "outputs": [],
   "source": [
    "# Agrupamos por continente y luego sumamos la migración de cada continente en el año 1980\n",
    "\n",
    "df.groupby(\"Continente\")[1980].sum()"
   ]
  },
  {
   "cell_type": "code",
   "execution_count": null,
   "id": "ccbc5b1c",
   "metadata": {},
   "outputs": [],
   "source": [
    "df.groupby(\"Continente\")[[2008, 2009, 2010]].sum()"
   ]
  },
  {
   "cell_type": "code",
   "execution_count": null,
   "id": "3ec31b79",
   "metadata": {},
   "outputs": [],
   "source": [
    "# Para encontrar los valores máximos de cada continente en el año 1980\n",
    "\n",
    "df.groupby(\"Continente\")[1980].max()"
   ]
  },
  {
   "cell_type": "code",
   "execution_count": null,
   "id": "8e6df3c2",
   "metadata": {},
   "outputs": [],
   "source": [
    "# .aggregate() toma una lista de funciones agregadas y las aplica a todas las columnas\n",
    "\n",
    "df.groupby(\"Continente\")[[2010, 2011, 2012]].aggregate([min, max, sum])"
   ]
  },
  {
   "cell_type": "code",
   "execution_count": null,
   "id": "977fbefe",
   "metadata": {},
   "outputs": [],
   "source": [
    "df.groupby(\"Continente\")[list(range(1980, 1988))].aggregate([min, max, sum])"
   ]
  },
  {
   "cell_type": "code",
   "execution_count": null,
   "id": "307ec74e",
   "metadata": {},
   "outputs": [],
   "source": [
    "# .agg() toma como parametro un diccionario\n",
    "# Las llaves son los nombres de las columnas\n",
    "# Los valores son listas de funciones agregadas\n",
    "# Aquí podemos elegir a que columnas aplicar que funcion\n",
    "\n",
    "df.groupby(\"Continente\").agg({2010 : [\"min\",\"max\",\"sum\"],\n",
    "                              2011 : [\"min\",\"max\"],\n",
    "                              2012 : [\"sum\"]})"
   ]
  },
  {
   "cell_type": "code",
   "execution_count": null,
   "id": "4909f147",
   "metadata": {},
   "outputs": [],
   "source": [
    "df5 = df.groupby(\"Continente\").agg({2010 : [\"min\",\"max\",\"sum\"],\n",
    "                                    2011 : [\"min\",\"max\"],\n",
    "                                    2012 : [\"sum\"]})\n",
    "\n",
    "df5.reset_index()"
   ]
  },
  {
   "cell_type": "code",
   "execution_count": null,
   "id": "4b18853a",
   "metadata": {},
   "outputs": [],
   "source": [
    "# Para tener un resultados como el anterior, podemos pasarle un parametro extra a .groupby()\n",
    "\n",
    "df.groupby(\"Continente\", as_index = False).agg({2010 : [\"min\",\"max\",\"sum\"],\n",
    "                                                2011 : [\"min\",\"max\"],\n",
    "                                                2012 : [\"sum\"]})"
   ]
  },
  {
   "cell_type": "code",
   "execution_count": null,
   "id": "5950cf71",
   "metadata": {},
   "outputs": [],
   "source": [
    "# Este código elimina los multi-indices\n",
    "\n",
    "columnas = list()\n",
    "\n",
    "for i in df5.columns.values:\n",
    "    print(str(i[0]) + \"_\" + i[1])\n",
    "\n",
    "    columnas.append(str(i[0]) + \"_\" + i[1])\n",
    "    \n",
    "df5.columns = columnas\n",
    "\n",
    "df5.reset_index()"
   ]
  },
  {
   "cell_type": "code",
   "execution_count": null,
   "id": "67e16fc3",
   "metadata": {},
   "outputs": [],
   "source": [
    "################################################################################################################################"
   ]
  }
 ],
 "metadata": {
  "kernelspec": {
   "display_name": "Python 3",
   "language": "python",
   "name": "python3"
  },
  "language_info": {
   "codemirror_mode": {
    "name": "ipython",
    "version": 3
   },
   "file_extension": ".py",
   "mimetype": "text/x-python",
   "name": "python",
   "nbconvert_exporter": "python",
   "pygments_lexer": "ipython3",
   "version": "3.8.8"
  }
 },
 "nbformat": 4,
 "nbformat_minor": 5
}
