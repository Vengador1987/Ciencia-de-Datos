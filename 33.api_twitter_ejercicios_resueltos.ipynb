{
 "cells": [
  {
   "cell_type": "markdown",
   "id": "30a8637f",
   "metadata": {},
   "source": [
    "## Ejercicios Api Twitter"
   ]
  },
  {
   "cell_type": "code",
   "execution_count": 2,
   "id": "8dbc68be",
   "metadata": {},
   "outputs": [],
   "source": [
    "import numpy as np\n",
    "import pandas as pd\n",
    "\n",
    "from matplotlib import pyplot as plt\n",
    "import seaborn as sns\n",
    "\n",
    "from time import sleep\n",
    "\n",
    "import tweepy"
   ]
  },
  {
   "cell_type": "code",
   "execution_count": 3,
   "id": "a89ff227",
   "metadata": {},
   "outputs": [],
   "source": [
    "consumer_key        = \"eChpsVGdzR3v1B4IucU9FCmJN\"\n",
    "consumer_secret     = \"SjMczFtbHM8pfF4xbZSVihCivYRZmMZGdFC9btFKguUjGxaQg7\"\n",
    "access_token        = \"55685590-BuFJZqrWcN3rL3kN0DlwH2SZimWhDSRdaulvRQexh\"\n",
    "access_token_secret = \"asKnk5LavSOWlRwmDrDtv05i5Q1ABB7sj6iyWGg5EFZHB\"\n",
    "\n",
    "auth = tweepy.OAuthHandler(consumer_key, consumer_secret)\n",
    "auth.set_access_token(access_token, access_token_secret)\n",
    "api = tweepy.API(auth)"
   ]
  },
  {
   "cell_type": "markdown",
   "id": "b713c10b",
   "metadata": {},
   "source": [
    "### Ejercicio 1:\n",
    "- Obtén 2 artículos de 20minutos.com y en 2 tweets publica:\n",
    "1. El titulo del articulo, la fecha, el autor y la categoría con la imagen del articulo.\n",
    "2. **TITULO ARTICULO - CATEGORIA - FECHA - AUTOR - IMAGEN**"
   ]
  },
  {
   "cell_type": "code",
   "execution_count": null,
   "id": "aed50f4d",
   "metadata": {},
   "outputs": [],
   "source": []
  },
  {
   "cell_type": "code",
   "execution_count": null,
   "id": "074475a1",
   "metadata": {},
   "outputs": [],
   "source": []
  },
  {
   "cell_type": "code",
   "execution_count": null,
   "id": "c86bf84a",
   "metadata": {},
   "outputs": [],
   "source": []
  },
  {
   "cell_type": "markdown",
   "id": "a3ef4bc8",
   "metadata": {},
   "source": [
    "### Ejercicio 2:\n",
    "- Realiza una búsqueda de los siguientes hashtags y obtén 5 tweets por cada hashtag: \n",
    "    - **#MachineLearning**\n",
    "    - **#DeepLearning**\n",
    "    - **#Python**\n",
    "    - **#RegularExpressions**\n",
    "    - **#JSON**"
   ]
  },
  {
   "cell_type": "code",
   "execution_count": 4,
   "id": "a517d0d4",
   "metadata": {},
   "outputs": [
    {
     "data": {
      "text/plain": [
       "23"
      ]
     },
     "execution_count": 4,
     "metadata": {},
     "output_type": "execute_result"
    }
   ],
   "source": [
    "hashtags = [\"#MachineLearning\", \"#DeepLearning\", \"#Python\", \"#RegularExpressions\", \"#JSON\"]\n",
    "\n",
    "lista_hashtags = list()\n",
    "\n",
    "for h in hashtags:\n",
    "    lista_hashtags.extend(api.search_tweets(q = h, count = 5, tweet_mode = \"extended\" ))\n",
    "\n",
    "len(lista_hashtags)"
   ]
  },
  {
   "cell_type": "code",
   "execution_count": null,
   "id": "a530cd37",
   "metadata": {},
   "outputs": [],
   "source": []
  },
  {
   "cell_type": "code",
   "execution_count": null,
   "id": "707abd14",
   "metadata": {},
   "outputs": [],
   "source": []
  },
  {
   "cell_type": "markdown",
   "id": "99524201",
   "metadata": {},
   "source": [
    "### Ejercicio 3:\n",
    "- Obtén la siguiente información de cada tweet del ejercicio anterior: \n",
    "    - **Tweet**\n",
    "    - **Name**\n",
    "    - **Location**\n",
    "    - **Id**\n",
    "    - **Date**\n",
    "    - **Re tweets**\n",
    "    - **Fav**\n",
    "\n",
    "Guarda esta información en un **`DataFrame`**."
   ]
  },
  {
   "cell_type": "code",
   "execution_count": 9,
   "id": "8d6a4bc1",
   "metadata": {},
   "outputs": [
    {
     "data": {
      "text/plain": [
       "23"
      ]
     },
     "execution_count": 9,
     "metadata": {},
     "output_type": "execute_result"
    }
   ],
   "source": [
    "datos = list()\n",
    "\n",
    "for tweet in lista_hashtags:\n",
    "    texto    = tweet.full_text\n",
    "    usuario  = tweet.user.name\n",
    "    location = tweet.user.location\n",
    "    id_      = tweet.id\n",
    "    fecha    = tweet.created_at\n",
    "    retweet  = tweet.retweet_count\n",
    "    favorito = tweet.favorite_count\n",
    "    \n",
    "    datos.append([texto, usuario, location, id_, fecha, retweet, favorito])\n",
    "    \n",
    "len(datos)"
   ]
  },
  {
   "cell_type": "code",
   "execution_count": 10,
   "id": "6bca4873",
   "metadata": {},
   "outputs": [
    {
     "data": {
      "text/html": [
       "<div>\n",
       "<style scoped>\n",
       "    .dataframe tbody tr th:only-of-type {\n",
       "        vertical-align: middle;\n",
       "    }\n",
       "\n",
       "    .dataframe tbody tr th {\n",
       "        vertical-align: top;\n",
       "    }\n",
       "\n",
       "    .dataframe thead th {\n",
       "        text-align: right;\n",
       "    }\n",
       "</style>\n",
       "<table border=\"1\" class=\"dataframe\">\n",
       "  <thead>\n",
       "    <tr style=\"text-align: right;\">\n",
       "      <th></th>\n",
       "      <th>text</th>\n",
       "      <th>user</th>\n",
       "      <th>location</th>\n",
       "      <th>tweet_id</th>\n",
       "      <th>date</th>\n",
       "      <th>retweet</th>\n",
       "      <th>favorite</th>\n",
       "    </tr>\n",
       "  </thead>\n",
       "  <tbody>\n",
       "    <tr>\n",
       "      <th>0</th>\n",
       "      <td>This is one of my favorites from my abandoned ...</td>\n",
       "      <td>Jacob F Bailey</td>\n",
       "      <td>Oregon, US</td>\n",
       "      <td>1499327767137062912</td>\n",
       "      <td>2022-03-03 10:16:10+00:00</td>\n",
       "      <td>0</td>\n",
       "      <td>0</td>\n",
       "    </tr>\n",
       "    <tr>\n",
       "      <th>1</th>\n",
       "      <td>RT @SpotLyf: Presenting India's first-ever pla...</td>\n",
       "      <td>HubOfML</td>\n",
       "      <td>Germany</td>\n",
       "      <td>1499327765430083585</td>\n",
       "      <td>2022-03-03 10:16:10+00:00</td>\n",
       "      <td>6</td>\n",
       "      <td>0</td>\n",
       "    </tr>\n",
       "    <tr>\n",
       "      <th>2</th>\n",
       "      <td>RT @SpotLyf: Presenting India's first-ever pla...</td>\n",
       "      <td>Curious Luke</td>\n",
       "      <td>Switzerland</td>\n",
       "      <td>1499327739454709761</td>\n",
       "      <td>2022-03-03 10:16:03+00:00</td>\n",
       "      <td>6</td>\n",
       "      <td>0</td>\n",
       "    </tr>\n",
       "  </tbody>\n",
       "</table>\n",
       "</div>"
      ],
      "text/plain": [
       "                                                text            user  \\\n",
       "0  This is one of my favorites from my abandoned ...  Jacob F Bailey   \n",
       "1  RT @SpotLyf: Presenting India's first-ever pla...         HubOfML   \n",
       "2  RT @SpotLyf: Presenting India's first-ever pla...    Curious Luke   \n",
       "\n",
       "      location             tweet_id                      date  retweet  \\\n",
       "0   Oregon, US  1499327767137062912 2022-03-03 10:16:10+00:00        0   \n",
       "1     Germany   1499327765430083585 2022-03-03 10:16:10+00:00        6   \n",
       "2  Switzerland  1499327739454709761 2022-03-03 10:16:03+00:00        6   \n",
       "\n",
       "   favorite  \n",
       "0         0  \n",
       "1         0  \n",
       "2         0  "
      ]
     },
     "execution_count": 10,
     "metadata": {},
     "output_type": "execute_result"
    }
   ],
   "source": [
    "df = pd.DataFrame(datos, columns = [\"text\", \"user\", \"location\", \"tweet_id\", \"date\", \"retweet\", \"favorite\"])\n",
    "\n",
    "df.head(3)"
   ]
  },
  {
   "cell_type": "code",
   "execution_count": null,
   "id": "ddf76db0",
   "metadata": {},
   "outputs": [],
   "source": []
  },
  {
   "cell_type": "markdown",
   "id": "d890bb1c",
   "metadata": {},
   "source": [
    "### Ejercicio 4:\n",
    "- Obtén todos los tweets de **`20_minutos`** y crea un **`DataFrame`** con las columnas **`text, date, id, rt, fav, year, month, weekday, hour`**."
   ]
  },
  {
   "cell_type": "code",
   "execution_count": 13,
   "id": "ada9441a",
   "metadata": {},
   "outputs": [
    {
     "data": {
      "text/html": [
       "<div>\n",
       "<style scoped>\n",
       "    .dataframe tbody tr th:only-of-type {\n",
       "        vertical-align: middle;\n",
       "    }\n",
       "\n",
       "    .dataframe tbody tr th {\n",
       "        vertical-align: top;\n",
       "    }\n",
       "\n",
       "    .dataframe thead th {\n",
       "        text-align: right;\n",
       "    }\n",
       "</style>\n",
       "<table border=\"1\" class=\"dataframe\">\n",
       "  <thead>\n",
       "    <tr style=\"text-align: right;\">\n",
       "      <th></th>\n",
       "      <th>text</th>\n",
       "      <th>tweet_id</th>\n",
       "      <th>date</th>\n",
       "      <th>retweet</th>\n",
       "      <th>favorite</th>\n",
       "    </tr>\n",
       "  </thead>\n",
       "  <tbody>\n",
       "    <tr>\n",
       "      <th>0</th>\n",
       "      <td>Viaja 5.000 km desde Zaragoza para salvar a su...</td>\n",
       "      <td>1499330103574253572</td>\n",
       "      <td>2022-03-03 10:25:27+00:00</td>\n",
       "      <td>0</td>\n",
       "      <td>1</td>\n",
       "    </tr>\n",
       "    <tr>\n",
       "      <th>1</th>\n",
       "      <td>La próxima serie de Matt Reeves ('The Batman')...</td>\n",
       "      <td>1499328918049984512</td>\n",
       "      <td>2022-03-03 10:20:44+00:00</td>\n",
       "      <td>1</td>\n",
       "      <td>2</td>\n",
       "    </tr>\n",
       "    <tr>\n",
       "      <th>2</th>\n",
       "      <td>Suecia denuncia que la incursión de cuatro caz...</td>\n",
       "      <td>1499327663525318656</td>\n",
       "      <td>2022-03-03 10:15:45+00:00</td>\n",
       "      <td>2</td>\n",
       "      <td>5</td>\n",
       "    </tr>\n",
       "  </tbody>\n",
       "</table>\n",
       "</div>"
      ],
      "text/plain": [
       "                                                text             tweet_id  \\\n",
       "0  Viaja 5.000 km desde Zaragoza para salvar a su...  1499330103574253572   \n",
       "1  La próxima serie de Matt Reeves ('The Batman')...  1499328918049984512   \n",
       "2  Suecia denuncia que la incursión de cuatro caz...  1499327663525318656   \n",
       "\n",
       "                       date  retweet  favorite  \n",
       "0 2022-03-03 10:25:27+00:00        0         1  \n",
       "1 2022-03-03 10:20:44+00:00        1         2  \n",
       "2 2022-03-03 10:15:45+00:00        2         5  "
      ]
     },
     "execution_count": 13,
     "metadata": {},
     "output_type": "execute_result"
    }
   ],
   "source": [
    "tweets = tweepy.Cursor(api.user_timeline, screen_name = \"20m\").items()\n",
    "\n",
    "datos = list()\n",
    "\n",
    "for tweet in tweets:\n",
    "    texto    = tweet.text\n",
    "    fecha    = tweet.created_at\n",
    "    id_      = tweet.id\n",
    "    retweet  = tweet.retweet_count\n",
    "    favorito = tweet.favorite_count\n",
    "    \n",
    "    datos.append([texto, id_, fecha, retweet, favorito])\n",
    "\n",
    "df_20minutos = pd.DataFrame(datos, columns = [\"text\", \"tweet_id\", \"date\", \"retweet\", \"favorite\"])\n",
    "\n",
    "df_20minutos.head(3)"
   ]
  },
  {
   "cell_type": "code",
   "execution_count": 15,
   "id": "89f902dd",
   "metadata": {},
   "outputs": [
    {
     "data": {
      "text/plain": [
       "(1380, 5)"
      ]
     },
     "execution_count": 15,
     "metadata": {},
     "output_type": "execute_result"
    }
   ],
   "source": [
    "df_20minutos.shape"
   ]
  },
  {
   "cell_type": "code",
   "execution_count": 21,
   "id": "e37eda0a",
   "metadata": {},
   "outputs": [
    {
     "data": {
      "text/html": [
       "<div>\n",
       "<style scoped>\n",
       "    .dataframe tbody tr th:only-of-type {\n",
       "        vertical-align: middle;\n",
       "    }\n",
       "\n",
       "    .dataframe tbody tr th {\n",
       "        vertical-align: top;\n",
       "    }\n",
       "\n",
       "    .dataframe thead th {\n",
       "        text-align: right;\n",
       "    }\n",
       "</style>\n",
       "<table border=\"1\" class=\"dataframe\">\n",
       "  <thead>\n",
       "    <tr style=\"text-align: right;\">\n",
       "      <th></th>\n",
       "      <th>text</th>\n",
       "      <th>tweet_id</th>\n",
       "      <th>date</th>\n",
       "      <th>retweet</th>\n",
       "      <th>favorite</th>\n",
       "      <th>year</th>\n",
       "      <th>month</th>\n",
       "      <th>weekday</th>\n",
       "      <th>hour</th>\n",
       "    </tr>\n",
       "  </thead>\n",
       "  <tbody>\n",
       "    <tr>\n",
       "      <th>0</th>\n",
       "      <td>Viaja 5.000 km desde Zaragoza para salvar a su...</td>\n",
       "      <td>1499330103574253572</td>\n",
       "      <td>2022-03-03 10:25:27+00:00</td>\n",
       "      <td>0</td>\n",
       "      <td>1</td>\n",
       "      <td>2022</td>\n",
       "      <td>3</td>\n",
       "      <td>3</td>\n",
       "      <td>10</td>\n",
       "    </tr>\n",
       "    <tr>\n",
       "      <th>1</th>\n",
       "      <td>La próxima serie de Matt Reeves ('The Batman')...</td>\n",
       "      <td>1499328918049984512</td>\n",
       "      <td>2022-03-03 10:20:44+00:00</td>\n",
       "      <td>1</td>\n",
       "      <td>2</td>\n",
       "      <td>2022</td>\n",
       "      <td>3</td>\n",
       "      <td>3</td>\n",
       "      <td>10</td>\n",
       "    </tr>\n",
       "    <tr>\n",
       "      <th>2</th>\n",
       "      <td>Suecia denuncia que la incursión de cuatro caz...</td>\n",
       "      <td>1499327663525318656</td>\n",
       "      <td>2022-03-03 10:15:45+00:00</td>\n",
       "      <td>2</td>\n",
       "      <td>5</td>\n",
       "      <td>2022</td>\n",
       "      <td>3</td>\n",
       "      <td>3</td>\n",
       "      <td>10</td>\n",
       "    </tr>\n",
       "    <tr>\n",
       "      <th>3</th>\n",
       "      <td>📢 #ÚltimaHora | Iñaki Urdangarin obtiene la li...</td>\n",
       "      <td>1499326547433504770</td>\n",
       "      <td>2022-03-03 10:11:19+00:00</td>\n",
       "      <td>5</td>\n",
       "      <td>7</td>\n",
       "      <td>2022</td>\n",
       "      <td>3</td>\n",
       "      <td>3</td>\n",
       "      <td>10</td>\n",
       "    </tr>\n",
       "    <tr>\n",
       "      <th>4</th>\n",
       "      <td>¿Por qué Batman repite siempre los mismos vill...</td>\n",
       "      <td>1499326347587592196</td>\n",
       "      <td>2022-03-03 10:10:32+00:00</td>\n",
       "      <td>0</td>\n",
       "      <td>1</td>\n",
       "      <td>2022</td>\n",
       "      <td>3</td>\n",
       "      <td>3</td>\n",
       "      <td>10</td>\n",
       "    </tr>\n",
       "  </tbody>\n",
       "</table>\n",
       "</div>"
      ],
      "text/plain": [
       "                                                text             tweet_id  \\\n",
       "0  Viaja 5.000 km desde Zaragoza para salvar a su...  1499330103574253572   \n",
       "1  La próxima serie de Matt Reeves ('The Batman')...  1499328918049984512   \n",
       "2  Suecia denuncia que la incursión de cuatro caz...  1499327663525318656   \n",
       "3  📢 #ÚltimaHora | Iñaki Urdangarin obtiene la li...  1499326547433504770   \n",
       "4  ¿Por qué Batman repite siempre los mismos vill...  1499326347587592196   \n",
       "\n",
       "                       date  retweet  favorite  year  month  weekday  hour  \n",
       "0 2022-03-03 10:25:27+00:00        0         1  2022      3        3    10  \n",
       "1 2022-03-03 10:20:44+00:00        1         2  2022      3        3    10  \n",
       "2 2022-03-03 10:15:45+00:00        2         5  2022      3        3    10  \n",
       "3 2022-03-03 10:11:19+00:00        5         7  2022      3        3    10  \n",
       "4 2022-03-03 10:10:32+00:00        0         1  2022      3        3    10  "
      ]
     },
     "execution_count": 21,
     "metadata": {},
     "output_type": "execute_result"
    }
   ],
   "source": [
    "df_20minutos[\"year\"] = df_20minutos[\"date\"].apply(lambda x : x.year)\n",
    "\n",
    "df_20minutos[\"month\"] = df_20minutos[\"date\"].apply(lambda x : x.month)\n",
    "\n",
    "df_20minutos[\"weekday\"] = df_20minutos[\"date\"].apply(lambda x : x.weekday)\n",
    "\n",
    "df_20minutos[\"hour\"] = df_20minutos[\"date\"].apply(lambda x : x.hour)\n",
    "\n",
    "df_20minutos.head()"
   ]
  },
  {
   "cell_type": "code",
   "execution_count": null,
   "id": "ac3fe37e",
   "metadata": {},
   "outputs": [],
   "source": []
  },
  {
   "cell_type": "markdown",
   "id": "f86d65f0",
   "metadata": {},
   "source": [
    "### Ejercicio 5:\n",
    "- Obtén una lista de los hashtags del conjunto de tweets y cuentalos."
   ]
  },
  {
   "cell_type": "code",
   "execution_count": 25,
   "id": "fc2a5ea9",
   "metadata": {},
   "outputs": [
    {
     "data": {
      "text/plain": [
       "[('#Directo', 30),\n",
       " ('#ÚltimaHora', 27),\n",
       " ('#Opiniones', 17),\n",
       " ('#20decompras', 15),\n",
       " ('#Ampliación', 9),\n",
       " ('#Fotogalería', 7),\n",
       " ('#PedroSánchezTD', 7),\n",
       " ('#Entrevista', 4),\n",
       " ('#MADRID', 3),\n",
       " ('#Ucrania', 2),\n",
       " ('#20deCompras', 2),\n",
       " ('#Vídeo', 2),\n",
       " ('#MWC22', 2),\n",
       " ('#Actualización', 2),\n",
       " ('#crossover', 1),\n",
       " ('#Actualizacion', 1),\n",
       " ('#coronavirus', 1),\n",
       " ('#Zaragoza', 1),\n",
       " ('#CopaDelRey', 1),\n",
       " ('#BulletTrain', 1),\n",
       " ('#Kiev', 1),\n",
       " ('#CÓRDOBA', 1),\n",
       " ('#COFOE', 1),\n",
       " ('#MarceloEH', 1),\n",
       " ('#PERFIL', 1),\n",
       " ('#Lamborghini', 1),\n",
       " ('#SolesRepsolDonostia22', 1),\n",
       " ('#GuiaRepsol', 1),\n",
       " ('#SolesGuiaRepsol', 1),\n",
       " ('#AnimalesFantásticosLosSecretosDeDumbledore', 1),\n",
       " ('#Avanzadoras', 1),\n",
       " ('#Opinión', 1),\n",
       " ('#ÚtimaHora', 1),\n",
       " ('#Przemysl', 1),\n",
       " ('#VÍDEO', 1),\n",
       " ('#Obolon', 1),\n",
       " ('#perros', 1),\n",
       " ('#Urgente', 1)]"
      ]
     },
     "execution_count": 25,
     "metadata": {},
     "output_type": "execute_result"
    }
   ],
   "source": [
    "import re\n",
    "from collections import Counter\n",
    "\n",
    "hashtags = list()\n",
    "\n",
    "for i in range(df_20minutos.shape[0]):\n",
    "    texto = df_20minutos.loc[i, \"text\"]\n",
    "    \n",
    "    resultados = re.findall(r\"#\\w+\", texto)\n",
    "    \n",
    "    hashtags.extend(resultados)\n",
    "    \n",
    "Counter(hashtags).most_common()"
   ]
  },
  {
   "cell_type": "code",
   "execution_count": null,
   "id": "ba31576f",
   "metadata": {},
   "outputs": [],
   "source": []
  },
  {
   "cell_type": "code",
   "execution_count": null,
   "id": "33bbd57a",
   "metadata": {},
   "outputs": [],
   "source": []
  },
  {
   "cell_type": "markdown",
   "id": "07a63f9f",
   "metadata": {},
   "source": [
    "### Ejercicio 6:\n",
    "- Obtén el número de tweets por año, por mes de cada año, por día de la semana y la dispersión por horario."
   ]
  },
  {
   "cell_type": "code",
   "execution_count": 26,
   "id": "501e33aa",
   "metadata": {},
   "outputs": [
    {
     "data": {
      "text/plain": [
       "array([2022], dtype=int64)"
      ]
     },
     "execution_count": 26,
     "metadata": {},
     "output_type": "execute_result"
    }
   ],
   "source": [
    "df_20minutos[\"year\"].unique()"
   ]
  },
  {
   "cell_type": "code",
   "execution_count": 29,
   "id": "871ac876",
   "metadata": {},
   "outputs": [
    {
     "data": {
      "image/png": "[encoded data removed]",
      "text/plain": [
       "<Figure size 432x288 with 1 Axes>"
      ]
     },
     "metadata": {
      "needs_background": "light"
     },
     "output_type": "display_data"
    }
   ],
   "source": [
    "# Año\n",
    "\n",
    "sns.countplot(x = df_20minutos[\"year\"])\n",
    "plt.show()"
   ]
  },
  {
   "cell_type": "code",
   "execution_count": 30,
   "id": "34991ab6",
   "metadata": {},
   "outputs": [
    {
     "data": {
      "image/png": "[encoded data removed]",
      "text/plain": [
       "<Figure size 432x288 with 1 Axes>"
      ]
     },
     "metadata": {
      "needs_background": "light"
     },
     "output_type": "display_data"
    }
   ],
   "source": [
    "sns.countplot(x = df_20minutos[\"month\"])\n",
    "plt.show()"
   ]
  },
  {
   "cell_type": "code",
   "execution_count": 31,
   "id": "07a0014a",
   "metadata": {},
   "outputs": [
    {
     "data": {
      "image/png": "[encoded data removed]",
      "text/plain": [
       "<Figure size 432x288 with 1 Axes>"
      ]
     },
     "metadata": {
      "needs_background": "light"
     },
     "output_type": "display_data"
    }
   ],
   "source": [
    "sns.countplot(x = df_20minutos[\"weekday\"])\n",
    "plt.show()"
   ]
  },
  {
   "cell_type": "code",
   "execution_count": 33,
   "id": "0e71a337",
   "metadata": {},
   "outputs": [
    {
     "data": {
      "image/png": "[encoded data removed]",
      "text/plain": [
       "<Figure size 432x288 with 1 Axes>"
      ]
     },
     "metadata": {
      "needs_background": "light"
     },
     "output_type": "display_data"
    }
   ],
   "source": [
    "sns.histplot(x = df_20minutos[\"hour\"], kde = True)\n",
    "plt.show()"
   ]
  },
  {
   "cell_type": "markdown",
   "id": "d3dfc135",
   "metadata": {},
   "source": [
    "### Ejercicio 7:\n",
    "- Cuenta el número de palabras de todos los tweets y busca las primeras 20 que más aparecen."
   ]
  },
  {
   "cell_type": "code",
   "execution_count": 41,
   "id": "347d32b7",
   "metadata": {},
   "outputs": [
    {
     "data": {
      "text/plain": [
       "24509"
      ]
     },
     "execution_count": 41,
     "metadata": {},
     "output_type": "execute_result"
    }
   ],
   "source": [
    "len(\" \".join(df_20minutos[\"text\"]).lower().split())"
   ]
  },
  {
   "cell_type": "code",
   "execution_count": 47,
   "id": "bb90b904",
   "metadata": {},
   "outputs": [
    {
     "data": {
      "text/plain": [
       "[('ucrania', 151),\n",
       " ('rusia', 101),\n",
       " ('guerra', 74),\n",
       " ('españa', 63),\n",
       " ('sobre', 61),\n",
       " ('contra', 47),\n",
       " ('putin', 40),\n",
       " ('madrid', 37),\n",
       " ('invasión', 34),\n",
       " ('euros', 32),\n",
       " ('ucrania:', 31),\n",
       " ('entre', 30),\n",
       " ('#directo', 30),\n",
       " ('desde', 29),\n",
       " ('menos', 29),\n",
       " ('sánchez', 28),\n",
       " ('#últimahora', 27),\n",
       " ('armas', 27),\n",
       " ('nuevo', 25),\n",
       " ('nueva', 24),\n",
       " ('rusos', 22),\n",
       " ('cuando', 22),\n",
       " ('febrero', 21),\n",
       " ('puede', 20),\n",
       " ('europa', 20),\n",
       " ('hacer', 20),\n",
       " ('tiene', 19),\n",
       " ('ataque', 18),\n",
       " ('todos', 17),\n",
       " ('coche', 17),\n",
       " ('#20decompras', 17),\n",
       " ('#opiniones', 17),\n",
       " ('zelenski', 17),\n",
       " ('ucranianos', 17),\n",
       " ('anuncia', 17)]"
      ]
     },
     "execution_count": 47,
     "metadata": {},
     "output_type": "execute_result"
    }
   ],
   "source": [
    "# Lo que dijo walid\n",
    "\n",
    "palabras = Counter(\" \".join(df_20minutos[\"text\"]).lower().split()).most_common(100)\n",
    "\n",
    "palabras_importantes = list()\n",
    "\n",
    "for palabra in palabras:\n",
    "    if len(palabra[0]) > 4:\n",
    "        palabras_importantes.append(palabra)\n",
    "        \n",
    "palabras_importantes"
   ]
  },
  {
   "cell_type": "code",
   "execution_count": null,
   "id": "c2ccdc15",
   "metadata": {},
   "outputs": [],
   "source": []
  },
  {
   "cell_type": "markdown",
   "id": "7e1e1bdc",
   "metadata": {},
   "source": [
    "### Ejercicio 8:\n",
    "- Repite el paso anterior para cada año y observa si cambian de un año a otro y sí es así, agrega a una lista las que van cambiando."
   ]
  },
  {
   "cell_type": "code",
   "execution_count": null,
   "id": "93b75695",
   "metadata": {},
   "outputs": [],
   "source": []
  },
  {
   "cell_type": "code",
   "execution_count": null,
   "id": "5642622c",
   "metadata": {},
   "outputs": [],
   "source": []
  },
  {
   "cell_type": "code",
   "execution_count": null,
   "id": "5676311a",
   "metadata": {},
   "outputs": [],
   "source": []
  },
  {
   "cell_type": "markdown",
   "id": "e6d9494a",
   "metadata": {},
   "source": [
    "### Ejercicio 9:\n",
    "- Repite los ejercicio del 4 al 8 con otra cuenta de twitter de noticias. Compara los resultados de ambas cuentas."
   ]
  },
  {
   "cell_type": "code",
   "execution_count": null,
   "id": "c9742ab6",
   "metadata": {},
   "outputs": [],
   "source": []
  },
  {
   "cell_type": "code",
   "execution_count": null,
   "id": "64dec9d3",
   "metadata": {},
   "outputs": [],
   "source": []
  },
  {
   "cell_type": "code",
   "execution_count": null,
   "id": "05fd5f8d",
   "metadata": {},
   "outputs": [],
   "source": []
  }
 ],
 "metadata": {
  "kernelspec": {
   "display_name": "Python 3 (ipykernel)",
   "language": "python",
   "name": "python3"
  },
  "language_info": {
   "codemirror_mode": {
    "name": "ipython",
    "version": 3
   },
   "file_extension": ".py",
   "mimetype": "text/x-python",
   "name": "python",
   "nbconvert_exporter": "python",
   "pygments_lexer": "ipython3",
   "version": "3.9.7"
  }
 },
 "nbformat": 4,
 "nbformat_minor": 5
}
