{
 "cells": [
  {
   "cell_type": "markdown",
   "id": "fd838a26",
   "metadata": {},
   "source": [
    "# Tweepy \n",
    "\n",
    "```python\n",
    "pip install tweepy\n",
    "```\n",
    "_**Documentación** : https://docs.tweepy.org/en/stable/index.html_\n",
    "\n",
    "Es una librería con la cuál podemos conectarnos con el **`API`** de **`Twitter`** de una manera sencilla con python.\n",
    "\n",
    "Para poder usar **`Tweepy`** debemos registrar nuestra cuenta como cuenta de desarrollador en: https://developer.twitter.com/en/apply-for-access\n",
    "\n",
    "Luego guardamos las credenciales en las siguiente variables:\n",
    "```python\n",
    "consumer_key, consumer_secret\n",
    "access_token, access_token_secret\n",
    "```"
   ]
  },
  {
   "cell_type": "code",
   "execution_count": 3,
   "id": "6b84a90d",
   "metadata": {},
   "outputs": [],
   "source": [
    "# Llena las variables con tus credenciales\n",
    "\n",
    "consumer_key = \"eChpsVGdzR3v1B4IucU9FCmJN\"\n",
    "consumer_secret = \"SjMczFtbHM8pfF4xbZSVihCivYRZmMZGdFC9btFKguUjGxaQg7\"\n",
    "access_token  = \"55685590-BuFJZqrWcN3rL3kN0DlwH2SZimWhDSRdaulvRQexh\"\n",
    "access_token_secret = \"asKnk5LavSOWlRwmDrDtv05i5Q1ABB7sj6iyWGg5EFZHB\""
   ]
  },
  {
   "cell_type": "code",
   "execution_count": 4,
   "id": "e28a3986",
   "metadata": {},
   "outputs": [],
   "source": [
    "import numpy as np\n",
    "import pandas as pd\n",
    "import matplotlib.pyplot as plt\n",
    "import seaborn as sns\n",
    "\n",
    "import tweepy"
   ]
  },
  {
   "cell_type": "code",
   "execution_count": 5,
   "id": "4ea2d503",
   "metadata": {},
   "outputs": [
    {
     "data": {
      "text/plain": [
       "'4.6.0'"
      ]
     },
     "execution_count": 5,
     "metadata": {},
     "output_type": "execute_result"
    }
   ],
   "source": [
    "tweepy.__version__"
   ]
  },
  {
   "cell_type": "markdown",
   "id": "8487c695",
   "metadata": {},
   "source": [
    "**Nos autenticamos**"
   ]
  },
  {
   "cell_type": "code",
   "execution_count": 6,
   "id": "acf5f74c",
   "metadata": {},
   "outputs": [],
   "source": [
    "auth = tweepy.OAuthHandler(consumer_key, consumer_secret)\n",
    "\n",
    "auth.set_access_token(access_token, access_token_secret)\n",
    "\n",
    "api = tweepy.API(auth)"
   ]
  },
  {
   "cell_type": "markdown",
   "id": "dc5ac416",
   "metadata": {},
   "source": [
    "**Publicar un tweet**"
   ]
  },
  {
   "cell_type": "code",
   "execution_count": 7,
   "id": "c7455b03",
   "metadata": {},
   "outputs": [
    {
     "ename": "Forbidden",
     "evalue": "403 Forbidden\n187 - Status is a duplicate.",
     "output_type": "error",
     "traceback": [
      "\u001b[1;31m---------------------------------------------------------------------------\u001b[0m",
      "\u001b[1;31mForbidden\u001b[0m                                 Traceback (most recent call last)",
      "\u001b[1;32m~\\AppData\\Local\\Temp/ipykernel_16308/3756909874.py\u001b[0m in \u001b[0;36m<module>\u001b[1;34m\u001b[0m\n\u001b[1;32m----> 1\u001b[1;33m \u001b[0mapi\u001b[0m\u001b[1;33m.\u001b[0m\u001b[0mupdate_status\u001b[0m\u001b[1;33m(\u001b[0m\u001b[1;34m\"Tweet generado desde la API de Twitter\"\u001b[0m\u001b[1;33m)\u001b[0m\u001b[1;33m\u001b[0m\u001b[1;33m\u001b[0m\u001b[0m\n\u001b[0m",
      "\u001b[1;32m~\\anaconda3\\lib\\site-packages\\tweepy\\api.py\u001b[0m in \u001b[0;36mwrapper\u001b[1;34m(*args, **kwargs)\u001b[0m\n\u001b[0;32m     44\u001b[0m             \u001b[0mkwargs\u001b[0m\u001b[1;33m[\u001b[0m\u001b[1;34m'payload_list'\u001b[0m\u001b[1;33m]\u001b[0m \u001b[1;33m=\u001b[0m \u001b[0mpayload_list\u001b[0m\u001b[1;33m\u001b[0m\u001b[1;33m\u001b[0m\u001b[0m\n\u001b[0;32m     45\u001b[0m             \u001b[0mkwargs\u001b[0m\u001b[1;33m[\u001b[0m\u001b[1;34m'payload_type'\u001b[0m\u001b[1;33m]\u001b[0m \u001b[1;33m=\u001b[0m \u001b[0mpayload_type\u001b[0m\u001b[1;33m\u001b[0m\u001b[1;33m\u001b[0m\u001b[0m\n\u001b[1;32m---> 46\u001b[1;33m             \u001b[1;32mreturn\u001b[0m \u001b[0mmethod\u001b[0m\u001b[1;33m(\u001b[0m\u001b[1;33m*\u001b[0m\u001b[0margs\u001b[0m\u001b[1;33m,\u001b[0m \u001b[1;33m**\u001b[0m\u001b[0mkwargs\u001b[0m\u001b[1;33m)\u001b[0m\u001b[1;33m\u001b[0m\u001b[1;33m\u001b[0m\u001b[0m\n\u001b[0m\u001b[0;32m     47\u001b[0m         \u001b[0mwrapper\u001b[0m\u001b[1;33m.\u001b[0m\u001b[0mpayload_list\u001b[0m \u001b[1;33m=\u001b[0m \u001b[0mpayload_list\u001b[0m\u001b[1;33m\u001b[0m\u001b[1;33m\u001b[0m\u001b[0m\n\u001b[0;32m     48\u001b[0m         \u001b[0mwrapper\u001b[0m\u001b[1;33m.\u001b[0m\u001b[0mpayload_type\u001b[0m \u001b[1;33m=\u001b[0m \u001b[0mpayload_type\u001b[0m\u001b[1;33m\u001b[0m\u001b[1;33m\u001b[0m\u001b[0m\n",
      "\u001b[1;32m~\\anaconda3\\lib\\site-packages\\tweepy\\api.py\u001b[0m in \u001b[0;36mupdate_status\u001b[1;34m(self, status, **kwargs)\u001b[0m\n\u001b[0;32m   1119\u001b[0m             \u001b[0mkwargs\u001b[0m\u001b[1;33m[\u001b[0m\u001b[1;34m'media_ids'\u001b[0m\u001b[1;33m]\u001b[0m \u001b[1;33m=\u001b[0m \u001b[0mlist_to_csv\u001b[0m\u001b[1;33m(\u001b[0m\u001b[0mkwargs\u001b[0m\u001b[1;33m[\u001b[0m\u001b[1;34m'media_ids'\u001b[0m\u001b[1;33m]\u001b[0m\u001b[1;33m)\u001b[0m\u001b[1;33m\u001b[0m\u001b[1;33m\u001b[0m\u001b[0m\n\u001b[0;32m   1120\u001b[0m \u001b[1;33m\u001b[0m\u001b[0m\n\u001b[1;32m-> 1121\u001b[1;33m         return self.request(\n\u001b[0m\u001b[0;32m   1122\u001b[0m             'POST', 'statuses/update', endpoint_parameters=(\n\u001b[0;32m   1123\u001b[0m                 \u001b[1;34m'status'\u001b[0m\u001b[1;33m,\u001b[0m \u001b[1;34m'in_reply_to_status_id'\u001b[0m\u001b[1;33m,\u001b[0m\u001b[1;33m\u001b[0m\u001b[1;33m\u001b[0m\u001b[0m\n",
      "\u001b[1;32m~\\anaconda3\\lib\\site-packages\\tweepy\\api.py\u001b[0m in \u001b[0;36mrequest\u001b[1;34m(self, method, endpoint, endpoint_parameters, params, headers, json_payload, parser, payload_list, payload_type, post_data, files, require_auth, return_cursors, upload_api, use_cache, **kwargs)\u001b[0m\n\u001b[0;32m    257\u001b[0m                 \u001b[1;32mraise\u001b[0m \u001b[0mUnauthorized\u001b[0m\u001b[1;33m(\u001b[0m\u001b[0mresp\u001b[0m\u001b[1;33m)\u001b[0m\u001b[1;33m\u001b[0m\u001b[1;33m\u001b[0m\u001b[0m\n\u001b[0;32m    258\u001b[0m             \u001b[1;32mif\u001b[0m \u001b[0mresp\u001b[0m\u001b[1;33m.\u001b[0m\u001b[0mstatus_code\u001b[0m \u001b[1;33m==\u001b[0m \u001b[1;36m403\u001b[0m\u001b[1;33m:\u001b[0m\u001b[1;33m\u001b[0m\u001b[1;33m\u001b[0m\u001b[0m\n\u001b[1;32m--> 259\u001b[1;33m                 \u001b[1;32mraise\u001b[0m \u001b[0mForbidden\u001b[0m\u001b[1;33m(\u001b[0m\u001b[0mresp\u001b[0m\u001b[1;33m)\u001b[0m\u001b[1;33m\u001b[0m\u001b[1;33m\u001b[0m\u001b[0m\n\u001b[0m\u001b[0;32m    260\u001b[0m             \u001b[1;32mif\u001b[0m \u001b[0mresp\u001b[0m\u001b[1;33m.\u001b[0m\u001b[0mstatus_code\u001b[0m \u001b[1;33m==\u001b[0m \u001b[1;36m404\u001b[0m\u001b[1;33m:\u001b[0m\u001b[1;33m\u001b[0m\u001b[1;33m\u001b[0m\u001b[0m\n\u001b[0;32m    261\u001b[0m                 \u001b[1;32mraise\u001b[0m \u001b[0mNotFound\u001b[0m\u001b[1;33m(\u001b[0m\u001b[0mresp\u001b[0m\u001b[1;33m)\u001b[0m\u001b[1;33m\u001b[0m\u001b[1;33m\u001b[0m\u001b[0m\n",
      "\u001b[1;31mForbidden\u001b[0m: 403 Forbidden\n187 - Status is a duplicate."
     ]
    }
   ],
   "source": [
    "api.update_status(\"Tweet generado desde la API de Twitter\")"
   ]
  },
  {
   "cell_type": "markdown",
   "id": "8ecf3e86",
   "metadata": {},
   "source": [
    "**El método `me` crea un objeto del usuario.**"
   ]
  },
  {
   "cell_type": "code",
   "execution_count": 8,
   "id": "ea181f85",
   "metadata": {},
   "outputs": [
    {
     "name": "stdout",
     "output_type": "stream",
     "text": [
      "Daniel W. Tümmler\n",
      "WilhelmDTR\n"
     ]
    }
   ],
   "source": [
    "user = api.verify_credentials()\n",
    "\n",
    "print(user.name)\n",
    "\n",
    "print(user.screen_name)"
   ]
  },
  {
   "cell_type": "markdown",
   "id": "3ccb4cc5",
   "metadata": {},
   "source": [
    "**Ver la información del usuario:**"
   ]
  },
  {
   "cell_type": "code",
   "execution_count": 9,
   "id": "f2fa0717",
   "metadata": {},
   "outputs": [
    {
     "name": "stdout",
     "output_type": "stream",
     "text": [
      "User: WilhelmDTR\n",
      "Name: Daniel W. Tümmler\n",
      "Location: \n",
      "Friends: 138\n",
      "Followers: 203\n",
      "id: 55685590\n",
      "Desde: 2009-07-10 22:38:59+00:00\n"
     ]
    }
   ],
   "source": [
    "print(f\"User: {user.screen_name}\")\n",
    "print(f\"Name: {user.name}\")\n",
    "print(f\"Location: {user.location}\")\n",
    "print(f\"Friends: {user.friends_count}\")\n",
    "print(f\"Followers: {user.followers_count}\")\n",
    "print(f\"id: {user.id}\")\n",
    "print(f\"Desde: {user.created_at}\")"
   ]
  },
  {
   "cell_type": "markdown",
   "id": "bbe24eb3",
   "metadata": {},
   "source": [
    "**Creamos una función para obtener la información de un usuario:**"
   ]
  },
  {
   "cell_type": "code",
   "execution_count": 10,
   "id": "ce9e4d62",
   "metadata": {},
   "outputs": [],
   "source": [
    "def display_user_info(user):\n",
    "    print(f\"User: {user.screen_name}\")\n",
    "    print(f\"Name: {user.name}\")\n",
    "    print(f\"Location: {user.location}\")\n",
    "    print(f\"Friends: {user.friends_count}\")\n",
    "    print(f\"Followers: {user.followers_count}\")\n",
    "    print(f\"id: {user.id}\")\n",
    "    print(f\"Desde: {user.created_at}\")"
   ]
  },
  {
   "cell_type": "code",
   "execution_count": 11,
   "id": "533863a3",
   "metadata": {},
   "outputs": [
    {
     "name": "stdout",
     "output_type": "stream",
     "text": [
      "User: WilhelmDTR\n",
      "Name: Daniel W. Tümmler\n",
      "Location: \n",
      "Friends: 138\n",
      "Followers: 203\n",
      "id: 55685590\n",
      "Desde: 2009-07-10 22:38:59+00:00\n"
     ]
    }
   ],
   "source": [
    "display_user_info(user)"
   ]
  },
  {
   "cell_type": "markdown",
   "id": "94db819e",
   "metadata": {},
   "source": [
    "**Con el método `get_user` obtenemos la información de cualquier usuario:**"
   ]
  },
  {
   "cell_type": "code",
   "execution_count": 12,
   "id": "2d6b2cce",
   "metadata": {},
   "outputs": [
    {
     "data": {
      "text/plain": [
       "'ylecun'"
      ]
     },
     "execution_count": 12,
     "metadata": {},
     "output_type": "execute_result"
    }
   ],
   "source": [
    "YannLecun = api.get_user(screen_name = \"ylecun\")\n",
    "\n",
    "YannLecun.screen_name"
   ]
  },
  {
   "cell_type": "code",
   "execution_count": 13,
   "id": "6ac5acb8",
   "metadata": {},
   "outputs": [
    {
     "name": "stdout",
     "output_type": "stream",
     "text": [
      "User: ylecun\n",
      "Name: Yann LeCun\n",
      "Location: New York\n",
      "Friends: 492\n",
      "Followers: 307630\n",
      "id: 48008938\n",
      "Desde: 2009-06-17 16:05:51+00:00\n"
     ]
    }
   ],
   "source": [
    "display_user_info(YannLecun)"
   ]
  },
  {
   "cell_type": "code",
   "execution_count": 14,
   "id": "9923e392",
   "metadata": {},
   "outputs": [
    {
     "ename": "NotFound",
     "evalue": "404 Not Found\n50 - User not found.",
     "output_type": "error",
     "traceback": [
      "\u001b[1;31m---------------------------------------------------------------------------\u001b[0m",
      "\u001b[1;31mNotFound\u001b[0m                                  Traceback (most recent call last)",
      "\u001b[1;32m~\\AppData\\Local\\Temp/ipykernel_16308/3140249077.py\u001b[0m in \u001b[0;36m<module>\u001b[1;34m\u001b[0m\n\u001b[1;32m----> 1\u001b[1;33m \u001b[0mdisplay_user_info\u001b[0m\u001b[1;33m(\u001b[0m\u001b[0mapi\u001b[0m\u001b[1;33m.\u001b[0m\u001b[0mget_user\u001b[0m\u001b[1;33m(\u001b[0m\u001b[0mscreen_name\u001b[0m \u001b[1;33m=\u001b[0m \u001b[1;34m\"\"\u001b[0m\u001b[1;33m)\u001b[0m\u001b[1;33m)\u001b[0m\u001b[1;33m\u001b[0m\u001b[1;33m\u001b[0m\u001b[0m\n\u001b[0m",
      "\u001b[1;32m~\\anaconda3\\lib\\site-packages\\tweepy\\api.py\u001b[0m in \u001b[0;36mwrapper\u001b[1;34m(*args, **kwargs)\u001b[0m\n\u001b[0;32m     44\u001b[0m             \u001b[0mkwargs\u001b[0m\u001b[1;33m[\u001b[0m\u001b[1;34m'payload_list'\u001b[0m\u001b[1;33m]\u001b[0m \u001b[1;33m=\u001b[0m \u001b[0mpayload_list\u001b[0m\u001b[1;33m\u001b[0m\u001b[1;33m\u001b[0m\u001b[0m\n\u001b[0;32m     45\u001b[0m             \u001b[0mkwargs\u001b[0m\u001b[1;33m[\u001b[0m\u001b[1;34m'payload_type'\u001b[0m\u001b[1;33m]\u001b[0m \u001b[1;33m=\u001b[0m \u001b[0mpayload_type\u001b[0m\u001b[1;33m\u001b[0m\u001b[1;33m\u001b[0m\u001b[0m\n\u001b[1;32m---> 46\u001b[1;33m             \u001b[1;32mreturn\u001b[0m \u001b[0mmethod\u001b[0m\u001b[1;33m(\u001b[0m\u001b[1;33m*\u001b[0m\u001b[0margs\u001b[0m\u001b[1;33m,\u001b[0m \u001b[1;33m**\u001b[0m\u001b[0mkwargs\u001b[0m\u001b[1;33m)\u001b[0m\u001b[1;33m\u001b[0m\u001b[1;33m\u001b[0m\u001b[0m\n\u001b[0m\u001b[0;32m     47\u001b[0m         \u001b[0mwrapper\u001b[0m\u001b[1;33m.\u001b[0m\u001b[0mpayload_list\u001b[0m \u001b[1;33m=\u001b[0m \u001b[0mpayload_list\u001b[0m\u001b[1;33m\u001b[0m\u001b[1;33m\u001b[0m\u001b[0m\n\u001b[0;32m     48\u001b[0m         \u001b[0mwrapper\u001b[0m\u001b[1;33m.\u001b[0m\u001b[0mpayload_type\u001b[0m \u001b[1;33m=\u001b[0m \u001b[0mpayload_type\u001b[0m\u001b[1;33m\u001b[0m\u001b[1;33m\u001b[0m\u001b[0m\n",
      "\u001b[1;32m~\\anaconda3\\lib\\site-packages\\tweepy\\api.py\u001b[0m in \u001b[0;36mget_user\u001b[1;34m(self, **kwargs)\u001b[0m\n\u001b[0;32m   2424\u001b[0m         \u001b[0mhttps\u001b[0m\u001b[1;33m:\u001b[0m\u001b[1;33m//\u001b[0m\u001b[0mdeveloper\u001b[0m\u001b[1;33m.\u001b[0m\u001b[0mtwitter\u001b[0m\u001b[1;33m.\u001b[0m\u001b[0mcom\u001b[0m\u001b[1;33m/\u001b[0m\u001b[0men\u001b[0m\u001b[1;33m/\u001b[0m\u001b[0mdocs\u001b[0m\u001b[1;33m/\u001b[0m\u001b[0mtwitter\u001b[0m\u001b[1;33m-\u001b[0m\u001b[0mapi\u001b[0m\u001b[1;33m/\u001b[0m\u001b[0mv1\u001b[0m\u001b[1;33m/\u001b[0m\u001b[0maccounts\u001b[0m\u001b[1;33m-\u001b[0m\u001b[1;32mand\u001b[0m\u001b[1;33m-\u001b[0m\u001b[0musers\u001b[0m\u001b[1;33m/\u001b[0m\u001b[0mfollow\u001b[0m\u001b[1;33m-\u001b[0m\u001b[0msearch\u001b[0m\u001b[1;33m-\u001b[0m\u001b[0mget\u001b[0m\u001b[1;33m-\u001b[0m\u001b[0musers\u001b[0m\u001b[1;33m/\u001b[0m\u001b[0mapi\u001b[0m\u001b[1;33m-\u001b[0m\u001b[0mreference\u001b[0m\u001b[1;33m/\u001b[0m\u001b[0mget\u001b[0m\u001b[1;33m-\u001b[0m\u001b[0musers\u001b[0m\u001b[1;33m-\u001b[0m\u001b[0mshow\u001b[0m\u001b[1;33m\u001b[0m\u001b[1;33m\u001b[0m\u001b[0m\n\u001b[0;32m   2425\u001b[0m         \"\"\"\n\u001b[1;32m-> 2426\u001b[1;33m         return self.request(\n\u001b[0m\u001b[0;32m   2427\u001b[0m             'GET', 'users/show', endpoint_parameters=(\n\u001b[0;32m   2428\u001b[0m                 \u001b[1;34m'user_id'\u001b[0m\u001b[1;33m,\u001b[0m \u001b[1;34m'screen_name'\u001b[0m\u001b[1;33m,\u001b[0m \u001b[1;34m'include_entities'\u001b[0m\u001b[1;33m\u001b[0m\u001b[1;33m\u001b[0m\u001b[0m\n",
      "\u001b[1;32m~\\anaconda3\\lib\\site-packages\\tweepy\\api.py\u001b[0m in \u001b[0;36mrequest\u001b[1;34m(self, method, endpoint, endpoint_parameters, params, headers, json_payload, parser, payload_list, payload_type, post_data, files, require_auth, return_cursors, upload_api, use_cache, **kwargs)\u001b[0m\n\u001b[0;32m    259\u001b[0m                 \u001b[1;32mraise\u001b[0m \u001b[0mForbidden\u001b[0m\u001b[1;33m(\u001b[0m\u001b[0mresp\u001b[0m\u001b[1;33m)\u001b[0m\u001b[1;33m\u001b[0m\u001b[1;33m\u001b[0m\u001b[0m\n\u001b[0;32m    260\u001b[0m             \u001b[1;32mif\u001b[0m \u001b[0mresp\u001b[0m\u001b[1;33m.\u001b[0m\u001b[0mstatus_code\u001b[0m \u001b[1;33m==\u001b[0m \u001b[1;36m404\u001b[0m\u001b[1;33m:\u001b[0m\u001b[1;33m\u001b[0m\u001b[1;33m\u001b[0m\u001b[0m\n\u001b[1;32m--> 261\u001b[1;33m                 \u001b[1;32mraise\u001b[0m \u001b[0mNotFound\u001b[0m\u001b[1;33m(\u001b[0m\u001b[0mresp\u001b[0m\u001b[1;33m)\u001b[0m\u001b[1;33m\u001b[0m\u001b[1;33m\u001b[0m\u001b[0m\n\u001b[0m\u001b[0;32m    262\u001b[0m             \u001b[1;32mif\u001b[0m \u001b[0mresp\u001b[0m\u001b[1;33m.\u001b[0m\u001b[0mstatus_code\u001b[0m \u001b[1;33m==\u001b[0m \u001b[1;36m429\u001b[0m\u001b[1;33m:\u001b[0m\u001b[1;33m\u001b[0m\u001b[1;33m\u001b[0m\u001b[0m\n\u001b[0;32m    263\u001b[0m                 \u001b[1;32mraise\u001b[0m \u001b[0mTooManyRequests\u001b[0m\u001b[1;33m(\u001b[0m\u001b[0mresp\u001b[0m\u001b[1;33m)\u001b[0m\u001b[1;33m\u001b[0m\u001b[1;33m\u001b[0m\u001b[0m\n",
      "\u001b[1;31mNotFound\u001b[0m: 404 Not Found\n50 - User not found."
     ]
    }
   ],
   "source": [
    "display_user_info(api.get_user(screen_name = \"\"))"
   ]
  },
  {
   "cell_type": "markdown",
   "id": "9e867e8f",
   "metadata": {},
   "source": [
    "**Para ver los seguidores:**"
   ]
  },
  {
   "cell_type": "code",
   "execution_count": 18,
   "id": "984a4c6d",
   "metadata": {},
   "outputs": [],
   "source": [
    "followers = api.get_followers()\n",
    "\n",
    "# followers"
   ]
  },
  {
   "cell_type": "code",
   "execution_count": 19,
   "id": "8f362160",
   "metadata": {},
   "outputs": [
    {
     "data": {
      "text/plain": [
       "20"
      ]
     },
     "execution_count": 19,
     "metadata": {},
     "output_type": "execute_result"
    }
   ],
   "source": [
    "len(followers)"
   ]
  },
  {
   "cell_type": "code",
   "execution_count": 20,
   "id": "b6835633",
   "metadata": {},
   "outputs": [
    {
     "name": "stdout",
     "output_type": "stream",
     "text": [
      "uwepaul, Uwe 🦈\n",
      "CrossWanted, D.S.Cross\n",
      "LaBrujilda, Jess°~\n",
      "PulidoWilber, Wilber Pulido\n",
      "KimbeerlyA, Kimberly\n",
      "jacu32, JACKSON\n",
      "lahim177, abderrahim\n",
      "JaviJavihlopez, Javier López\n",
      "SharbelSharshar, Sharbel Sharshar\n",
      "EuSalvatierra, Eu Salvatierra\n",
      "HMerentes, Hernan\n",
      "PalmaXOXO, A ✨\n",
      "anyelitagalue95, anyela isabel galué\n",
      "yanlihng, Yan Li Hung 吳洋力\n",
      "DMendezFuentes, Diego Méndez Fuentes\n",
      "esneker5, Yilber Patiño\n",
      "ValAcosta19, Valentina Acosta\n",
      "CagadorUSB, Cagador Implacable\n",
      "KDRR2134, KLEIBELYN DUBESKA \n",
      "VenturiLanda, Lana.\n"
     ]
    }
   ],
   "source": [
    "for seguidor in followers:\n",
    "    print(f\"{seguidor.screen_name}, {seguidor.name}\")"
   ]
  },
  {
   "cell_type": "code",
   "execution_count": 21,
   "id": "6a1a5618",
   "metadata": {},
   "outputs": [],
   "source": [
    "tweet = api.update_status(\"Prueba con la API de Twitter\")"
   ]
  },
  {
   "cell_type": "markdown",
   "id": "bbb138ce",
   "metadata": {},
   "source": [
    "**El atributo `id` del `tweet` es un número que lo identifica y que nos sirve para acceder a él:**"
   ]
  },
  {
   "cell_type": "code",
   "execution_count": 19,
   "id": "66386744",
   "metadata": {},
   "outputs": [
    {
     "data": {
      "text/plain": [
       "1499300378155929602"
      ]
     },
     "execution_count": 19,
     "metadata": {},
     "output_type": "execute_result"
    }
   ],
   "source": [
    "tweet.id"
   ]
  },
  {
   "cell_type": "markdown",
   "id": "d39d935c",
   "metadata": {},
   "source": [
    "**Para ver la fecha y hora exacta del tweet:**"
   ]
  },
  {
   "cell_type": "code",
   "execution_count": null,
   "id": "77becd88",
   "metadata": {},
   "outputs": [],
   "source": [
    "tweet.created_at"
   ]
  },
  {
   "cell_type": "code",
   "execution_count": null,
   "id": "4fcf2b3a",
   "metadata": {},
   "outputs": [],
   "source": [
    "print(tweet.created_at)"
   ]
  },
  {
   "cell_type": "markdown",
   "id": "fd75e9c7",
   "metadata": {},
   "source": [
    "**El atributo `user` contiene la información del usuario que publicó el tweet:**"
   ]
  },
  {
   "cell_type": "code",
   "execution_count": null,
   "id": "40aaa9a5",
   "metadata": {},
   "outputs": [],
   "source": [
    "# id del user\n",
    "\n",
    "print(tweet.user.id) \n",
    "\n",
    "\n",
    "# nombre del usuario que publico el tweet\n",
    "\n",
    "print(tweet.user.screen_name) "
   ]
  },
  {
   "cell_type": "code",
   "execution_count": null,
   "id": "b2e19279",
   "metadata": {},
   "outputs": [],
   "source": [
    "# Numero de seguidores\n",
    "\n",
    "print(tweet.user.followers_count)\n",
    "\n",
    "# Numero de amigos\n",
    "\n",
    "print(tweet.user.friends_count)"
   ]
  },
  {
   "cell_type": "markdown",
   "id": "c0b1f9c5",
   "metadata": {},
   "source": [
    "**Como la información del usuario está guardada en tweet.user podemos usar la función `display_user_info()`**"
   ]
  },
  {
   "cell_type": "code",
   "execution_count": null,
   "id": "02342ede",
   "metadata": {},
   "outputs": [],
   "source": [
    "display_user_info(tweet.user)"
   ]
  },
  {
   "cell_type": "markdown",
   "id": "68787f31",
   "metadata": {},
   "source": [
    "**Para borrar un tweet usamos `destroy_status` y el `id` del tweet:**"
   ]
  },
  {
   "cell_type": "code",
   "execution_count": null,
   "id": "cbe31c48",
   "metadata": {
    "scrolled": true
   },
   "outputs": [],
   "source": [
    "api.destroy_status(tweet.id)"
   ]
  },
  {
   "cell_type": "markdown",
   "id": "74875ef6",
   "metadata": {},
   "source": [
    "**Publicar un tweet con una imagen:**"
   ]
  },
  {
   "cell_type": "code",
   "execution_count": 22,
   "id": "f4e0437f",
   "metadata": {},
   "outputs": [
    {
     "name": "stdout",
     "output_type": "stream",
     "text": [
      "1499293690082299907\n"
     ]
    }
   ],
   "source": [
    "tweet_imagen = api.update_status_with_media(\"Imagen de google #google\",\n",
    "                                            \"google.png\")\n",
    "\n",
    "print(tweet_imagen.id)"
   ]
  },
  {
   "cell_type": "markdown",
   "id": "b8e019dc",
   "metadata": {},
   "source": [
    "**Responder a un tweet con una imagen**"
   ]
  },
  {
   "cell_type": "code",
   "execution_count": 24,
   "id": "297e7947",
   "metadata": {},
   "outputs": [],
   "source": [
    "tweet_respuesta = api.update_status_with_media(\"Otra vez la imagen de google #google\",\n",
    "                                               \"google.png\",                                        \n",
    "                                               in_reply_to_status_id = tweet_imagen.id)"
   ]
  },
  {
   "cell_type": "markdown",
   "id": "c272c454",
   "metadata": {},
   "source": [
    "**`home_timeline(count = n)` nos devuelve una lista con los `n` primeros tweets de nuestra TL.**"
   ]
  },
  {
   "cell_type": "code",
   "execution_count": 25,
   "id": "23c0419e",
   "metadata": {},
   "outputs": [],
   "source": [
    "public_tweets = api.home_timeline(count = 10)\n",
    "\n",
    "# public_tweets"
   ]
  },
  {
   "cell_type": "code",
   "execution_count": 26,
   "id": "930cb70c",
   "metadata": {},
   "outputs": [
    {
     "data": {
      "text/plain": [
       "['BONG BONG BONG BONG BONG BONG BONG BONG',\n",
       " 'La medicina es imprescindible para nosotros, si te gusta pon a prueba tus conocimientos con esta trivia… ¡Adelante!  https://t.co/cnC70m9KHg',\n",
       " 'Su misión como filósofo, fue crear una corriente de pensamiento que garantizara el bienestar de los ciudadanos, evi… https://t.co/UxSplQeCAb',\n",
       " 'BONG BONG BONG BONG BONG BONG BONG',\n",
       " 'Retamos tus conocimientos con esta trivia que te pondrá a pensar en lo mucho –o poco- que sabes de diversos temas y… https://t.co/N01XOH6NUg',\n",
       " '¿Sabías que el emperador romano Julio César promulgó la ley denominada “lex caeserea” que obligaba a los médicos a… https://t.co/zXRErqfTw2',\n",
       " '“La momia más bella de Egipto”; así se le denominó, por su excelente estado de conservación después de 2600 años…  https://t.co/z3ugFnhgEI',\n",
       " 'BONG BONG BONG BONG BONG BONG',\n",
       " 'El que no se queja es porque simplemente no quiere https://t.co/qxTmRBUH8W',\n",
       " '¡Cantante, compositor, guitarrista y pianista, líder de la banda inglesa Coldplay!  Para celebrar su cumpleaños te… https://t.co/723vSN1LQa']"
      ]
     },
     "execution_count": 26,
     "metadata": {},
     "output_type": "execute_result"
    }
   ],
   "source": [
    "[tweet.text for tweet in public_tweets]"
   ]
  },
  {
   "cell_type": "code",
   "execution_count": 27,
   "id": "79b21b76",
   "metadata": {},
   "outputs": [
    {
     "name": "stdout",
     "output_type": "stream",
     "text": [
      "BONG BONG BONG BONG BONG BONG BONG BONG\n"
     ]
    }
   ],
   "source": [
    "print(public_tweets[0].text)"
   ]
  },
  {
   "cell_type": "markdown",
   "id": "9672f80b",
   "metadata": {},
   "source": [
    "**`user_timeline` nos devuelve los tweets y respuestas de nuestro muro:**"
   ]
  },
  {
   "cell_type": "code",
   "execution_count": null,
   "id": "d0ec0f9a",
   "metadata": {},
   "outputs": [],
   "source": [
    "tweets = api.user_timeline(count = 10)\n",
    "for tweet in tweets:\n",
    "    print(f\"Texto: {tweet.text}\\nId: {tweet.id}\\nuser.name: {tweet.user.name}\")\n",
    "    print(\"*\"*30)"
   ]
  },
  {
   "cell_type": "markdown",
   "id": "bfb6525a",
   "metadata": {},
   "source": [
    "**Ver en qué idioma está escrito un tweet:**"
   ]
  },
  {
   "cell_type": "code",
   "execution_count": null,
   "id": "fc79d007",
   "metadata": {},
   "outputs": [],
   "source": [
    "tweets[-1].lang"
   ]
  },
  {
   "cell_type": "markdown",
   "id": "8b4fe667",
   "metadata": {},
   "source": [
    "**Ver el número de retweets y favoritos:**"
   ]
  },
  {
   "cell_type": "code",
   "execution_count": null,
   "id": "62fab581",
   "metadata": {},
   "outputs": [],
   "source": [
    "# Retweets\n",
    "print(tweets[0].retweet_count)\n",
    "\n",
    "# Retweets Favoritos\n",
    "print(tweets[0].favorite_count)"
   ]
  },
  {
   "cell_type": "markdown",
   "id": "2ee8ac50",
   "metadata": {},
   "source": [
    "**Retuitear un tweet:**"
   ]
  },
  {
   "cell_type": "code",
   "execution_count": null,
   "id": "79be4014",
   "metadata": {},
   "outputs": [],
   "source": [
    "api.retweet(tweets[0].id)"
   ]
  },
  {
   "cell_type": "markdown",
   "id": "8c28aefe",
   "metadata": {},
   "source": [
    "**Podemos darle follow a alguien:**"
   ]
  },
  {
   "cell_type": "code",
   "execution_count": null,
   "id": "f0bf912f",
   "metadata": {},
   "outputs": [],
   "source": [
    "# api.create_friendship(\"\")"
   ]
  },
  {
   "cell_type": "markdown",
   "id": "feafaa4a",
   "metadata": {},
   "source": [
    "**Podemos darle unfollow a alguien:**"
   ]
  },
  {
   "cell_type": "code",
   "execution_count": null,
   "id": "2e2fbfd0",
   "metadata": {},
   "outputs": [],
   "source": [
    "# api.destroy_friendship(\"\")"
   ]
  },
  {
   "cell_type": "markdown",
   "id": "18b1d1ca",
   "metadata": {},
   "source": [
    "**Podemos ver relaciones de amistad entre cuentas de twitter:**"
   ]
  },
  {
   "cell_type": "code",
   "execution_count": 29,
   "id": "63cd6b65",
   "metadata": {},
   "outputs": [
    {
     "ename": "AttributeError",
     "evalue": "'API' object has no attribute 'show_friendship'",
     "output_type": "error",
     "traceback": [
      "\u001b[1;31m---------------------------------------------------------------------------\u001b[0m",
      "\u001b[1;31mAttributeError\u001b[0m                            Traceback (most recent call last)",
      "\u001b[1;32m<ipython-input-29-003a0a748dd7>\u001b[0m in \u001b[0;36m<module>\u001b[1;34m\u001b[0m\n\u001b[1;32m----> 1\u001b[1;33m \u001b[0mamistad\u001b[0m \u001b[1;33m=\u001b[0m \u001b[0mapi\u001b[0m\u001b[1;33m.\u001b[0m\u001b[0mshow_friendship\u001b[0m\u001b[1;33m(\u001b[0m\u001b[0msource_screen_name\u001b[0m \u001b[1;33m=\u001b[0m \u001b[1;34m\"ylecun\"\u001b[0m\u001b[1;33m,\u001b[0m \u001b[0mtarget_screen_name\u001b[0m \u001b[1;33m=\u001b[0m \u001b[1;34m\"WilhelmDTR\"\u001b[0m\u001b[1;33m)\u001b[0m\u001b[1;33m\u001b[0m\u001b[1;33m\u001b[0m\u001b[0m\n\u001b[0m\u001b[0;32m      2\u001b[0m \u001b[1;33m\u001b[0m\u001b[0m\n\u001b[0;32m      3\u001b[0m \u001b[0mamistad\u001b[0m\u001b[1;33m\u001b[0m\u001b[1;33m\u001b[0m\u001b[0m\n",
      "\u001b[1;31mAttributeError\u001b[0m: 'API' object has no attribute 'show_friendship'"
     ]
    }
   ],
   "source": [
    "amistad = api.get_(source_screen_name = \"ylecun\", target_screen_name = \"WilhelmDTR\")\n",
    "\n",
    "amistad"
   ]
  },
  {
   "cell_type": "markdown",
   "id": "3b938773",
   "metadata": {},
   "source": [
    "**El source (ylecun) es seguido por el target (Daniel)?**"
   ]
  },
  {
   "cell_type": "code",
   "execution_count": null,
   "id": "358e12d4",
   "metadata": {},
   "outputs": [],
   "source": [
    "amistad[0].followed_by"
   ]
  },
  {
   "cell_type": "code",
   "execution_count": null,
   "id": "e741a06c",
   "metadata": {},
   "outputs": [],
   "source": [
    "# También vale\n",
    "\n",
    "amistad[1].following"
   ]
  },
  {
   "cell_type": "markdown",
   "id": "98c20da5",
   "metadata": {},
   "source": [
    "**El source (ylecun) sigue al target (Daniel)?**"
   ]
  },
  {
   "cell_type": "code",
   "execution_count": null,
   "id": "089e6a69",
   "metadata": {},
   "outputs": [],
   "source": [
    "amistad[1].followed_by"
   ]
  },
  {
   "cell_type": "code",
   "execution_count": null,
   "id": "32bd81ea",
   "metadata": {},
   "outputs": [],
   "source": [
    "# También vale\n",
    "amistad[0].following"
   ]
  },
  {
   "cell_type": "markdown",
   "id": "119f130c",
   "metadata": {},
   "source": [
    "## Buscar personas y tweets\n",
    "\n",
    "**Con `search` y `search_users` podemos buscar personas y tweets por palabras:**"
   ]
  },
  {
   "cell_type": "code",
   "execution_count": 15,
   "id": "150fc003",
   "metadata": {},
   "outputs": [],
   "source": [
    "# Tweets \n",
    "\n",
    "tweets_python = api.search_tweets(q = \"@movistar_es\", count = 5, tweet_mode = \"extended\")"
   ]
  },
  {
   "cell_type": "code",
   "execution_count": 16,
   "id": "3ede2ae1",
   "metadata": {},
   "outputs": [
    {
     "data": {
      "text/plain": [
       "'“La casa del fútbol”. @movistar_es SINVERGÜENZAS. Ahí a calzón quitao. Biberón y a dormir. https://t.co/tiOeoDIqQc'"
      ]
     },
     "execution_count": 16,
     "metadata": {},
     "output_type": "execute_result"
    }
   ],
   "source": [
    "tweets_python[0].full_text"
   ]
  },
  {
   "cell_type": "code",
   "execution_count": 17,
   "id": "4d205502",
   "metadata": {},
   "outputs": [
    {
     "name": "stdout",
     "output_type": "stream",
     "text": [
      "“La casa del fútbol”. @movistar_es SINVERGÜENZAS. Ahí a calzón quitao. Biberón y a dormir. https://t.co/tiOeoDIqQc\n",
      "@movistar_es @movistar_es Sigo esperando que me hagáis un abono a una facturación incorrecta, y mientras me tenéis hablando con un sinfín de personas que lo único que hacen es darme excusas vacías de contenido. Un servicio lamentable y deplorable.\n",
      "@movistar_es buenos días, les he enviado un privado, gracias ☺️🤗\n",
      "RT @belenrdguez: Hola @movistar_es. Llevo varios meses intentando desactivar el buzón de voz de mi teléfono. Imposible que me atiendan\n",
      "@AtletiMinuto80 @rojiblanco40atl @movistar_es Eran mas objetuvos en Real Madrid Tv, por lo menos pusieron a Barrios por las nubes y dijeron que metio 2 GOLAZOS y no se murieron\n"
     ]
    }
   ],
   "source": [
    "for tweet in tweets_python:\n",
    "    print(tweet.full_text)\n",
    "#    print(\"**********************\")"
   ]
  },
  {
   "cell_type": "code",
   "execution_count": null,
   "id": "ee2318b6",
   "metadata": {},
   "outputs": [],
   "source": [
    "# Usuarios\n",
    "\n",
    "users_python = api.search_users(q = \"python\", count = 5)"
   ]
  },
  {
   "cell_type": "code",
   "execution_count": null,
   "id": "434cacdb",
   "metadata": {},
   "outputs": [],
   "source": [
    "for user in users_python:\n",
    "    display_user_info(user)\n",
    "    print(\"\\n\")"
   ]
  },
  {
   "cell_type": "markdown",
   "id": "1382eebc",
   "metadata": {},
   "source": [
    "## Cursor\n",
    "\n",
    "Los métodos que estamos empleando obtienen información por páginas. Para obtener más información tenemos que usar **`.Cursor()`**.\n",
    "\n",
    "Sin **`.Cursor()`**, si queremos obtener, por ejemplo, todos los tweets de un usuario lo podemos hacer de la siguiente manera:"
   ]
  },
  {
   "cell_type": "code",
   "execution_count": null,
   "id": "6ffc916c",
   "metadata": {},
   "outputs": [],
   "source": [
    "page = 1\n",
    "while True:\n",
    "    tuits = api.user_timeline(\"ylecun\", page = page)\n",
    "    \n",
    "    for tuit in tuits:\n",
    "        print(tuit.text)\n",
    "        print(\"************\")\n",
    "        \n",
    "    page += 1\n",
    "    \n",
    "    if page == 5:\n",
    "        break"
   ]
  },
  {
   "cell_type": "code",
   "execution_count": null,
   "id": "8bbcc794",
   "metadata": {},
   "outputs": [],
   "source": [
    "tweets = tweepy.Cursor(api.user_timeline, \"ylecun\").items()"
   ]
  },
  {
   "cell_type": "code",
   "execution_count": null,
   "id": "972cca26",
   "metadata": {},
   "outputs": [],
   "source": [
    "for tweet in tweets:\n",
    "    print(tweet.text)"
   ]
  },
  {
   "cell_type": "markdown",
   "id": "2201c773",
   "metadata": {},
   "source": [
    "## Dataframe con datos de Twitter\n",
    "\n",
    "**Vamos a crear un `DataFrame` de `pandas` con datos de los tweets de 20minutos.**"
   ]
  },
  {
   "cell_type": "code",
   "execution_count": 21,
   "id": "7791db76",
   "metadata": {},
   "outputs": [
    {
     "name": "stdout",
     "output_type": "stream",
     "text": [
      "User: 20m\n",
      "Name: 20minutos.es\n",
      "Location: Spain\n",
      "Friends: 51294\n",
      "Followers: 1475027\n",
      "id: 31090827\n",
      "Desde: 2009-04-14 09:39:41+00:00\n"
     ]
    }
   ],
   "source": [
    "minutos = api.get_user(screen_name = \"20m\")\n",
    "\n",
    "display_user_info(minutos)"
   ]
  },
  {
   "cell_type": "code",
   "execution_count": 27,
   "id": "5cfd7611",
   "metadata": {},
   "outputs": [],
   "source": [
    "tweets = tweepy.Cursor(api.user_timeline, minutos.id).items()"
   ]
  },
  {
   "cell_type": "code",
   "execution_count": 28,
   "id": "f04b01aa",
   "metadata": {},
   "outputs": [
    {
     "ename": "TypeError",
     "evalue": "user_timeline() takes 1 positional argument but 2 were given",
     "output_type": "error",
     "traceback": [
      "\u001b[1;31m---------------------------------------------------------------------------\u001b[0m",
      "\u001b[1;31mTypeError\u001b[0m                                 Traceback (most recent call last)",
      "\u001b[1;32m~\\AppData\\Local\\Temp/ipykernel_16308/560777089.py\u001b[0m in \u001b[0;36m<module>\u001b[1;34m\u001b[0m\n\u001b[1;32m----> 1\u001b[1;33m \u001b[0mtweets_20minutos\u001b[0m \u001b[1;33m=\u001b[0m \u001b[1;33m[\u001b[0m\u001b[1;33m[\u001b[0m\u001b[0mtweet\u001b[0m\u001b[1;33m.\u001b[0m\u001b[0mtext\u001b[0m\u001b[1;33m,\u001b[0m \u001b[0mtweet\u001b[0m\u001b[1;33m.\u001b[0m\u001b[0mcreated_at\u001b[0m\u001b[1;33m,\u001b[0m \u001b[0mtweet\u001b[0m\u001b[1;33m.\u001b[0m\u001b[0mid\u001b[0m\u001b[1;33m,\u001b[0m \u001b[0mtweet\u001b[0m\u001b[1;33m.\u001b[0m\u001b[0mretweet_count\u001b[0m\u001b[1;33m,\u001b[0m \u001b[0mtweet\u001b[0m\u001b[1;33m.\u001b[0m\u001b[0mfavorite_count\u001b[0m\u001b[1;33m]\u001b[0m \u001b[1;32mfor\u001b[0m \u001b[0mtweet\u001b[0m \u001b[1;32min\u001b[0m \u001b[0mtweets\u001b[0m\u001b[1;33m]\u001b[0m\u001b[1;33m\u001b[0m\u001b[1;33m\u001b[0m\u001b[0m\n\u001b[0m\u001b[0;32m      2\u001b[0m \u001b[1;33m\u001b[0m\u001b[0m\n\u001b[0;32m      3\u001b[0m \u001b[0mlen\u001b[0m\u001b[1;33m(\u001b[0m\u001b[0mtweets_20minutos\u001b[0m\u001b[1;33m)\u001b[0m\u001b[1;33m\u001b[0m\u001b[1;33m\u001b[0m\u001b[0m\n",
      "\u001b[1;32m~\\AppData\\Local\\Temp/ipykernel_16308/560777089.py\u001b[0m in \u001b[0;36m<listcomp>\u001b[1;34m(.0)\u001b[0m\n\u001b[1;32m----> 1\u001b[1;33m \u001b[0mtweets_20minutos\u001b[0m \u001b[1;33m=\u001b[0m \u001b[1;33m[\u001b[0m\u001b[1;33m[\u001b[0m\u001b[0mtweet\u001b[0m\u001b[1;33m.\u001b[0m\u001b[0mtext\u001b[0m\u001b[1;33m,\u001b[0m \u001b[0mtweet\u001b[0m\u001b[1;33m.\u001b[0m\u001b[0mcreated_at\u001b[0m\u001b[1;33m,\u001b[0m \u001b[0mtweet\u001b[0m\u001b[1;33m.\u001b[0m\u001b[0mid\u001b[0m\u001b[1;33m,\u001b[0m \u001b[0mtweet\u001b[0m\u001b[1;33m.\u001b[0m\u001b[0mretweet_count\u001b[0m\u001b[1;33m,\u001b[0m \u001b[0mtweet\u001b[0m\u001b[1;33m.\u001b[0m\u001b[0mfavorite_count\u001b[0m\u001b[1;33m]\u001b[0m \u001b[1;32mfor\u001b[0m \u001b[0mtweet\u001b[0m \u001b[1;32min\u001b[0m \u001b[0mtweets\u001b[0m\u001b[1;33m]\u001b[0m\u001b[1;33m\u001b[0m\u001b[1;33m\u001b[0m\u001b[0m\n\u001b[0m\u001b[0;32m      2\u001b[0m \u001b[1;33m\u001b[0m\u001b[0m\n\u001b[0;32m      3\u001b[0m \u001b[0mlen\u001b[0m\u001b[1;33m(\u001b[0m\u001b[0mtweets_20minutos\u001b[0m\u001b[1;33m)\u001b[0m\u001b[1;33m\u001b[0m\u001b[1;33m\u001b[0m\u001b[0m\n",
      "\u001b[1;32m~\\anaconda3\\lib\\site-packages\\tweepy\\cursor.py\u001b[0m in \u001b[0;36m__next__\u001b[1;34m(self)\u001b[0m\n\u001b[0;32m     84\u001b[0m \u001b[1;33m\u001b[0m\u001b[0m\n\u001b[0;32m     85\u001b[0m     \u001b[1;32mdef\u001b[0m \u001b[0m__next__\u001b[0m\u001b[1;33m(\u001b[0m\u001b[0mself\u001b[0m\u001b[1;33m)\u001b[0m\u001b[1;33m:\u001b[0m\u001b[1;33m\u001b[0m\u001b[1;33m\u001b[0m\u001b[0m\n\u001b[1;32m---> 86\u001b[1;33m         \u001b[1;32mreturn\u001b[0m \u001b[0mself\u001b[0m\u001b[1;33m.\u001b[0m\u001b[0mnext\u001b[0m\u001b[1;33m(\u001b[0m\u001b[1;33m)\u001b[0m\u001b[1;33m\u001b[0m\u001b[1;33m\u001b[0m\u001b[0m\n\u001b[0m\u001b[0;32m     87\u001b[0m \u001b[1;33m\u001b[0m\u001b[0m\n\u001b[0;32m     88\u001b[0m     \u001b[1;32mdef\u001b[0m \u001b[0mnext\u001b[0m\u001b[1;33m(\u001b[0m\u001b[0mself\u001b[0m\u001b[1;33m)\u001b[0m\u001b[1;33m:\u001b[0m\u001b[1;33m\u001b[0m\u001b[1;33m\u001b[0m\u001b[0m\n",
      "\u001b[1;32m~\\anaconda3\\lib\\site-packages\\tweepy\\cursor.py\u001b[0m in \u001b[0;36mnext\u001b[1;34m(self)\u001b[0m\n\u001b[0;32m    284\u001b[0m         \u001b[1;32mif\u001b[0m \u001b[0mself\u001b[0m\u001b[1;33m.\u001b[0m\u001b[0mcurrent_page\u001b[0m \u001b[1;32mis\u001b[0m \u001b[1;32mNone\u001b[0m \u001b[1;32mor\u001b[0m \u001b[0mself\u001b[0m\u001b[1;33m.\u001b[0m\u001b[0mpage_index\u001b[0m \u001b[1;33m==\u001b[0m \u001b[0mlen\u001b[0m\u001b[1;33m(\u001b[0m\u001b[0mself\u001b[0m\u001b[1;33m.\u001b[0m\u001b[0mcurrent_page\u001b[0m\u001b[1;33m)\u001b[0m \u001b[1;33m-\u001b[0m \u001b[1;36m1\u001b[0m\u001b[1;33m:\u001b[0m\u001b[1;33m\u001b[0m\u001b[1;33m\u001b[0m\u001b[0m\n\u001b[0;32m    285\u001b[0m             \u001b[1;31m# Reached end of current page, get the next page...\u001b[0m\u001b[1;33m\u001b[0m\u001b[1;33m\u001b[0m\u001b[0m\n\u001b[1;32m--> 286\u001b[1;33m             \u001b[0mself\u001b[0m\u001b[1;33m.\u001b[0m\u001b[0mcurrent_page\u001b[0m \u001b[1;33m=\u001b[0m \u001b[0mnext\u001b[0m\u001b[1;33m(\u001b[0m\u001b[0mself\u001b[0m\u001b[1;33m.\u001b[0m\u001b[0mpage_iterator\u001b[0m\u001b[1;33m)\u001b[0m\u001b[1;33m\u001b[0m\u001b[1;33m\u001b[0m\u001b[0m\n\u001b[0m\u001b[0;32m    287\u001b[0m             \u001b[1;32mwhile\u001b[0m \u001b[0mlen\u001b[0m\u001b[1;33m(\u001b[0m\u001b[0mself\u001b[0m\u001b[1;33m.\u001b[0m\u001b[0mcurrent_page\u001b[0m\u001b[1;33m)\u001b[0m \u001b[1;33m==\u001b[0m \u001b[1;36m0\u001b[0m\u001b[1;33m:\u001b[0m\u001b[1;33m\u001b[0m\u001b[1;33m\u001b[0m\u001b[0m\n\u001b[0;32m    288\u001b[0m                 \u001b[0mself\u001b[0m\u001b[1;33m.\u001b[0m\u001b[0mcurrent_page\u001b[0m \u001b[1;33m=\u001b[0m \u001b[0mnext\u001b[0m\u001b[1;33m(\u001b[0m\u001b[0mself\u001b[0m\u001b[1;33m.\u001b[0m\u001b[0mpage_iterator\u001b[0m\u001b[1;33m)\u001b[0m\u001b[1;33m\u001b[0m\u001b[1;33m\u001b[0m\u001b[0m\n",
      "\u001b[1;32m~\\anaconda3\\lib\\site-packages\\tweepy\\cursor.py\u001b[0m in \u001b[0;36m__next__\u001b[1;34m(self)\u001b[0m\n\u001b[0;32m     84\u001b[0m \u001b[1;33m\u001b[0m\u001b[0m\n\u001b[0;32m     85\u001b[0m     \u001b[1;32mdef\u001b[0m \u001b[0m__next__\u001b[0m\u001b[1;33m(\u001b[0m\u001b[0mself\u001b[0m\u001b[1;33m)\u001b[0m\u001b[1;33m:\u001b[0m\u001b[1;33m\u001b[0m\u001b[1;33m\u001b[0m\u001b[0m\n\u001b[1;32m---> 86\u001b[1;33m         \u001b[1;32mreturn\u001b[0m \u001b[0mself\u001b[0m\u001b[1;33m.\u001b[0m\u001b[0mnext\u001b[0m\u001b[1;33m(\u001b[0m\u001b[1;33m)\u001b[0m\u001b[1;33m\u001b[0m\u001b[1;33m\u001b[0m\u001b[0m\n\u001b[0m\u001b[0;32m     87\u001b[0m \u001b[1;33m\u001b[0m\u001b[0m\n\u001b[0;32m     88\u001b[0m     \u001b[1;32mdef\u001b[0m \u001b[0mnext\u001b[0m\u001b[1;33m(\u001b[0m\u001b[0mself\u001b[0m\u001b[1;33m)\u001b[0m\u001b[1;33m:\u001b[0m\u001b[1;33m\u001b[0m\u001b[1;33m\u001b[0m\u001b[0m\n",
      "\u001b[1;32m~\\anaconda3\\lib\\site-packages\\tweepy\\cursor.py\u001b[0m in \u001b[0;36mnext\u001b[1;34m(self)\u001b[0m\n\u001b[0;32m    165\u001b[0m \u001b[1;33m\u001b[0m\u001b[0m\n\u001b[0;32m    166\u001b[0m         \u001b[1;32mif\u001b[0m \u001b[0mself\u001b[0m\u001b[1;33m.\u001b[0m\u001b[0mindex\u001b[0m \u001b[1;33m>=\u001b[0m \u001b[0mlen\u001b[0m\u001b[1;33m(\u001b[0m\u001b[0mself\u001b[0m\u001b[1;33m.\u001b[0m\u001b[0mresults\u001b[0m\u001b[1;33m)\u001b[0m \u001b[1;33m-\u001b[0m \u001b[1;36m1\u001b[0m\u001b[1;33m:\u001b[0m\u001b[1;33m\u001b[0m\u001b[1;33m\u001b[0m\u001b[0m\n\u001b[1;32m--> 167\u001b[1;33m             \u001b[0mdata\u001b[0m \u001b[1;33m=\u001b[0m \u001b[0mself\u001b[0m\u001b[1;33m.\u001b[0m\u001b[0mmethod\u001b[0m\u001b[1;33m(\u001b[0m\u001b[0mmax_id\u001b[0m\u001b[1;33m=\u001b[0m\u001b[0mself\u001b[0m\u001b[1;33m.\u001b[0m\u001b[0mmax_id\u001b[0m\u001b[1;33m,\u001b[0m \u001b[0mparser\u001b[0m\u001b[1;33m=\u001b[0m\u001b[0mRawParser\u001b[0m\u001b[1;33m(\u001b[0m\u001b[1;33m)\u001b[0m\u001b[1;33m,\u001b[0m \u001b[1;33m*\u001b[0m\u001b[0mself\u001b[0m\u001b[1;33m.\u001b[0m\u001b[0margs\u001b[0m\u001b[1;33m,\u001b[0m \u001b[1;33m**\u001b[0m\u001b[0mself\u001b[0m\u001b[1;33m.\u001b[0m\u001b[0mkwargs\u001b[0m\u001b[1;33m)\u001b[0m\u001b[1;33m\u001b[0m\u001b[1;33m\u001b[0m\u001b[0m\n\u001b[0m\u001b[0;32m    168\u001b[0m \u001b[1;33m\u001b[0m\u001b[0m\n\u001b[0;32m    169\u001b[0m             model = ModelParser().parse(\n",
      "\u001b[1;32m~\\anaconda3\\lib\\site-packages\\tweepy\\api.py\u001b[0m in \u001b[0;36mwrapper\u001b[1;34m(*args, **kwargs)\u001b[0m\n\u001b[0;32m     31\u001b[0m         \u001b[1;33m@\u001b[0m\u001b[0mfunctools\u001b[0m\u001b[1;33m.\u001b[0m\u001b[0mwraps\u001b[0m\u001b[1;33m(\u001b[0m\u001b[0mmethod\u001b[0m\u001b[1;33m)\u001b[0m\u001b[1;33m\u001b[0m\u001b[1;33m\u001b[0m\u001b[0m\n\u001b[0;32m     32\u001b[0m         \u001b[1;32mdef\u001b[0m \u001b[0mwrapper\u001b[0m\u001b[1;33m(\u001b[0m\u001b[1;33m*\u001b[0m\u001b[0margs\u001b[0m\u001b[1;33m,\u001b[0m \u001b[1;33m**\u001b[0m\u001b[0mkwargs\u001b[0m\u001b[1;33m)\u001b[0m\u001b[1;33m:\u001b[0m\u001b[1;33m\u001b[0m\u001b[1;33m\u001b[0m\u001b[0m\n\u001b[1;32m---> 33\u001b[1;33m             \u001b[1;32mreturn\u001b[0m \u001b[0mmethod\u001b[0m\u001b[1;33m(\u001b[0m\u001b[1;33m*\u001b[0m\u001b[0margs\u001b[0m\u001b[1;33m,\u001b[0m \u001b[1;33m**\u001b[0m\u001b[0mkwargs\u001b[0m\u001b[1;33m)\u001b[0m\u001b[1;33m\u001b[0m\u001b[1;33m\u001b[0m\u001b[0m\n\u001b[0m\u001b[0;32m     34\u001b[0m         \u001b[0mwrapper\u001b[0m\u001b[1;33m.\u001b[0m\u001b[0mpagination_mode\u001b[0m \u001b[1;33m=\u001b[0m \u001b[0mmode\u001b[0m\u001b[1;33m\u001b[0m\u001b[1;33m\u001b[0m\u001b[0m\n\u001b[0;32m     35\u001b[0m         \u001b[1;32mreturn\u001b[0m \u001b[0mwrapper\u001b[0m\u001b[1;33m\u001b[0m\u001b[1;33m\u001b[0m\u001b[0m\n",
      "\u001b[1;32m~\\anaconda3\\lib\\site-packages\\tweepy\\api.py\u001b[0m in \u001b[0;36mwrapper\u001b[1;34m(*args, **kwargs)\u001b[0m\n\u001b[0;32m     44\u001b[0m             \u001b[0mkwargs\u001b[0m\u001b[1;33m[\u001b[0m\u001b[1;34m'payload_list'\u001b[0m\u001b[1;33m]\u001b[0m \u001b[1;33m=\u001b[0m \u001b[0mpayload_list\u001b[0m\u001b[1;33m\u001b[0m\u001b[1;33m\u001b[0m\u001b[0m\n\u001b[0;32m     45\u001b[0m             \u001b[0mkwargs\u001b[0m\u001b[1;33m[\u001b[0m\u001b[1;34m'payload_type'\u001b[0m\u001b[1;33m]\u001b[0m \u001b[1;33m=\u001b[0m \u001b[0mpayload_type\u001b[0m\u001b[1;33m\u001b[0m\u001b[1;33m\u001b[0m\u001b[0m\n\u001b[1;32m---> 46\u001b[1;33m             \u001b[1;32mreturn\u001b[0m \u001b[0mmethod\u001b[0m\u001b[1;33m(\u001b[0m\u001b[1;33m*\u001b[0m\u001b[0margs\u001b[0m\u001b[1;33m,\u001b[0m \u001b[1;33m**\u001b[0m\u001b[0mkwargs\u001b[0m\u001b[1;33m)\u001b[0m\u001b[1;33m\u001b[0m\u001b[1;33m\u001b[0m\u001b[0m\n\u001b[0m\u001b[0;32m     47\u001b[0m         \u001b[0mwrapper\u001b[0m\u001b[1;33m.\u001b[0m\u001b[0mpayload_list\u001b[0m \u001b[1;33m=\u001b[0m \u001b[0mpayload_list\u001b[0m\u001b[1;33m\u001b[0m\u001b[1;33m\u001b[0m\u001b[0m\n\u001b[0;32m     48\u001b[0m         \u001b[0mwrapper\u001b[0m\u001b[1;33m.\u001b[0m\u001b[0mpayload_type\u001b[0m \u001b[1;33m=\u001b[0m \u001b[0mpayload_type\u001b[0m\u001b[1;33m\u001b[0m\u001b[1;33m\u001b[0m\u001b[0m\n",
      "\u001b[1;31mTypeError\u001b[0m: user_timeline() takes 1 positional argument but 2 were given"
     ]
    }
   ],
   "source": [
    "tweets_20minutos = [[tweet.text, tweet.created_at, tweet.id, tweet.retweet_count, tweet.favorite_count] for tweet in tweets]\n",
    "\n",
    "len(tweets_20minutos)"
   ]
  },
  {
   "cell_type": "code",
   "execution_count": 24,
   "id": "ddb3f8ab",
   "metadata": {},
   "outputs": [
    {
     "ename": "NameError",
     "evalue": "name 'tweets_20minutos' is not defined",
     "output_type": "error",
     "traceback": [
      "\u001b[1;31m---------------------------------------------------------------------------\u001b[0m",
      "\u001b[1;31mNameError\u001b[0m                                 Traceback (most recent call last)",
      "\u001b[1;32m~\\AppData\\Local\\Temp/ipykernel_16308/2412611134.py\u001b[0m in \u001b[0;36m<module>\u001b[1;34m\u001b[0m\n\u001b[1;32m----> 1\u001b[1;33m \u001b[0mtweets_20minutos\u001b[0m\u001b[1;33m[\u001b[0m\u001b[1;36m0\u001b[0m\u001b[1;33m]\u001b[0m\u001b[1;33m\u001b[0m\u001b[1;33m\u001b[0m\u001b[0m\n\u001b[0m",
      "\u001b[1;31mNameError\u001b[0m: name 'tweets_20minutos' is not defined"
     ]
    }
   ],
   "source": [
    "tweets_20minutos[0]"
   ]
  },
  {
   "cell_type": "markdown",
   "id": "f2c013be",
   "metadata": {},
   "source": [
    "#### Creamos el DataFrame"
   ]
  },
  {
   "cell_type": "code",
   "execution_count": 29,
   "id": "f12b8ab6",
   "metadata": {},
   "outputs": [
    {
     "ename": "NameError",
     "evalue": "name 'tweets_20minutos' is not defined",
     "output_type": "error",
     "traceback": [
      "\u001b[1;31m---------------------------------------------------------------------------\u001b[0m",
      "\u001b[1;31mNameError\u001b[0m                                 Traceback (most recent call last)",
      "\u001b[1;32m~\\AppData\\Local\\Temp/ipykernel_16308/2886955223.py\u001b[0m in \u001b[0;36m<module>\u001b[1;34m\u001b[0m\n\u001b[1;32m----> 1\u001b[1;33m \u001b[0mdf_20minutos\u001b[0m \u001b[1;33m=\u001b[0m \u001b[0mpd\u001b[0m\u001b[1;33m.\u001b[0m\u001b[0mDataFrame\u001b[0m\u001b[1;33m(\u001b[0m\u001b[0mtweets_20minutos\u001b[0m\u001b[1;33m,\u001b[0m \u001b[0mcolumns\u001b[0m \u001b[1;33m=\u001b[0m \u001b[1;33m[\u001b[0m\u001b[1;34m\"tweet\"\u001b[0m\u001b[1;33m,\u001b[0m \u001b[1;34m\"date\"\u001b[0m\u001b[1;33m,\u001b[0m \u001b[1;34m\"id\"\u001b[0m\u001b[1;33m,\u001b[0m \u001b[1;34m\"rt\"\u001b[0m\u001b[1;33m,\u001b[0m \u001b[1;34m\"fav\"\u001b[0m\u001b[1;33m]\u001b[0m\u001b[1;33m)\u001b[0m\u001b[1;33m\u001b[0m\u001b[1;33m\u001b[0m\u001b[0m\n\u001b[0m\u001b[0;32m      2\u001b[0m \u001b[1;33m\u001b[0m\u001b[0m\n\u001b[0;32m      3\u001b[0m \u001b[0mdf_20minutos\u001b[0m\u001b[1;33m.\u001b[0m\u001b[0mhead\u001b[0m\u001b[1;33m(\u001b[0m\u001b[1;36m3\u001b[0m\u001b[1;33m)\u001b[0m\u001b[1;33m\u001b[0m\u001b[1;33m\u001b[0m\u001b[0m\n",
      "\u001b[1;31mNameError\u001b[0m: name 'tweets_20minutos' is not defined"
     ]
    }
   ],
   "source": [
    "df_20minutos = pd.DataFrame(tweets_20minutos, columns = [\"tweet\", \"date\", \"id\", \"rt\", \"fav\"])\n",
    "\n",
    "df_20minutos.head(3)"
   ]
  },
  {
   "cell_type": "code",
   "execution_count": null,
   "id": "e833949f",
   "metadata": {},
   "outputs": [],
   "source": [
    "df_20minutos.shape"
   ]
  },
  {
   "cell_type": "code",
   "execution_count": null,
   "id": "9bf08732",
   "metadata": {},
   "outputs": [],
   "source": [
    "df_20minutos[\"year\"] = df_20minutos[\"date\"].apply(lambda x: x.year)\n",
    "\n",
    "df_20minutos[\"month\"] = df_20minutos[\"date\"].apply(lambda x: x.month)\n",
    "\n",
    "df_20minutos[\"weekday\"] = df_20minutos[\"date\"].apply(lambda x: x.weekday())\n",
    "\n",
    "df_20minutos[\"hour\"] = df_20minutos[\"date\"].apply(lambda x: x.hour)\n",
    "\n",
    "df_20minutos.head(3)"
   ]
  },
  {
   "cell_type": "code",
   "execution_count": null,
   "id": "71e60d9d",
   "metadata": {},
   "outputs": [],
   "source": [
    "semana_map = {0 : \"Lunes\", 1 : \"Martes\", 2 : \"Miércoles\", 3 : \"Jueves\", 4 : \"Viernes\", 5 : \"Sábado\", 6 : \"Domingo\"}"
   ]
  },
  {
   "cell_type": "code",
   "execution_count": null,
   "id": "99ba97cb",
   "metadata": {},
   "outputs": [],
   "source": [
    "df_20minutos[\"weekday\"] = df_20minutos[\"weekday\"].map(semana_map)"
   ]
  },
  {
   "cell_type": "code",
   "execution_count": null,
   "id": "d6a6d1aa",
   "metadata": {},
   "outputs": [],
   "source": [
    "df_20minutos.head(3)"
   ]
  },
  {
   "cell_type": "markdown",
   "id": "dfa7a992",
   "metadata": {},
   "source": [
    "**Número de tweets por año**"
   ]
  },
  {
   "cell_type": "code",
   "execution_count": null,
   "id": "337f7258",
   "metadata": {},
   "outputs": [],
   "source": [
    "sns.countplot(df_20minutos[\"year\"])\n",
    "\n",
    "plt.show()"
   ]
  },
  {
   "cell_type": "markdown",
   "id": "8d56d607",
   "metadata": {},
   "source": [
    "**Número de tweets por meses:**"
   ]
  },
  {
   "cell_type": "code",
   "execution_count": null,
   "id": "f226a5bd",
   "metadata": {},
   "outputs": [],
   "source": [
    "sns.countplot(x = df_20minutos[df_20minutos[\"year\"] == 2021][\"month\"])\n",
    "\n",
    "plt.show()"
   ]
  },
  {
   "cell_type": "markdown",
   "id": "c50dcd5c",
   "metadata": {},
   "source": [
    "**Tweets de cada mes año por año:**"
   ]
  },
  {
   "cell_type": "code",
   "execution_count": null,
   "id": "7146a445",
   "metadata": {
    "scrolled": true
   },
   "outputs": [],
   "source": [
    "for year in df_20minutos[\"year\"].unique():\n",
    "    print(year)\n",
    "    sns.countplot(x = df_20minutos.loc[df_20minutos[\"year\"] == year][\"month\"])\n",
    "    plt.show()"
   ]
  },
  {
   "cell_type": "markdown",
   "id": "bb8aeba3",
   "metadata": {},
   "source": [
    "**Número de tweets por día de la semana:**"
   ]
  },
  {
   "cell_type": "code",
   "execution_count": null,
   "id": "ad51ba65",
   "metadata": {},
   "outputs": [],
   "source": [
    "sns.countplot(x = df_20minutos[\"weekday\"])\n",
    "\n",
    "plt.show()"
   ]
  },
  {
   "cell_type": "markdown",
   "id": "b7ca42d8",
   "metadata": {},
   "source": [
    "**Frecuencia de tweets por hora:**"
   ]
  },
  {
   "cell_type": "code",
   "execution_count": null,
   "id": "45a723ce",
   "metadata": {},
   "outputs": [],
   "source": [
    "sns.histplot(x = df_20minutos[\"hour\"], kde = True)\n",
    "\n",
    "plt.show()"
   ]
  },
  {
   "cell_type": "code",
   "execution_count": null,
   "id": "70a3c88e",
   "metadata": {},
   "outputs": [],
   "source": [
    "################################################################################################################################"
   ]
  }
 ],
 "metadata": {
  "kernelspec": {
   "display_name": "Python 3 (ipykernel)",
   "language": "python",
   "name": "python3"
  },
  "language_info": {
   "codemirror_mode": {
    "name": "ipython",
    "version": 3
   },
   "file_extension": ".py",
   "mimetype": "text/x-python",
   "name": "python",
   "nbconvert_exporter": "python",
   "pygments_lexer": "ipython3",
   "version": "3.9.7"
  }
 },
 "nbformat": 4,
 "nbformat_minor": 5
}
