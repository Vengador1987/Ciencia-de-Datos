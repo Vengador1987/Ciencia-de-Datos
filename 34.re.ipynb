{
 "cells": [
  {
   "cell_type": "markdown",
   "id": "67de028b",
   "metadata": {},
   "source": [
    "# Regular expressions (expresiones regulares) o regex\n",
    "\n",
    "```python\n",
    "import re\n",
    "```\n",
    "\n",
    "Una **`expresión regular`** es una cadena de caracteres que es utilizada para describir o encontrar patrones dentro de otros strings, en base al uso de delimitadores y ciertas reglas de sintaxis.\n",
    "\n",
    "|Función                     | Descripción                                                                |\n",
    "|----------------------------|----------------------------------------------------------------------------|\n",
    "|**`re.search(re, string)`** | Encuentra la primera ocurrencia de un **`re`** en un string.               |\n",
    "|**`re.findall(re, string)`**| Encuentra todas las ocurrencias de un **`re`** en un string.               |\n",
    "|**`re.compile()`**          | Convierte un patron de **`regex`** de **`string`** a un objeto **`regex`**.|\n",
    "|**`re.split(re, string)`**  | Similar a **`.split()`** de python.                                        |\n",
    "|**`re.sub(re, string)`**    | Similar a **`.replace()`** de python.                                      |\n",
    "\n",
    "\n",
    "\n",
    "|regex       | Descripción|\n",
    "|------------|------------|\n",
    "|**`\\`**     | Marca de caractér especial.                                             |\n",
    "|**`.`**     | Cualquier caracter menos salto de linea.                                |\n",
    "|**`\\d`**    | Un dígito (0-9).                                                        |\n",
    "|**`\\D`**    | Alfabético (No dígito (0-9)).                                           |\n",
    "|**`\\w`**    | Cualquier caracter alfanumerico (a-z, A-Z, 0-9, \\_).                    |\n",
    "|**`\\W`**    | Cualquier caracter no alfanumerico.                                     |\n",
    "|**`\\s`**    | Caracter de tipo espacio (espacio, tabulador, salto de linea).          |\n",
    "|**`\\S`**    | Caracter diferente de tipo espacio (espacio, tabulador, salto de linea).|\n",
    "|**`\\b`**    | Principio o final de palabras.                                          |\n",
    "|**`\\B`**    | Opuesto al principio o final de palabras.                               |\n",
    "|**`^`**     | Comienzo de una linea.                                                  |\n",
    "|**`$`**     | Final de una linea.                                                     |\n",
    "|**`[]`**    | Conjunto de caracteres opcionales.                                      |\n",
    "|**`[^ ]`**  | Excluye caracteres opcionales.                                          |\n",
    "|**`\\|`**    | O inclusivo.                                                            |\n",
    "|**`( )`**   | Agrupar caracteres.                                                     |\n",
    "|**`*`**     | 0 o mas.                                                                |\n",
    "|**`+`**     | 1 o mas.                                                                |\n",
    "|**`?`**     | 0 o 1.                                                                  |\n",
    "|**`{3}`**   | Numero exacto.                                                          |\n",
    "|**`{3, 4}`**| Rango de numeros (Minimo, Maximo).                                      |"
   ]
  },
  {
   "cell_type": "code",
   "execution_count": 2,
   "id": "55836636",
   "metadata": {},
   "outputs": [],
   "source": [
    "import re"
   ]
  },
  {
   "cell_type": "code",
   "execution_count": 2,
   "id": "352e387d",
   "metadata": {},
   "outputs": [
    {
     "data": {
      "text/plain": [
       "<re.Match object; span=(11, 16), match='todos'>"
      ]
     },
     "execution_count": 2,
     "metadata": {},
     "output_type": "execute_result"
    }
   ],
   "source": [
    "# Para buscar (similar a find de listas)\n",
    "\n",
    "re.search(r\"todos\", \"Buen día a todos\")\n",
    "\n",
    "# Retorna un objeto \"re\" con los indices donde esta la coincidencia"
   ]
  },
  {
   "cell_type": "code",
   "execution_count": 3,
   "id": "69502dab",
   "metadata": {},
   "outputs": [
    {
     "data": {
      "text/plain": [
       "(11, 16)"
      ]
     },
     "execution_count": 3,
     "metadata": {},
     "output_type": "execute_result"
    }
   ],
   "source": [
    "# Para buscar (similar a find)\n",
    "\n",
    "re.search(r\"todos\", \"Buen día a todos\").span(0) \n",
    "\n",
    "# Con span(0) retorna los indices donde esta la coincidencia en una tupla"
   ]
  },
  {
   "cell_type": "code",
   "execution_count": 4,
   "id": "1b2411f3",
   "metadata": {},
   "outputs": [
    {
     "data": {
      "text/plain": [
       "['todos', 'todos']"
      ]
     },
     "execution_count": 4,
     "metadata": {},
     "output_type": "execute_result"
    }
   ],
   "source": [
    "# Realiza una busqueda de todas las ocurrencias\n",
    "\n",
    "re.findall(r\"todos\", \"Buen día a todos. Como todos los días hoy será un gran día\")\n",
    "\n",
    "# Retorna una lista con los elementos que encontró"
   ]
  },
  {
   "cell_type": "code",
   "execution_count": 5,
   "id": "9303b425",
   "metadata": {},
   "outputs": [
    {
     "data": {
      "text/plain": [
       "<callable_iterator at 0x1db94aeafd0>"
      ]
     },
     "execution_count": 5,
     "metadata": {},
     "output_type": "execute_result"
    }
   ],
   "source": [
    "# Similar a re.findall\n",
    "\n",
    "pattern  = re.compile(\"todos\")\n",
    "\n",
    "pattern.finditer(\"Buen día a todos. Como todos los días hoy será un gran día\")\n",
    "\n",
    "# .finditer() retorna un iterador (similar a un generador)"
   ]
  },
  {
   "cell_type": "code",
   "execution_count": 6,
   "id": "dde66fda",
   "metadata": {},
   "outputs": [
    {
     "name": "stdout",
     "output_type": "stream",
     "text": [
      "<re.Match object; span=(11, 16), match='todos'>\n",
      "(11, 16)\n",
      "todos\n",
      "******************************\n",
      "<re.Match object; span=(23, 28), match='todos'>\n",
      "(23, 28)\n",
      "todos\n",
      "******************************\n"
     ]
    }
   ],
   "source": [
    "pattern  = re.compile(\"todos\")\n",
    "iterador = pattern.finditer(\"Buen día a todos. Como todos los días hoy será un gran día\")\n",
    "\n",
    "for i in iterador:\n",
    "    print(f\"{i}\\n{i.span(0)}\\n{i.group(0)}\")\n",
    "    print(\"*\"*30)"
   ]
  },
  {
   "cell_type": "code",
   "execution_count": 7,
   "id": "eeec06aa",
   "metadata": {},
   "outputs": [
    {
     "data": {
      "text/plain": [
       "['Buen',\n",
       " 'día',\n",
       " 'a',\n",
       " 'todos.',\n",
       " 'Como',\n",
       " 'todos',\n",
       " 'los',\n",
       " 'días',\n",
       " 'hoy',\n",
       " 'será',\n",
       " 'un',\n",
       " 'gran',\n",
       " 'día.']"
      ]
     },
     "execution_count": 7,
     "metadata": {},
     "output_type": "execute_result"
    }
   ],
   "source": [
    "# Similar a .split()\n",
    "re.split(r\" \", \"Buen día a todos. Como todos los días hoy será un gran día.\")"
   ]
  },
  {
   "cell_type": "code",
   "execution_count": 8,
   "id": "6e17d60c",
   "metadata": {},
   "outputs": [
    {
     "data": {
      "text/plain": [
       "'Buen día a tod@s. Como tod@s los días hoy será un gran día.'"
      ]
     },
     "execution_count": 8,
     "metadata": {},
     "output_type": "execute_result"
    }
   ],
   "source": [
    "# Similar a replace\n",
    "re.sub(r\"todos\", \"tod@s\", \"Buen día a todos. Como todos los días hoy será un gran día.\")"
   ]
  },
  {
   "cell_type": "markdown",
   "id": "783577a3",
   "metadata": {},
   "source": [
    "#### Usando metacaracteres"
   ]
  },
  {
   "cell_type": "code",
   "execution_count": 9,
   "id": "cc0b580e",
   "metadata": {},
   "outputs": [
    {
     "data": {
      "text/plain": [
       "['a', 'a', 'a', 'a', 'a']"
      ]
     },
     "execution_count": 9,
     "metadata": {},
     "output_type": "execute_result"
    }
   ],
   "source": [
    "# Encuentra las vocales a\n",
    "\n",
    "re.findall(r\"a\", \"Buen día a todos. Como todos los días hoy será un gran día\")"
   ]
  },
  {
   "cell_type": "code",
   "execution_count": 10,
   "id": "44fc5328",
   "metadata": {},
   "outputs": [
    {
     "data": {
      "text/plain": [
       "['e', 'a', 'a', 'a', 'e', 'a', 'a']"
      ]
     },
     "execution_count": 10,
     "metadata": {},
     "output_type": "execute_result"
    }
   ],
   "source": [
    "# Encuentra las vocales a y e\n",
    "\n",
    "re.findall(r\"[ae]\", \"Buen día a todos. Como todos los días hoy será un gran día\")"
   ]
  },
  {
   "cell_type": "code",
   "execution_count": 11,
   "id": "a276be73",
   "metadata": {},
   "outputs": [
    {
     "data": {
      "text/plain": [
       "['u',\n",
       " 'e',\n",
       " 'a',\n",
       " 'a',\n",
       " 'o',\n",
       " 'o',\n",
       " 'o',\n",
       " 'o',\n",
       " 'o',\n",
       " 'o',\n",
       " 'o',\n",
       " 'a',\n",
       " 'o',\n",
       " 'e',\n",
       " 'u',\n",
       " 'a',\n",
       " 'a']"
      ]
     },
     "execution_count": 11,
     "metadata": {},
     "output_type": "execute_result"
    }
   ],
   "source": [
    "# Encuentra todas las vocales\n",
    "\n",
    "re.findall(r\"[aeiou]\", \"Buen día a todos. Como todos los días hoy será un gran día\")"
   ]
  },
  {
   "cell_type": "code",
   "execution_count": 12,
   "id": "d0b3a46a",
   "metadata": {},
   "outputs": [
    {
     "data": {
      "text/plain": [
       "['todos', 'todas', 'todes', 'tod@s']"
      ]
     },
     "execution_count": 12,
     "metadata": {},
     "output_type": "execute_result"
    }
   ],
   "source": [
    "# El punto indica cualquier elemento\n",
    "\n",
    "re.findall(r\"tod.s\", \"todos, todas, todes, tod@s\")"
   ]
  },
  {
   "cell_type": "code",
   "execution_count": 13,
   "id": "6168b4b4",
   "metadata": {},
   "outputs": [
    {
     "data": {
      "text/plain": [
       "['B', 'C']"
      ]
     },
     "execution_count": 13,
     "metadata": {},
     "output_type": "execute_result"
    }
   ],
   "source": [
    "# Encuentra todas las mayusculas a través de un rango\n",
    "\n",
    "re.findall(r\"[A-Z]\", \"Buen día a todos. Como todos los días hoy será un gran día\")"
   ]
  },
  {
   "cell_type": "code",
   "execution_count": 15,
   "id": "10b8293f",
   "metadata": {
    "scrolled": true
   },
   "outputs": [
    {
     "data": {
      "text/plain": [
       "['u',\n",
       " 'e',\n",
       " 'n',\n",
       " 'd',\n",
       " 'a',\n",
       " 'a',\n",
       " 't',\n",
       " 'o',\n",
       " 'd',\n",
       " 'o',\n",
       " 's',\n",
       " 'o',\n",
       " 'm',\n",
       " 'o',\n",
       " 't',\n",
       " 'o',\n",
       " 'd',\n",
       " 'o',\n",
       " 's',\n",
       " 'l',\n",
       " 'o',\n",
       " 's',\n",
       " 'd',\n",
       " 'a',\n",
       " 's',\n",
       " 'h',\n",
       " 'o',\n",
       " 'y',\n",
       " 's',\n",
       " 'e',\n",
       " 'r',\n",
       " 'u',\n",
       " 'n',\n",
       " 'g',\n",
       " 'r',\n",
       " 'a',\n",
       " 'n',\n",
       " 'd',\n",
       " 'a']"
      ]
     },
     "execution_count": 15,
     "metadata": {},
     "output_type": "execute_result"
    }
   ],
   "source": [
    "#Encuentra todas las minusculas a través de un rango\n",
    "\n",
    "re.findall(r\"[a-z]\", \"Buen día a todos. Como todos los días hoy será un gran día\")"
   ]
  },
  {
   "cell_type": "markdown",
   "id": "8eb5d112",
   "metadata": {},
   "source": [
    "**Las expresiones regulares se pueden concatenar para formar nuevas expresiones regulares; si A y B son expresiones regulares, AB también es una expresión regular. En general, si una cadena p coincide con A y otra cadena q coincide con B , la cadena \"pq\" coincidirá con AB**"
   ]
  },
  {
   "cell_type": "code",
   "execution_count": 18,
   "id": "d1abcb84",
   "metadata": {},
   "outputs": [
    {
     "data": {
      "text/plain": [
       "['Bu', 'Co']"
      ]
     },
     "execution_count": 18,
     "metadata": {},
     "output_type": "execute_result"
    }
   ],
   "source": [
    "# Encuentra todas las mayusculas a través de un rango seguido de una minuscula\n",
    "\n",
    "re.findall(r\"[A-Z][a-z]\", \"Buen día a todos. Como todos los días hoy será un gran día\")"
   ]
  },
  {
   "cell_type": "code",
   "execution_count": 19,
   "id": "495d7623",
   "metadata": {},
   "outputs": [
    {
     "data": {
      "text/plain": [
       "['Buen', 'Como']"
      ]
     },
     "execution_count": 19,
     "metadata": {},
     "output_type": "execute_result"
    }
   ],
   "source": [
    "# Encuentra todas las mayusculas a través de un rango seguido de 3 minusculas\n",
    "\n",
    "re.findall(r\"[A-Z][a-z][a-z][a-z]\", \"Buen día a todos. Como todos los días hoy será un gran día\")"
   ]
  },
  {
   "cell_type": "code",
   "execution_count": 21,
   "id": "efc7649c",
   "metadata": {},
   "outputs": [
    {
     "data": {
      "text/plain": [
       "['3', '1']"
      ]
     },
     "execution_count": 21,
     "metadata": {},
     "output_type": "execute_result"
    }
   ],
   "source": [
    "# Encuentra números\n",
    "\n",
    "re.findall(r\"[0-9]\", \"El 31 de diciembre es noche vieja\")"
   ]
  },
  {
   "cell_type": "code",
   "execution_count": 18,
   "id": "b7fb81ca",
   "metadata": {},
   "outputs": [
    {
     "data": {
      "text/plain": [
       "['3', '1']"
      ]
     },
     "execution_count": 18,
     "metadata": {},
     "output_type": "execute_result"
    }
   ],
   "source": [
    "# Encuentra números\n",
    "\n",
    "re.findall(r\"[\\d]\", \"El 31 de diciembre es noche vieja\")"
   ]
  },
  {
   "cell_type": "code",
   "execution_count": 22,
   "id": "7279fed7",
   "metadata": {},
   "outputs": [
    {
     "data": {
      "text/plain": [
       "['E',\n",
       " 'l',\n",
       " ' ',\n",
       " ' ',\n",
       " 'd',\n",
       " 'e',\n",
       " ' ',\n",
       " 'd',\n",
       " 'i',\n",
       " 'c',\n",
       " 'i',\n",
       " 'e',\n",
       " 'm',\n",
       " 'b',\n",
       " 'r',\n",
       " 'e',\n",
       " ' ',\n",
       " 'e',\n",
       " 's',\n",
       " ' ',\n",
       " 'n',\n",
       " 'o',\n",
       " 'c',\n",
       " 'h',\n",
       " 'e',\n",
       " ' ',\n",
       " 'v',\n",
       " 'i',\n",
       " 'e',\n",
       " 'j',\n",
       " 'a']"
      ]
     },
     "execution_count": 22,
     "metadata": {},
     "output_type": "execute_result"
    }
   ],
   "source": [
    "# Que NO coincida con un número\n",
    "\n",
    "re.findall(r\"[^0-9]\", \"El 31 de diciembre es noche vieja\")"
   ]
  },
  {
   "cell_type": "code",
   "execution_count": 23,
   "id": "3f26074b",
   "metadata": {},
   "outputs": [
    {
     "data": {
      "text/plain": [
       "['E',\n",
       " 'l',\n",
       " ' ',\n",
       " ' ',\n",
       " 'd',\n",
       " 'e',\n",
       " ' ',\n",
       " 'd',\n",
       " 'i',\n",
       " 'c',\n",
       " 'i',\n",
       " 'e',\n",
       " 'm',\n",
       " 'b',\n",
       " 'r',\n",
       " 'e',\n",
       " ' ',\n",
       " 'e',\n",
       " 's',\n",
       " ' ',\n",
       " 'n',\n",
       " 'o',\n",
       " 'c',\n",
       " 'h',\n",
       " 'e',\n",
       " ' ',\n",
       " 'v',\n",
       " 'i',\n",
       " 'e',\n",
       " 'j',\n",
       " 'a']"
      ]
     },
     "execution_count": 23,
     "metadata": {},
     "output_type": "execute_result"
    }
   ],
   "source": [
    "# Similar a [^0-9]\n",
    "\n",
    "re.findall(r\"[\\D]\", \"El 31 de diciembre es noche vieja\")"
   ]
  },
  {
   "cell_type": "code",
   "execution_count": 77,
   "id": "09bcd304",
   "metadata": {},
   "outputs": [
    {
     "data": {
      "text/plain": [
       "['31']"
      ]
     },
     "execution_count": 77,
     "metadata": {},
     "output_type": "execute_result"
    }
   ],
   "source": [
    "# Encuentra un número con 2 dígitos\n",
    "\n",
    "re.findall(r\"[0-9][0-9]\", \"El 31 de diciembre es noche vieja\")"
   ]
  },
  {
   "cell_type": "code",
   "execution_count": 76,
   "id": "f95cec2c",
   "metadata": {},
   "outputs": [
    {
     "data": {
      "text/plain": [
       "['31']"
      ]
     },
     "execution_count": 76,
     "metadata": {},
     "output_type": "execute_result"
    }
   ],
   "source": [
    "# Encuentra un número con 2 dígitos\n",
    "\n",
    "re.findall(r\"[\\d][\\d]\", \"El 31 de diciembre es noche vieja\")"
   ]
  },
  {
   "cell_type": "code",
   "execution_count": 26,
   "id": "8b2b3c17",
   "metadata": {},
   "outputs": [
    {
     "data": {
      "text/plain": [
       "['#', '@', '#']"
      ]
     },
     "execution_count": 26,
     "metadata": {},
     "output_type": "execute_result"
    }
   ],
   "source": [
    "# Encuentra todos los elementos que no sean números, letras ni espacios\n",
    "\n",
    "re.findall(r\"[^a-zA-Z0-9\\s]\", \"De #Vacaciones con @MiAmigo en la #Playa\")"
   ]
  },
  {
   "cell_type": "code",
   "execution_count": 27,
   "id": "eefb5dbd",
   "metadata": {},
   "outputs": [
    {
     "data": {
      "text/plain": [
       "['#', '@', '#']"
      ]
     },
     "execution_count": 27,
     "metadata": {},
     "output_type": "execute_result"
    }
   ],
   "source": [
    "# Encuentra todos los hashtag\n",
    "\n",
    "re.findall(r\"[^\\w\\s]\", \"De #Vacaciones con @MiAmigo en la #Playa\")"
   ]
  },
  {
   "cell_type": "code",
   "execution_count": 25,
   "id": "873179b9",
   "metadata": {},
   "outputs": [
    {
     "data": {
      "text/plain": [
       "['Vacaciones', 'MiAmigo', 'Playa']"
      ]
     },
     "execution_count": 25,
     "metadata": {},
     "output_type": "execute_result"
    }
   ],
   "source": [
    "# Encuentra todos los hashtag y arrobas\n",
    "\n",
    "re.findall(r\"[^a-zA-Z0-9\\s](\\w+)\", \"De #Vacaciones con @MiAmigo en la #Playa\")"
   ]
  },
  {
   "cell_type": "code",
   "execution_count": 28,
   "id": "bd779e9c",
   "metadata": {},
   "outputs": [
    {
     "data": {
      "text/plain": [
       "['Vacaciones', 'Playa']"
      ]
     },
     "execution_count": 28,
     "metadata": {},
     "output_type": "execute_result"
    }
   ],
   "source": [
    "# Encuentra todos los hashtag\n",
    "re.findall(r\"#(\\w+)\", \"De #Vacaciones con @MiAmigo en la #Playa\")"
   ]
  },
  {
   "cell_type": "code",
   "execution_count": 29,
   "id": "0bf5c76d",
   "metadata": {},
   "outputs": [
    {
     "data": {
      "text/plain": [
       "['MiAmigo']"
      ]
     },
     "execution_count": 29,
     "metadata": {},
     "output_type": "execute_result"
    }
   ],
   "source": [
    "# Encuentra todos los arrobas\n",
    "re.findall(r\"@(\\w+)\", \"De #Vacaciones con @MiAmigo en la #Playa\")"
   ]
  },
  {
   "cell_type": "markdown",
   "id": "c70209c3",
   "metadata": {},
   "source": [
    "### Ejercicios:\n",
    "- Crea las **`regex`** para encontrar lo siguiente y describe que trabajo realizan los **`metacaracteres`**:\n",
    "1. Un número telefonico de España\n",
    "2. Un hashtag que comience con un número en lugar de una letra\n",
    "3. Un hashtag que comience con un número o letra\n",
    "4. Un número impar de dos dígitos\n",
    "5. Palabras que comiencen con \"_\"\n",
    "6. Palabras que comiencen con \"\\\\\"\n",
    "7. Palabras que tengan la siguiente estructura: \"<....>\" (menor que al inicio y mayor que la final).\n",
    "8. Palabras que contengan un número al final\n",
    "9. Un correo electronico de gmail.com\n",
    "10. Cualquier correo electronico que termine en .com"
   ]
  },
  {
   "cell_type": "code",
   "execution_count": 61,
   "id": "78c9e38b",
   "metadata": {},
   "outputs": [
    {
     "data": {
      "text/plain": [
       "['+34 000 00 00 00']"
      ]
     },
     "execution_count": 61,
     "metadata": {},
     "output_type": "execute_result"
    }
   ],
   "source": [
    "# 1 Un número telefonico de España\n",
    "re.findall(r\"\\+34[\\s]\\d{3}(?:[\\s]\\d{2}){3}\", \"+34 000 00 00 00\")"
   ]
  },
  {
   "cell_type": "code",
   "execution_count": 62,
   "id": "9d6b8374-3aff-478a-bfaa-e829bee8e636",
   "metadata": {},
   "outputs": [
    {
     "data": {
      "text/plain": [
       "['+34 614 14 91 12',\n",
       " '+34 670 12 81 88',\n",
       " '+34 664 18 23 63',\n",
       " '+34 617 87 94 46',\n",
       " '+34 685 55 74 62',\n",
       " '+34 645 47 95 54',\n",
       " '+34 650 86 85 49',\n",
       " '+34 644 15 45 17',\n",
       " '+34 630 59 26 87',\n",
       " '+34 684 93 36 78',\n",
       " '+34 695 32 80 41',\n",
       " '+34 600 92 54 96',\n",
       " '+34 668 49 88 89',\n",
       " '+34 664 35 35 16',\n",
       " '+34 658 13 74 62',\n",
       " '+34 628 30 51 69',\n",
       " '+34 633 93 87 38',\n",
       " '+34 655 33 45 44',\n",
       " '+34 663 83 45 97',\n",
       " '+34 698 99 18 20',\n",
       " '+34 614 76 73 81',\n",
       " '+34 650 75 33 48',\n",
       " '+34 634 83 33 81',\n",
       " '+34 624 20 52 75',\n",
       " '+34 695 88 90 34',\n",
       " '+34 657 45 64 53',\n",
       " '+34 637 72 62 63',\n",
       " '+34 632 15 77 27',\n",
       " '+34 647 42 38 10',\n",
       " '+34 641 62 20 19',\n",
       " '+34 601 28 85 17',\n",
       " '+34 634 26 16 47',\n",
       " '+34 636 97 10 30',\n",
       " '+34 662 30 28 91',\n",
       " '+34 640 88 24 79',\n",
       " '+34 695 69 83 62',\n",
       " '+34 622 34 72 87',\n",
       " '+34 671 17 48 10',\n",
       " '+34 609 34 83 50',\n",
       " '+34 644 90 96 75',\n",
       " '+34 673 66 47 38',\n",
       " '+34 610 44 40 35',\n",
       " '+34 668 81 58 96',\n",
       " '+34 665 66 77 62',\n",
       " '+34 667 60 75 86',\n",
       " '+34 655 11 65 26',\n",
       " '+34 604 61 69 91',\n",
       " '+34 699 21 29 10',\n",
       " '+34 600 11 64 55',\n",
       " '+34 642 71 88 45',\n",
       " '+34 680 89 10 54',\n",
       " '+34 661 39 12 14',\n",
       " '+34 699 12 98 87',\n",
       " '+34 676 93 82 22',\n",
       " '+34 627 54 55 92',\n",
       " '+34 639 25 80 87',\n",
       " '+34 640 76 33 91',\n",
       " '+34 661 63 78 32',\n",
       " '+34 644 34 24 13',\n",
       " '+34 658 95 89 26',\n",
       " '+34 667 18 49 89',\n",
       " '+34 623 88 65 13',\n",
       " '+34 687 32 84 88',\n",
       " '+34 633 86 43 97',\n",
       " '+34 623 84 47 21',\n",
       " '+34 666 39 85 50',\n",
       " '+34 685 30 83 72',\n",
       " '+34 684 17 57 74',\n",
       " '+34 661 85 59 21',\n",
       " '+34 643 79 34 66',\n",
       " '+34 613 71 52 14',\n",
       " '+34 629 62 54 46',\n",
       " '+34 667 69 63 83',\n",
       " '+34 692 75 61 45',\n",
       " '+34 656 79 21 38',\n",
       " '+34 663 66 11 90',\n",
       " '+34 611 74 97 57',\n",
       " '+34 631 63 85 96',\n",
       " '+34 607 21 76 33',\n",
       " '+34 666 79 35 27',\n",
       " '+34 603 70 78 45',\n",
       " '+34 694 19 13 59',\n",
       " '+34 650 17 63 65',\n",
       " '+34 631 50 76 51',\n",
       " '+34 650 10 53 71',\n",
       " '+34 618 54 56 51',\n",
       " '+34 668 24 95 72',\n",
       " '+34 625 62 87 91',\n",
       " '+34 673 45 45 42',\n",
       " '+34 654 77 78 48',\n",
       " '+34 695 36 98 78',\n",
       " '+34 622 73 55 83',\n",
       " '+34 612 16 19 52',\n",
       " '+34 623 55 24 95',\n",
       " '+34 633 62 21 72',\n",
       " '+34 673 99 39 85',\n",
       " '+34 627 46 53 35',\n",
       " '+34 656 63 89 29',\n",
       " '+34 663 56 48 86',\n",
       " '+34 622 64 77 65']"
      ]
     },
     "execution_count": 62,
     "metadata": {},
     "output_type": "execute_result"
    }
   ],
   "source": [
    "from random import randint\n",
    "\n",
    "numeros = \" \".join([f\"+34 {randint(600, 699)} {randint(10, 99)} {randint(10, 99)} {randint(10, 99)}\" for i in range(100)])\n",
    "\n",
    "re.findall(r\"\\+34[\\s]\\d{3}(?:[\\s]\\d{2}){3}\", numeros)"
   ]
  },
  {
   "cell_type": "code",
   "execution_count": 63,
   "id": "50f1d2ea-2835-428a-ac8e-a32c62565939",
   "metadata": {},
   "outputs": [
    {
     "data": {
      "text/plain": [
       "['#2Marzo', '#1Marzo', '#2']"
      ]
     },
     "execution_count": 63,
     "metadata": {},
     "output_type": "execute_result"
    }
   ],
   "source": [
    "# 2 Un hashtag que comience con un número en lugar de una letra\n",
    "re.findall(r\"#\\d\\w*\", \"#2Marzo #1Marzo #Marzo #2\")"
   ]
  },
  {
   "cell_type": "code",
   "execution_count": 64,
   "id": "772a4e1b-7974-4509-a5d1-030e5ff0c5ad",
   "metadata": {},
   "outputs": [
    {
     "data": {
      "text/plain": [
       "['1Hola', 'Hola1']"
      ]
     },
     "execution_count": 64,
     "metadata": {},
     "output_type": "execute_result"
    }
   ],
   "source": [
    "# 3 Un hashtag que comience con un número o letra\n",
    "re.findall(r\"#(\\w+)\" , \"#1Hola #Hola1 #.Hola\")"
   ]
  },
  {
   "cell_type": "code",
   "execution_count": 92,
   "id": "0e2e8f20-02af-4776-aef5-4b57ca41e95d",
   "metadata": {},
   "outputs": [
    {
     "data": {
      "text/plain": [
       "['15', '23']"
      ]
     },
     "execution_count": 92,
     "metadata": {},
     "output_type": "execute_result"
    }
   ],
   "source": [
    "# 4 Un número impar de dos dígitos\n",
    "re.findall(r\"\\d[13579]\", \"54 12 1 15 14 16 22 23\")"
   ]
  },
  {
   "cell_type": "code",
   "execution_count": 66,
   "id": "437d4d1f-74ec-46fd-917c-55ad0b262447",
   "metadata": {},
   "outputs": [
    {
     "data": {
      "text/plain": [
       "['Hola', 'Adios']"
      ]
     },
     "execution_count": 66,
     "metadata": {},
     "output_type": "execute_result"
    }
   ],
   "source": [
    "# 5 Palabras que comiencen con \"_\"\n",
    "re.findall(r\"_(\\w+)\", \"_Hola _Adios No\")"
   ]
  },
  {
   "cell_type": "code",
   "execution_count": 93,
   "id": "b397034e-b601-464d-a8b1-84b543760d47",
   "metadata": {},
   "outputs": [
    {
     "data": {
      "text/plain": [
       "['Hola', 'Adios']"
      ]
     },
     "execution_count": 93,
     "metadata": {},
     "output_type": "execute_result"
    }
   ],
   "source": [
    "# 6 Palabras que comiencen con \"\\\"\n",
    "re.findall(r\"\\\\(\\w+)\", \"\\Hola \\Adios No\")"
   ]
  },
  {
   "cell_type": "code",
   "execution_count": 82,
   "id": "f6fe1e83-f39e-4548-a2b0-b6d740b6faee",
   "metadata": {},
   "outputs": [
    {
     "data": {
      "text/plain": [
       "['Hola', 'Adios']"
      ]
     },
     "execution_count": 82,
     "metadata": {},
     "output_type": "execute_result"
    }
   ],
   "source": [
    "# 7 Palabras que tengan la siguiente estructura: \"<....>\" (menor que al inicio y mayor que la final).\n",
    "re.findall(r\"<(\\w+)>\", \"<Hola> <Adios> <No\")\n"
   ]
  },
  {
   "cell_type": "code",
   "execution_count": 83,
   "id": "4ddc3ba9-cae6-4aee-b165-cc16a14b4353",
   "metadata": {},
   "outputs": [
    {
     "data": {
      "text/plain": [
       "['Hola', 'Adios']"
      ]
     },
     "execution_count": 83,
     "metadata": {},
     "output_type": "execute_result"
    }
   ],
   "source": [
    "# 8 Palabras que contengan un número al final\n",
    "re.findall(r\"(\\w+)\\d\", \"Hola1 Adios2 No\")"
   ]
  },
  {
   "cell_type": "code",
   "execution_count": 109,
   "id": "12eac949-f08c-49b8-9e9d-4b419c852e5a",
   "metadata": {},
   "outputs": [
    {
     "data": {
      "text/plain": [
       "['albertojorio@gmail.com', 'hola@gmail.com']"
      ]
     },
     "execution_count": 109,
     "metadata": {},
     "output_type": "execute_result"
    }
   ],
   "source": [
    "# 9 Un correo electronico de gmail.com\n",
    "re.findall(r\"\\w+.gmail.com\", \"albertojorio@gmail.com hola@gmail.com no@hotmail.com\")\n"
   ]
  },
  {
   "cell_type": "code",
   "execution_count": 1,
   "id": "6c0eb58d-1e92-4b42-b2a7-e19d9eb5ef6e",
   "metadata": {},
   "outputs": [
    {
     "ename": "NameError",
     "evalue": "name 're' is not defined",
     "output_type": "error",
     "traceback": [
      "\u001b[1;31m---------------------------------------------------------------------------\u001b[0m",
      "\u001b[1;31mNameError\u001b[0m                                 Traceback (most recent call last)",
      "\u001b[1;32m~\\AppData\\Local\\Temp/ipykernel_1628/4016978954.py\u001b[0m in \u001b[0;36m<module>\u001b[1;34m\u001b[0m\n\u001b[0;32m      1\u001b[0m \u001b[1;31m# 10 Cualquier correo electronico que termine en .com\u001b[0m\u001b[1;33m\u001b[0m\u001b[1;33m\u001b[0m\u001b[0m\n\u001b[1;32m----> 2\u001b[1;33m \u001b[0mre\u001b[0m\u001b[1;33m.\u001b[0m\u001b[0mfindall\u001b[0m\u001b[1;33m(\u001b[0m\u001b[1;34mr\"\\w+@\\w+\\.\\w+.com\"\u001b[0m\u001b[1;33m,\u001b[0m \u001b[1;34m\"albertojorio@hotmail.com hola@yahoo.com no@hotmail.es\"\u001b[0m\u001b[1;33m)\u001b[0m\u001b[1;33m\u001b[0m\u001b[1;33m\u001b[0m\u001b[0m\n\u001b[0m",
      "\u001b[1;31mNameError\u001b[0m: name 're' is not defined"
     ]
    }
   ],
   "source": [
    "# 10 Cualquier correo electronico que termine en .com\n",
    "re.findall(r\"\\w+@\\w+\\.\\w+.com\", \"albertojorio@hotmail.com hola@yahoo.com no@hotmail.es\")\n"
   ]
  },
  {
   "cell_type": "code",
   "execution_count": null,
   "id": "25731ff5-6c38-45e1-b79d-4d094f2058fb",
   "metadata": {},
   "outputs": [],
   "source": []
  }
 ],
 "metadata": {
  "kernelspec": {
   "display_name": "Python 3 (ipykernel)",
   "language": "python",
   "name": "python3"
  },
  "language_info": {
   "codemirror_mode": {
    "name": "ipython",
    "version": 3
   },
   "file_extension": ".py",
   "mimetype": "text/x-python",
   "name": "python",
   "nbconvert_exporter": "python",
   "pygments_lexer": "ipython3",
   "version": "3.9.7"
  }
 },
 "nbformat": 4,
 "nbformat_minor": 5
}
